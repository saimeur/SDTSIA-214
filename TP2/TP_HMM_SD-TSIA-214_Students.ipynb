{
 "cells": [
  {
   "cell_type": "markdown",
   "metadata": {},
   "source": [
    "# Text segmentation using Hidden Markov Models"
   ]
  },
  {
   "cell_type": "markdown",
   "metadata": {},
   "source": [
    "## Theoric question : \n",
    "\n",
    "\n",
    "This Lab aims to build an email segmentation tool, dedicated to separate the email header from its body. It is proposed to perform this task by learning a HMM $(A, B, \\pi)$ with two states, one (state $1$) for the header, the other (state $2$) for the body. In this model, it is assumed that each mail actually contains a header: the decoding necessarily begins in state $1$.\n",
    "\n",
    "$\\textbf{Q1 :}$ Give the value of the $\\pi$ vector of the initial probabilities.\n",
    "\n",
    "\n",
    "Knowing that each mail contains exactly one header and one body, each mail follows once the transition from $1$ to $2$. The transition matrix $(A(i, j) = P(j|i))$ estimated on a labeled small corpus has thus the following form: \n",
    "\n",
    "\n",
    " $$A = \\begin{pmatrix} 0.999218078035812 & 0.000781921964187974 \\\\ 0 & 1 \\end{pmatrix}$$\n",
    "\n"
   ]
  },
  {
   "cell_type": "markdown",
   "metadata": {},
   "source": [
    "<div class='alert alert-block alert-warning'>\n",
    "            Answer:</div>\n",
    "\n",
    "This : \"In this model, it is assumed that each mail actually contains a header: the decoding necessarily begins in state $1$.\"\n",
    "\n",
    "Implies that $\\pi = \\begin{pmatrix} 1 & 0 \\end{pmatrix}$\n"
   ]
  },
  {
   "cell_type": "markdown",
   "metadata": {},
   "source": [
    "$\\textbf{Q2 :}$ What is the probability to move from state 1 to state 2 ? What is the probability\n",
    "to remain in state 2 ? What is the lower/higher probability ? Try to explain why"
   ]
  },
  {
   "cell_type": "markdown",
   "metadata": {},
   "source": [
    "<div class='alert alert-block alert-warning'>\n",
    "            Answer:</div>\n",
    "Probability to move from state 1 to state 2 = 0.000781921964187974\n",
    "\n",
    "Probability to remain in state 2 = 1 \n",
    "\n",
    "lower/higher probability = 0/1"
   ]
  },
  {
   "cell_type": "markdown",
   "metadata": {},
   "source": [
    "A mail is represented by a sequence of characters. Let N be the number of different characters. Each\n",
    "part of the mail is characterized by a discrete probability distribution on the characters P(c|s), with s = 1\n",
    "or s = 2.\n",
    "\n",
    "$\\textbf{Q3 :}$ What is the size of B ?"
   ]
  },
  {
   "cell_type": "markdown",
   "metadata": {},
   "source": [
    "<div class='alert alert-block alert-warning'>\n",
    "            Answer:</div>\n",
    "B is of size (2, N)"
   ]
  },
  {
   "cell_type": "code",
   "execution_count": 2,
   "metadata": {},
   "outputs": [],
   "source": [
    "import os\n",
    "import glob\n",
    "import numpy as np"
   ]
  },
  {
   "cell_type": "code",
   "execution_count": 3,
   "metadata": {},
   "outputs": [
    {
     "name": "stdout",
     "output_type": "stream",
     "text": [
      "c:\\Users\\samai\\Dev\\SD-TSIA214\\TP2 c:\\Users\\samai\\Dev\\SD-TSIA214\\TP2\\PerlScriptAndModel c:\\Users\\samai\\Dev\\SD-TSIA214\\TP2\\res\n"
     ]
    }
   ],
   "source": [
    "ROOT = os.path.abspath('.')\n",
    "\n",
    "PERL_DIR = os.path.join(ROOT,'PerlScriptAndModel')\n",
    "RES_DIR = os.path.join(ROOT,'res')\n",
    "\n",
    "print(ROOT, PERL_DIR, RES_DIR)"
   ]
  },
  {
   "cell_type": "code",
   "execution_count": 4,
   "metadata": {},
   "outputs": [
    {
     "data": {
      "text/plain": [
       "['dat',\n",
       " 'PerlScriptAndModel',\n",
       " 'TP_HMM_English.pdf',\n",
       " 'TP_HMM_SD-TSIA-214_Students.ipynb',\n",
       " 'visualize_segmentation.py']"
      ]
     },
     "execution_count": 4,
     "metadata": {},
     "output_type": "execute_result"
    }
   ],
   "source": [
    "glob.glob('*',recursive=True)"
   ]
  },
  {
   "cell_type": "markdown",
   "metadata": {},
   "source": [
    "### Coding/Decoding Mails"
   ]
  },
  {
   "cell_type": "code",
   "execution_count": 156,
   "metadata": {},
   "outputs": [],
   "source": [
    "DATA_DIR = os.path.join(ROOT,'dat')\n",
    "\n",
    "# Iterate through files and load the text \n",
    "def files_iter(data_dir, with_name=False):\n",
    "    files = glob.glob('{}/*.dat'.format((data_dir)))\n",
    "    if with_name:\n",
    "        for f in files:\n",
    "            # Get the filename \n",
    "            name = f.split('\\\\')[-1].split('.')[0]\n",
    "            # Return filename and associated text\n",
    "            yield name, np.loadtxt(f).astype(int)\n",
    "    else:\n",
    "        for f in files :\n",
    "            yield np.loadtxt(f).astype(int)"
   ]
  },
  {
   "cell_type": "code",
   "execution_count": 163,
   "metadata": {},
   "outputs": [],
   "source": [
    "# And we get a generator that will allow us to iterate through the mails\n",
    "mail_iter = files_iter(DATA_DIR, with_name=True)"
   ]
  },
  {
   "cell_type": "code",
   "execution_count": 164,
   "metadata": {},
   "outputs": [
    {
     "name": "stdout",
     "output_type": "stream",
     "text": [
      "mail1 (5216,)\n"
     ]
    }
   ],
   "source": [
    "for name, mail in mail_iter:\n",
    "    print(name, mail.shape)\n",
    "    break"
   ]
  },
  {
   "cell_type": "markdown",
   "metadata": {},
   "source": [
    "### Distribution files"
   ]
  },
  {
   "cell_type": "code",
   "execution_count": 34,
   "metadata": {},
   "outputs": [
    {
     "data": {
      "text/plain": [
       "(2, 256)"
      ]
     },
     "execution_count": 34,
     "metadata": {},
     "output_type": "execute_result"
    }
   ],
   "source": [
    "PERL_DIR = os.path.join(ROOT,'PerlScriptAndModel/P.text')\n",
    "\n",
    "# Writing a function to get the probability data\n",
    "def get_emission_prob(perl_dir):\n",
    "    return np.loadtxt(perl_dir).T\n"
   ]
  },
  {
   "cell_type": "code",
   "execution_count": 212,
   "metadata": {},
   "outputs": [
    {
     "data": {
      "text/plain": [
       "array([[-7.82217817e-04, -7.15374282e+00],\n",
       "       [-1.84206807e+01,  9.99999989e-09]])"
      ]
     },
     "execution_count": 212,
     "metadata": {},
     "output_type": "execute_result"
    }
   ],
   "source": [
    "# Inputs to the Viterbi function\n",
    "trans = np.array([[0.999218078035812, 0.000781921964187974],[0,1]])\n",
    "emission_prob = get_emission_prob(PERL_DIR)\n",
    "states = [0,1]\n",
    "start_prob = np.array([1,0])\n",
    "np.log(trans+10**(-8))"
   ]
  },
  {
   "cell_type": "markdown",
   "metadata": {},
   "source": [
    "### To implement:"
   ]
  },
  {
   "cell_type": "code",
   "execution_count": 214,
   "metadata": {},
   "outputs": [],
   "source": [
    "# Viterbi function\n",
    "def viterbi(obs, states, start_prob, trans, emission_prob):\n",
    "    \"\"\"\n",
    "        Viterbi Algorithm Implementation\n",
    "\n",
    "        Keyword arguments:\n",
    "            - obs: sequence of observation\n",
    "            - states:list of states\n",
    "            - start_prob:vector of the initial probabilities\n",
    "            - trans: transition matrix\n",
    "            - emission_prob: emission probability matrix\n",
    "        Returns:\n",
    "            - seq: sequence of state\n",
    "    \"\"\"\n",
    "\n",
    "    # Avoid underflow: use the logarithm !\n",
    "    # Avoid 0 in logarithm: use a small constant !\n",
    "    small = 10**(-15)\n",
    "    \n",
    "    start_prob = np.log(start_prob + small)\n",
    "    trans = np.log(trans+small)\n",
    "    emission_prob = np.log(emission_prob+small)\n",
    "\n",
    "    T = len(obs) # Number of observations\n",
    "    N = len(start_prob) # Number of model states\n",
    "\n",
    "    # Initialisation\n",
    "    log_l = np.full((T, N), -np.inf)\n",
    "    bcktr = np.zeros((T, N))\n",
    "    \n",
    "    # Viterbi\n",
    "    # Forward loop:\n",
    "    for s in states:\n",
    "        log_l[0,s] = start_prob[s] + emission_prob[s,obs[0]]\n",
    "    for t in range(1,T):\n",
    "        for s in states:\n",
    "            for r in states:\n",
    "                new_prob = log_l[t-1,r]+trans[r,s]+emission_prob[s,obs[t]]\n",
    "                if new_prob > log_l[t,s]:\n",
    "                    log_l[t,s] = new_prob\n",
    "                    bcktr[t,s] = r\n",
    "    # Backward loop\n",
    "    path = np.zeros(T, dtype=int)\n",
    "    path[-1] = np.argmax(log_l[-1,:])\n",
    "    for i in range(T-1, 0, -1):\n",
    "        path[i - 1] = bcktr[i, path[i]]\n",
    "    return path"
   ]
  },
  {
   "cell_type": "code",
   "execution_count": 174,
   "metadata": {},
   "outputs": [],
   "source": [
    "RES_DIR = os.path.join(ROOT,'res')\n",
    "\n",
    "# Creating a directory to put the result of the viterbi function\n",
    "if not os.path.exists(RES_DIR):\n",
    "    os.mkdir(RES_DIR)\n",
    "    \n",
    "# Function that will write a viterbi path for a mail in a dedicated result file\n",
    "def create_viterbi_path_file(mail_name, viterbi_path):\n",
    "    with open('{}/{}_path.txt'.format(RES_DIR, mail_name), 'w') as f: \n",
    "        f.write(''.join([str(c) for c in viterbi_path]))  "
   ]
  },
  {
   "cell_type": "code",
   "execution_count": 215,
   "metadata": {},
   "outputs": [],
   "source": [
    "# Using our generator, we get the mail names and data\n",
    "# And we get a generator that will allow us to iterate through the mails\n",
    "mail_iter = files_iter(DATA_DIR, with_name=True)\n",
    "for name_file, data in mail_iter:\n",
    "    # Find out the viterbi path using viterbi\n",
    "    viterbi_path = viterbi(data,states,start_prob,trans,emission_prob)\n",
    "    # Put it in the result file\n",
    "    create_viterbi_path_file(name_file, viterbi_path)"
   ]
  },
  {
   "cell_type": "markdown",
   "metadata": {},
   "source": [
    "### Visualizing segmentation"
   ]
  },
  {
   "cell_type": "code",
   "execution_count": 216,
   "metadata": {},
   "outputs": [],
   "source": [
    "# Writing a function to go into the directory and execute the perl script \"segment.pl\" on the mail in the given path\n",
    "def exec_perl_script(mail, path):\n",
    "    res = !cd {PERL_DIR}; perl segment.pl {mail} {path}\n",
    "    return res\n",
    "\n",
    "# Writing a function getting the original mail, the result of viterbi, and applying the segmentation script\n",
    "# Then putting the result\n",
    "def segment_mail(mail_name, data_dir, output_dir):\n",
    "    # Get the full path of the mail\n",
    "    mail = ...\n",
    "    # Get the full path of the result\n",
    "    path = ...\n",
    "    # Execute the visualization script\n",
    "    formatted_mail = ...\n",
    "    # Get the results\n",
    "    formatted_mail_text = ...\n",
    "    # Go through the resulting text until the cutting line\n",
    "    ...\n",
    "    # If this was not the last line, return the text cut in to parts: header and body\n",
    "    ...\n",
    "    # If not, it's just a header\n",
    "    ..."
   ]
  },
  {
   "cell_type": "code",
   "execution_count": 11,
   "metadata": {},
   "outputs": [],
   "source": [
    "# Getting mails names\n",
    "...\n",
    "# Call the function and look at the result of segmentation\n",
    "..."
   ]
  }
 ],
 "metadata": {
  "kernelspec": {
   "display_name": "Python 3 (ipykernel)",
   "language": "python",
   "name": "python3"
  },
  "language_info": {
   "codemirror_mode": {
    "name": "ipython",
    "version": 3
   },
   "file_extension": ".py",
   "mimetype": "text/x-python",
   "name": "python",
   "nbconvert_exporter": "python",
   "pygments_lexer": "ipython3",
   "version": "3.12.0"
  }
 },
 "nbformat": 4,
 "nbformat_minor": 2
}
