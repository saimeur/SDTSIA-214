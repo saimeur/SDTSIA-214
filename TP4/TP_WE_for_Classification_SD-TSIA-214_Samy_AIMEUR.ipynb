{
 "cells": [
  {
   "cell_type": "markdown",
   "id": "bb9af7be",
   "metadata": {},
   "source": [
    "# TP : Word Embeddings for Classification\n",
    "\n",
    "## Objectives:\n",
    "\n",
    "Explore the various way to represent textual data by applying them to a relatively small French classification dataset based on professionnal certification titles - **RNCP** - and evaluate how they perform on the classification task. \n",
    "1. Using what we have previously seen, pre-process the data: clean it, obtain an appropriate vocabulary.\n",
    "2. Obtain representations: any that will allow us to obtain a vector representation of each document is appropriate.\n",
    "    - Symbolic: **BoW, TF-IDF**\n",
    "    - Dense document representations: via **Topic Modeling: LSA, LDA**\n",
    "    - Dense word representations: **SVD-reduced PPMI, Word2vec, GloVe**\n",
    "        - For these, you will need to implement a **function aggregating word representations into document representations**\n",
    "3. Perform classification: we can make things simple and only use a **logistic regression**"
   ]
  },
  {
   "cell_type": "markdown",
   "id": "e4c7af15",
   "metadata": {},
   "source": [
    "## Necessary dependancies\n",
    "\n",
    "We will need the following packages:\n",
    "- The Machine Learning API Scikit-learn : http://scikit-learn.org/stable/install.html\n",
    "- The Natural Language Toolkit : http://www.nltk.org/install.html\n",
    "- Gensim: https://radimrehurek.com/gensim/\n",
    "\n",
    "These are available with Anaconda: https://anaconda.org/anaconda/nltk and https://anaconda.org/anaconda/scikit-learn"
   ]
  },
  {
   "cell_type": "code",
   "execution_count": 2,
   "id": "079ef84c",
   "metadata": {},
   "outputs": [],
   "source": [
    "import os.path as op\n",
    "import re \n",
    "import numpy as np\n",
    "import matplotlib.pyplot as plt\n",
    "import pprint\n",
    "import pandas as pd\n",
    "import gzip\n",
    "import nltk\n",
    "pp = pprint.PrettyPrinter(indent=3)"
   ]
  },
  {
   "cell_type": "markdown",
   "id": "0a147280",
   "metadata": {},
   "source": [
    "## Loading data\n",
    "\n",
    "Let's load the data: take a first look."
   ]
  },
  {
   "cell_type": "code",
   "execution_count": 3,
   "id": "b7a5e3e2",
   "metadata": {},
   "outputs": [
    {
     "name": "stdout",
     "output_type": "stream",
     "text": [
      "   Categorie                                text_certifications\n",
      "0          1  Responsable de chantiers de bûcheronnage manue...\n",
      "1          1  Responsable de chantiers de bûcheronnage manue...\n",
      "2          1                                 Travaux forestiers\n",
      "3          1                                              Forêt\n",
      "4          1                                              Forêt\n"
     ]
    }
   ],
   "source": [
    "with open(\"rncp.csv\", encoding='utf-8') as f:\n",
    "    rncp = pd.read_csv(f, na_filter=False)\n",
    "\n",
    "print(rncp.head())"
   ]
  },
  {
   "cell_type": "code",
   "execution_count": 4,
   "id": "2b21e6e3",
   "metadata": {},
   "outputs": [
    {
     "name": "stdout",
     "output_type": "stream",
     "text": [
      "['Categorie' 'text_certifications']\n"
     ]
    }
   ],
   "source": [
    "print(rncp.columns.values)\n",
    "texts = rncp.loc[:,'text_certifications'].astype('str').tolist()\n",
    "labels = rncp.loc[:,'Categorie'].astype('str').tolist()"
   ]
  },
  {
   "cell_type": "markdown",
   "id": "266fa04f",
   "metadata": {},
   "source": [
    "You can see that the first column is the category, the second the title of the certification. Let's get the category names for clarity: "
   ]
  },
  {
   "cell_type": "code",
   "execution_count": 5,
   "id": "9293f236",
   "metadata": {},
   "outputs": [],
   "source": [
    "Categories = [\"1-environnement\",\n",
    "              \"2-defense\",\n",
    "              \"3-patrimoine\",\n",
    "              \"4-economie\",\n",
    "              \"5-recherche\",\n",
    "              \"6-nautisme\",\n",
    "              \"7-aeronautique\",\n",
    "              \"8-securite\",\n",
    "              \"9-multimedia\",\n",
    "              \"10-humanitaire\",\n",
    "              \"11-nucleaire\",\n",
    "              \"12-enfance\",\n",
    "              \"13-saisonnier\",\n",
    "              \"14-assistance\",\n",
    "              \"15-sport\",\n",
    "              \"16-ingenierie\"]"
   ]
  },
  {
   "cell_type": "code",
   "execution_count": 6,
   "id": "a2abb70a",
   "metadata": {},
   "outputs": [
    {
     "name": "stdout",
     "output_type": "stream",
     "text": [
      "[  'Responsable de chantiers de bûcheronnage manuel et de débardage',\n",
      "   'Responsable de chantiers de bûcheronnage manuel et de sylviculture',\n",
      "   'Travaux forestiers',\n",
      "   'Forêt',\n",
      "   'Forêt',\n",
      "   'Responsable de chantiers forestiers',\n",
      "   'Diagnostic et taille des arbres',\n",
      "   'option Chef d’entreprise ou OHQ en travaux forestiers, spécialité '\n",
      "   'abattage-façonnage',\n",
      "   'option Chef d’entreprise ou OHQ en travaux forestiers, spécialité '\n",
      "   'débardage',\n",
      "   'Gestion et conduite de chantiers forestiers']\n"
     ]
    }
   ],
   "source": [
    "pp.pprint(texts[:10])"
   ]
  },
  {
   "cell_type": "code",
   "execution_count": 7,
   "id": "9599792e",
   "metadata": {},
   "outputs": [
    {
     "name": "stdout",
     "output_type": "stream",
     "text": [
      "Number of documents: 23578\n"
     ]
    }
   ],
   "source": [
    "# This number of documents may be high for some computers: we can select a fraction of them (here, one in k)\n",
    "# Use an even number to keep the same number of positive and negative reviews\n",
    "k = 4\n",
    "texts_reduced = texts[0::k]\n",
    "labels_reduced = labels[0::k]\n",
    "\n",
    "print('Number of documents:', len(texts_reduced))"
   ]
  },
  {
   "cell_type": "markdown",
   "id": "fcd53e33",
   "metadata": {},
   "source": [
    "Use the function ```train_test_split```from ```sklearn``` function to set aside test data that you will use during the lab. Make it one fifth of the data you have currently.\n",
    "\n",
    "<div class='alert alert-block alert-info'>\n",
    "            Code:</div>"
   ]
  },
  {
   "cell_type": "code",
   "execution_count": 8,
   "id": "c5be9da0",
   "metadata": {},
   "outputs": [],
   "source": [
    "from sklearn.model_selection import train_test_split\n",
    "texts_reduced, test_texts, labels_reduced, test_labels = train_test_split(texts_reduced, labels_reduced, test_size = 0.20)"
   ]
  },
  {
   "cell_type": "markdown",
   "id": "acbce6d4",
   "metadata": {},
   "source": [
    "## 1 - Document Preprocessing\n",
    "\n",
    "You should use a pre-processing function you can apply to the raw text before any other processing (*i.e*, tokenization and obtaining representations). Some pre-processing can also be tied with the tokenization (*i.e*, removing stop words). Complete the following function, using the appropriate ```nltk``` tools. \n",
    "<div class='alert alert-block alert-info'>\n",
    "            Code:</div>"
   ]
  },
  {
   "cell_type": "code",
   "execution_count": 9,
   "id": "5e076e6e",
   "metadata": {},
   "outputs": [],
   "source": [
    "# Imports\n",
    "import nltk\n",
    "from nltk import word_tokenize\n",
    "from nltk.corpus import stopwords\n",
    "from nltk.stem import SnowballStemmer\n",
    "\n",
    "def remove_pontuation(liste):\n",
    "    return [re.sub(r'[^\\w\\s]', '', word) for word in liste if re.sub(r'[^\\w\\s]', '', word) != \"\"]\n",
    "\n",
    "def preprocess_text(text):\n",
    "    # Tokenization\n",
    "    tokens = nltk.word_tokenize(text)\n",
    "\n",
    "    # Remove ponctuation\n",
    "    tokens = remove_pontuation(tokens)\n",
    "    \n",
    "    # Remove stopwords \n",
    "    stop_words = set(stopwords.words('french'))\n",
    "    \n",
    "    filtered_tokens = [token for token in tokens if token.lower() not in stop_words]\n",
    "    \n",
    "    # Stemming\n",
    "    stemmer = SnowballStemmer('french')\n",
    "    stemmed_tokens = [stemmer.stem(token) for token in filtered_tokens]\n",
    "        \n",
    "    return stemmed_tokens\n",
    "\n",
    "def vect_preprocess_text(texts):\n",
    "    res=[]\n",
    "    for text in texts:\n",
    "        res.append(preprocess_text(text))\n",
    "    return res"
   ]
  },
  {
   "cell_type": "markdown",
   "id": "7632db6f",
   "metadata": {},
   "source": [
    "<div class='alert alert-block alert-info'>\n",
    "            Code:</div>"
   ]
  },
  {
   "cell_type": "code",
   "execution_count": 10,
   "id": "9b33d4d2",
   "metadata": {},
   "outputs": [],
   "source": [
    "# Look at the data and apply the appropriate pre-processing\n",
    "prepo_text_reduced = vect_preprocess_text(texts_reduced)\n",
    "prepo_text_test = vect_preprocess_text(test_texts)"
   ]
  },
  {
   "cell_type": "code",
   "execution_count": 11,
   "id": "3a1c176f",
   "metadata": {},
   "outputs": [
    {
     "data": {
      "text/plain": [
       "['domain',\n",
       " 'scienc',\n",
       " 'technolog',\n",
       " 'mention',\n",
       " 'scienc',\n",
       " 'lingénieur',\n",
       " 'spécial',\n",
       " 'compétent',\n",
       " 'complémentair',\n",
       " 'informat']"
      ]
     },
     "execution_count": 11,
     "metadata": {},
     "output_type": "execute_result"
    }
   ],
   "source": [
    "prepo_text_reduced[48]"
   ]
  },
  {
   "cell_type": "markdown",
   "id": "2c4140f1",
   "metadata": {},
   "source": [
    "Now that the data is cleaned, the first step we will follow is to pick a common vocabulary that we will use for every representations we obtain in this lab. **Use the code of the previous lab to create a vocabulary.**\n",
    "\n",
    "<div class='alert alert-block alert-info'>\n",
    "            Code:</div>"
   ]
  },
  {
   "cell_type": "code",
   "execution_count": 12,
   "id": "4a6b29a5",
   "metadata": {},
   "outputs": [],
   "source": [
    "def vocabulary(corpus, count_threshold=0, voc_threshold=10000):\n",
    "    \"\"\"    \n",
    "    Function using word counts to build a vocabulary - can be improved with a second parameter for \n",
    "    setting a frequency threshold\n",
    "    Params:\n",
    "        corpus (list of strings): corpus of sentences\n",
    "        count_threshold (int): number of occurrences necessary for a word to be included in the vocabulary\n",
    "        voc_threshold (int): maximum size of the vocabulary \n",
    "    Returns:\n",
    "        vocabulary (dictionary): keys: list of distinct words across the corpus\n",
    "                                 values: indexes corresponding to each word sorted by frequency   \n",
    "        vocabulary_word_counts (dictionary): keys: list of distinct words across the corpus\n",
    "                                             values: corresponding counts of words in the corpus\n",
    "    \"\"\"\n",
    "    word_counts = {}\n",
    "\n",
    "    for text in corpus:\n",
    "        text = text.lower()\n",
    "        tokens = preprocess_text(text)\n",
    "        for token in tokens:\n",
    "            if token not in word_counts:\n",
    "                word_counts[token] = 0\n",
    "            word_counts[token] += 1\n",
    "\n",
    "    filtered_word_counts = {'UNK': 0}\n",
    "\n",
    "    for word, count in word_counts.items():\n",
    "        if count >= count_threshold:\n",
    "            filtered_word_counts[word] = count\n",
    "\n",
    "    sorted_word_counts = sorted(filtered_word_counts.items(), key=lambda x: x[1], reverse=True)\n",
    "\n",
    "    vocabulary = {}\n",
    "    vocabulary_word_counts = {}\n",
    "\n",
    "    for i, (word, count) in enumerate(sorted_word_counts):\n",
    "        if i >= voc_threshold:\n",
    "            vocabulary['UNK'] = i\n",
    "            vocabulary_word_counts['UNK'] = 0\n",
    "            break\n",
    "        vocabulary[word] = i\n",
    "        vocabulary_word_counts[word] = count\n",
    "\n",
    "    return vocabulary, vocabulary_word_counts"
   ]
  },
  {
   "cell_type": "code",
   "execution_count": 13,
   "id": "6910a7e4",
   "metadata": {},
   "outputs": [],
   "source": [
    "# Vocabulary\n",
    "Vocabulary, Vocabulary_word_counts = vocabulary(texts_reduced)"
   ]
  },
  {
   "cell_type": "code",
   "execution_count": 14,
   "id": "f3b0cb7d",
   "metadata": {},
   "outputs": [
    {
     "data": {
      "text/plain": [
       "3771"
      ]
     },
     "execution_count": 14,
     "metadata": {},
     "output_type": "execute_result"
    }
   ],
   "source": [
    "Vocabulary['UNK']"
   ]
  },
  {
   "cell_type": "markdown",
   "id": "bcb7810f",
   "metadata": {},
   "source": [
    "What do you think is the **appropriate vocabulary size here** ? Would any further pre-processing make sense ? Motivate your answer.\n",
    "\n",
    "<div class='alert alert-block alert-warning'>\n",
    "            Question:</div>"
   ]
  },
  {
   "cell_type": "markdown",
   "id": "19f01c35",
   "metadata": {},
   "source": [
    "We have 16 categories and a vocabulary of size 3773. We have on average 235 unique words per categorie with almost 20000 samples. It seems reasonable.\n",
    "\n",
    "We can maybe use lemmatization but nltk does not handle lemmatization for french word."
   ]
  },
  {
   "cell_type": "markdown",
   "id": "260f7b7d",
   "metadata": {},
   "source": [
    "## 2 - Symbolic text representations\n",
    "\n",
    "We can use the ```CountVectorizer``` class from scikit-learn to obtain the first set of representations:\n",
    "- Use the appropriate argument to get your own vocabulary\n",
    "- Fit the vectorizer on your training data, transform your test data\n",
    "- Create a ```LogisticRegression``` model and train it with these representations. Display the confusion matrix using functions from ```sklearn.metrics``` \n",
    "\n",
    "Then, re-execute the same pipeline with the ```TfidfVectorizer```.\n",
    "\n",
    "<div class='alert alert-block alert-info'>\n",
    "            Code:</div>"
   ]
  },
  {
   "cell_type": "markdown",
   "id": "24902bb5",
   "metadata": {},
   "source": [
    "### Count Word"
   ]
  },
  {
   "cell_type": "code",
   "execution_count": 15,
   "id": "1601c205",
   "metadata": {},
   "outputs": [],
   "source": [
    "from sklearn.feature_extraction.text import CountVectorizer\n",
    "from sklearn.linear_model import LogisticRegression\n",
    "from sklearn import metrics\n",
    "from sklearn.metrics import confusion_matrix"
   ]
  },
  {
   "cell_type": "code",
   "execution_count": 16,
   "id": "bd441181",
   "metadata": {},
   "outputs": [
    {
     "name": "stderr",
     "output_type": "stream",
     "text": [
      "d:\\Ecole\\Telecom\\2A\\git_folder\\.env311\\Lib\\site-packages\\sklearn\\feature_extraction\\text.py:1381: UserWarning: Upper case characters found in vocabulary while 'lowercase' is True. These entries will not be matched with any documents\n",
      "  warnings.warn(\n"
     ]
    }
   ],
   "source": [
    "vectorizer = CountVectorizer(tokenizer = preprocess_text, token_pattern=None, vocabulary=Vocabulary)\n",
    "X_train_bow = vectorizer.fit_transform(texts_reduced)\n",
    "X_test_bow = vectorizer.transform(test_texts)"
   ]
  },
  {
   "cell_type": "code",
   "execution_count": 17,
   "id": "baada795",
   "metadata": {},
   "outputs": [
    {
     "name": "stdout",
     "output_type": "stream",
     "text": [
      "Length of the vocabulary : 3772\n",
      "Unique index assigned to each word :  {'spécial': 0, 'mention': 1, 'scienc': 2, 'sant': 3, 'technolog': 4, 'diplôm': 5, 'ingénieur': 6, 'gestion': 7, 'manag': 8, 'national': 9, 'domain': 10, 'droit': 11, 'mast': 12, 'informat': 13, 'system': 14, 'professionnel': 15, 'industriel': 16, 'gen': 17, 'social': 18, 'supérieur': 19, 'option': 20, 'commun': 21, 'méti': 22, 'art': 23, 'appliqu': 24, 'humain': 25, 'langu': 26, 'développ': 27, 'environ': 28, 'final': 29, 'ingénier': 30, 'projet': 31, 'econom': 32, 'recherch': 33, 'product': 34, 'lunivers': 35, 'fich': 36, 'respons': 37, 'économ': 38, 'polytechn': 39, 'lettr': 40, 'réseau': 41, 'international': 42, 'matérial': 43, 'mécan': 44, 'biolog': 45, 'sécur': 46, 'techniqu': 47, 'physiqu': 48, 'marketing': 49, 'lecol': 50, 'chim': 51, 'qualit': 52, 'écol': 53, 'organis': 54, 'linstitut': 55, 'entrepris': 56, 'inform': 57, 'licenc': 58, 'ecol': 59, 'chef': 60, 'télécommun': 61, 'électron': 62, 'commerc': 63, 'numer': 64, 'industr': 65, 'activ': 66, 'mathémat': 67, 'expert': 68, 'mainten': 69, 'universitair': 70, 'histoir': 71, 'bât': 72, 'technicien': 73, 'lenviron': 74, 'concept': 75, 'aménag': 76, 'électr': 77, 'institut': 78, 'administr': 79, 'agroalimentair': 80, 'public': 81, 'strateg': 82, 'commercial': 83, 'm': 84, 'produit': 85, 'partenariat': 86, 'durabl': 87, 'risqu': 88, 'univers': 89, 'ressourc': 90, 'cultur': 91, 'cqp': 92, 'logist': 93, 'construct': 94, 'automat': 95, 'logiciel': 96, 'territoir': 97, 'patrimoin': 98, 'énerg': 99, 'sport': 100, 'affair': 101, 'biotechnolog': 102, 'charg': 103, 'servic': 104, 'protect': 105, 'conservatoir': 106, 'aliment': 107, 'proced': 108, 'culturel': 109, 'lill': 110, 'traval': 111, 'dingénieur': 112, 'contrôl': 113, 'étranger': 114, 'innov': 115, 'polit': 116, 'civil': 117, 'énerget': 118, 'lécol': 119, 'civilis': 120, 'e': 121, 'dinform': 122, 'assist': 123, 'valoris': 124, 'littératur': 125, 'format': 126, 'terr': 127, 'anim': 128, 'multimédi': 129, 'polytech': 130, 'géograph': 131, 'paris': 132, 'electron': 133, 'digital': 134, 'chimiqu': 135, 'tourism': 136, 'publiqu': 137, 'agent': 138, 'eau': 139, 'priv': 140, 'degr': 141, 'analys': 142, 'toulous': 143, 'étud': 144, 'litii': 145, 'perform': 146, 'agronom': 147, 'éduc': 148, 'montpelli': 149, 'enseign': 150, 'financ': 151, 'sportiv': 152, 'integr': 153, 'programm': 154, 'bordeau': 155, 'européen': 156, 'energ': 157, 'franc': 158, 'linform': 159, 'concepteur': 160, 'conseil': 161, 'psycholog': 162, 'transform': 163, 'sportif': 164, 'electr': 165, 'societ': 166, 'lindustr': 167, 'trait': 168, 'méthod': 169, 'naturel': 170, 'parcour': 171, 'grand': 172, 'développeur': 173, 'jeuness': 174, 'littoral': 175, 'transport': 176, 'statist': 177, 'paysag': 178, 'opérationnel': 179, 'climat': 180, 'ren': 181, 'web': 182, 'design': 183, 'vent': 184, 'instrument': 185, 'pharmaceut': 186, 'oper': 187, 'spécialis': 188, 'etud': 189, 'populair': 190, 'vi': 191, 'lyon': 192, 'imag': 193, 'prévent': 194, 'person': 195, 'embarqu': 196, 'rural': 197, 'brevet': 198, 'centr': 199, 'végétal': 200, 'don': 201, 'strasbourg': 202, 'intervent': 203, 'dentrepris': 204, 'création': 205, 'espac': 206, 'médiat': 207, 'titr': 208, 'équip': 209, 'directeur': 210, 'territorial': 211, 'artist': 212, 'urban': 213, 'etranger': 214, 'avanc': 215, 'bois': 216, 'nutrit': 217, 'cellulair': 218, 'mécatron': 219, 'intelligent': 220, 'mati': 221, 'mod': 222, 'textil': 223, 'daffair': 224, 'composit': 225, 'premi': 226, 'léduc': 227, 'modélis': 228, 'grenobl': 229, 'group': 230, 'hygien': 231, 'philosoph': 232, 'structur': 233, 'complex': 234, 'conduit': 235, 'environnemental': 236, 'aéronaut': 237, 'détud': 238, 'maîtris': 239, 'moléculair': 240, 'nucléair': 241, 'achat': 242, 'travail': 243, 'tric': 244, 'sociolog': 245, 'commercialis': 246, 'journal': 247, 'install': 248, 'relat': 249, 'gestionnair': 250, 'côt': 251, 'alimentair': 252, 'ouvri': 253, 'min': 254, 'réalis': 255, 'médi': 256, 'lorrain': 257, 'automatis': 258, 'bretagn': 259, 'comptabl': 260, 'financi': 261, 'distribu': 262, 'physiolog': 263, 'loisir': 264, '1': 265, 'microbiolog': 266, 'planet': 267, 'agricol': 268, 'urbain': 269, 'archéolog': 270, 'général': 271, 'lingénieur': 272, 'renouvel': 273, 'bien': 274, 'expertis': 275, 'agricultur': 276, 'nant': 277, 'analyt': 278, 'itii': 279, 'educ': 280, 'régional': 281, 'mer': 282, 'viv': 283, 'meilleur': 284, 'pratiqu': 285, 'architectur': 286, 'écolog': 287, 'criminel': 288, 'robot': 289, 'jurid': 290, 'miag': 291, 'restaur': 292, 'mobil': 293, 'deuxiem': 294, 'droiteconomiegest': 295, 'ergonom': 296, 'lenseign': 297, 'déquip': 298, 'exploit': 299, 'processus': 300, 'médic': 301, 'immobili': 302, 'optiqu': 303, 'convent': 304, 'nouvel': 305, 'internet': 306, 'lentrepris': 307, 'detat': 308, 'ecolog': 309, 'dirig': 310, 'cognit': 311, 'coordon': 312, 'associ': 313, 'scientif': 314, 'energet': 315, 'rouen': 316, 'acoust': 317, 'limog': 318, 'mesur': 319, 'langag': 320, 'collect': 321, 'btp': 322, 'patholog': 323, 'mis': 324, 'audit': 325, 'dart': 326, 'audiovisuel': 327, 'métrolog': 328, 'sciencestechnologiessant': 329, 'i': 330, 'sorbon': 331, 'mond': 332, 'sanitair': 333, 'tourist': 334, 'milieux': 335, 'fondamental': 336, 'pluritechn': 337, 'biodivers': 338, 'institu': 339, 'formul': 340, 'savoi': 341, 'décis': 342, 'diagnostic': 343, 'graphiqu': 344, 'lart': 345, 'march': 346, 'télécom': 347, 'bas': 348, 'animal': 349, 'form': 350, 'central': 351, 'thermiqu': 352, 'jurist': 353, 'ii': 354, 'dynam': 355, 'linguist': 356, 'minestélécom': 357, 'sûret': 358, 'conducteur': 359, 'interculturel': 360, 'connaiss': 361, 'coordin': 362, 'and': 363, 'bioinformat': 364, 'tour': 365, 'géoscienc': 366, 'adapt': 367, 'stap': 368, 'action': 369, 'automobil': 370, 'écosystem': 371, 'génet': 372, 'dinformat': 373, 'édit': 374, 'spectacl': 375, 'génom': 376, 'st': 377, 'toxicolog': 378, 'cliniqu': 379, 'client': 380, 'chambéry': 381, 'pierr': 382, 'cybersécur': 383, 'iledefr': 384, 'poiti': 385, 'global': 386, 'allemand': 387, 'loir': 388, 'maritim': 389, 'cooper': 390, 'déchet': 391, 'secteur': 392, 'plasturg': 393, 'business': 394, 'vis': 395, 'second': 396, 'optimis': 397, 'class': 398, 'clermontferrand': 399, 'géolog': 400, 'organ': 401, 'visuel': 402, 'anthropolog': 403, 'livr': 404, 'lign': 405, 'dappliqu': 406, 'artificiel': 407, 'local': 408, 'hôteller': 409, 'bcpp': 410, 'mar': 411, 'cur': 412, 'ecommerc': 413, 'direct': 414, 'documentair': 415, 'linformat': 416, 'contemporain': 417, '2': 418, 'biologiesant': 419, 'espagnol': 420, 'musiqu': 421, 'ces': 422, 'polyvalent': 423, 'vill': 424, 'didact': 425, 'moniteur': 426, 'expérimental': 427, 'grad': 428, 'infrastructur': 429, 'marin': 430, 'analyst': 431, 'délectron': 432, 'plastiqu': 433, 'haut': 434, 'modern': 435, 'limag': 436, 'informationcommun': 437, 'pilotag': 438, 'habill': 439, 'anglais': 440, 'dat': 441, 'sit': 442, 'unit': 443, 'mécanicien': 444, 'interact': 445, 'carri': 446, 'judiciair': 447, 'sol': 448, 'architect': 449, 'physicochim': 450, 'b': 451, 'géomat': 452, 'établ': 453, 'consult': 454, 'po': 455, 'lénerg': 456, 'décisionnel': 457, 'meef': 458, 'laliment': 459, 'tvrn': 460, 'a': 461, 'cosmet': 462, 'microélectron': 463, 'solidair': 464, 'entrepreneuriat': 465, 'forêt': 466, 'linternational': 467, 'encadr': 468, 'command': 469, 'ordin': 470, 'incend': 471, 'chanti': 472, 'biochim': 473, 'thérapeut': 474, 'document': 475, 'pénal': 476, 'bibliothequ': 477, 'propuls': 478, 'rédact': 479, 'dexploit': 480, 'moteur': 481, 'leau': 482, 'nanotechnolog': 483, 'docu': 484, 'laboratoir': 485, 'signal': 486, 'interfac': 487, 'milieu': 488, 'cathol': 489, 'perfection': 490, 'intérieur': 491, 'etou': 492, 'specialit': 493, 'human': 494, 'négoci': 495, 'calcul': 496, 'événementiel': 497, 'bioscienc': 498, 'technicocommercial': 499, 'pétroli': 500, 'assur': 501, 'aixmarseil': 502, 'ingenier': 503, 'compétent': 504, 'efficac': 505, 'dun': 506, 'prof': 507, 'compar': 508, 'pme': 509, 'dépollu': 510, 'cadr': 511, 'le': 512, 'véhicul': 513, 'dhydraul': 514, 'photon': 515, 'orléan': 516, 'dactiv': 517, 'traduct': 518, 'capitain': 519, 'spatial': 520, 'vin': 521, 'brest': 522, 'italien': 523, 'léconom': 524, 'classiqu': 525, 'naval': 526, '3': 527, 'géotechn': 528, 'moyen': 529, 'biomédical': 530, 'petit': 531, 'molécul': 532, 'marseil': 533, 'coach': 534, 'diagnostiqueur': 535, 'dou': 536, 'europ': 537, 'bm': 538, 'lutt': 539, 'chain': 540, 'in': 541, 'saintetien': 542, 'cqpm': 543, 'solut': 544, 'lux': 545, 'caen': 546, 'gouvern': 547, 'maintenicien': 548, 'attach': 549, 'dessin': 550, 'saintétien': 551, 'transfrontali': 552, 'accompagn': 553, 'disciplin': 554, 'xi': 555, 'nancy': 556, 'chaudronner': 557, 'décor': 558, 'organisationnel': 559, 'handicap': 560, 'diffus': 561, 'ferroviair': 562, 'jeux': 563, 'quart': 564, 'dales': 565, 'évolu': 566, 'popul': 567, 'glac': 568, 'amélior': 569, 'pay': 570, 'quantit': 571, 'contr': 572, 'sinistr': 573, 'nautiqu': 574, 'dopal': 575, 'pétrol': 576, 'dazur': 577, 'inp': 578, 'chaîn': 579, 'vétérinair': 580, 'miash': 581, 'agroscient': 582, 'lagroalimentair': 583, 'banqu': 584, 'entrepreneur': 585, 'atlant': 586, 'packaging': 587, 'patrimonial': 588, 'etat': 589, '13': 590, 'médical': 591, 'état': 592, 'supply': 593, 'opal': 594, 'topograph': 595, 'fabriqu': 596, 'insat': 597, 'montagn': 598, 'parisv': 599, 'emballag': 600, 'consomm': 601, 'fonction': 602, 'guid': 603, 'neuroscient': 604, 'aquat': 605, 'francoallemand': 606, 'défens': 607, 'domot': 608, 'infograph': 609, 'théor': 610, 'fiscal': 611, 'daixmarseil': 612, 'aérien': 613, 'méditerran': 614, 'répart': 615, 'confer': 616, 'archiv': 617, 'conserv': 618, 'architectural': 619, 'air': 620, 'ile': 621, 'matériel': 622, 'troy': 623, '3d': 624, 'school': 625, 'iii': 626, 'enscbp': 627, 'facteur': 628, 'secour': 629, 'surveil': 630, 'belfortmontbéliard': 631, 'pyrotechn': 632, 'interpret': 633, 'surfac': 634, 'spiritu': 635, 'écotoxicolog': 636, 'écoconcept': 637, 'polymer': 638, 'imager': 639, 'lenerg': 640, 'vieil': 641, 'réhabilit': 642, 'délectrotechn': 643, 'eus': 644, 'hydrograph': 645, 'synthes': 646, 'franchecomt': 647, 'fili': 648, 'all': 649, 'cycl': 650, 'musicolog': 651, 'certificat': 652, 'text': 653, 'sp': 654, 'unilasall': 655, 'auxiliair': 656, 'esip': 657, 'pmepm': 658, 'biomolécul': 659, 'stpe': 660, 'communic': 661, 'cinem': 662, 'plurimédi': 663, 'condition': 664, 'pharmacolog': 665, 'intellectuel': 666, 'capteur': 667, 'climatis': 668, 'pont': 669, 'danger': 670, 'model': 671, 'nanoscient': 672, 'créteil': 673, 'fonder': 674, 'agrocampus': 675, 'golf': 676, 'llce': 677, 'enspm': 678, 'œuvr': 679, 'physiopatholog': 680, 'habitat': 681, 'théâtr': 682, 'propriet': 683, 'vendeur': 684, 'val': 685, 'lingénier': 686, 'navig': 687, 'sh': 688, 'process': 689, 'daccueil': 690, 'industrialis': 691, 'métallurg': 692, 'evolu': 693, 'théolog': 694, 'intern': 695, 'dijon': 696, 'linnov': 697, 'fe': 698, 'mathemat': 699, 'antiqu': 700, 'situat': 701, 'accessoir': 702, 'atc': 703, 'paysager': 704, 'russ': 705, 'médicosocial': 706, 'cellul': 707, 'ebusiness': 708, 'agrosystem': 709, 'horticol': 710, 'laéronaut': 711, 'dintervent': 712, 'material': 713, 'cy': 714, 'contrôleur': 715, 'dunit': 716, 'san': 717, 'fil': 718, 'firm': 719, 'contenti': 720, 'flux': 721, 'hydraul': 722, 'nuisanc': 723, 'kw': 724, 'r': 725, 'p': 726, 'etabl': 727, 'fonctionnel': 728, 'clermont': 729, 'marqu': 730, 'fluid': 731, 'immunolog': 732, 'entraîn': 733, 'complémentair': 734, 'contraint': 735, 'mulhous': 736, 'sud': 737, 'rédacteur': 738, 'verr': 739, 'solidar': 740, 'forg': 741, 'bioindustr': 742, 'aquitain': 743, 'ouvrag': 744, 'peintr': 745, 'alsac': 746, 'lespac': 747, 'tech': 748, 'géoressourc': 749, 'géorisqu': 750, 'marnelavall': 751, 'littérair': 752, 'zon': 753, 'lhôteller': 754, 'froid': 755, 'agroressourc': 756, 'pilot': 757, 'passerel': 758, 'support': 759, 'socioculturel': 760, 'vision': 761, 'collabor': 762, 'evalu': 763, 'économetr': 764, 'sciencestechnologiesant': 765, 'foresti': 766, 'dinnov': 767, 'nanomatérial': 768, 'rénov': 769, 'microsystem': 770, 'cris': 771, 'catalys': 772, 'anglophon': 773, 'lhabit': 774, 'gaz': 775, 'meti': 776, 'esthet': 777, 'enseeiht': 778, 'informatis': 779, 'métrologiequal': 780, 'ensiacet': 781, 'pau': 782, 'lélectron': 783, 'yncré': 784, 'dassist': 785, 'prnt': 786, 'silico': 787, 'emploi': 788, 'ski': 789, 'céram': 790, 'lois': 791, 'ecosystem': 792, 'las': 793, 'vidéo': 794, 'durgenc': 795, 'detud': 796, '5': 797, 'métall': 798, 'voil': 799, 'football': 800, 'danalys': 801, 'ouest': 802, 'géophys': 803, 'esi': 804, 'vert': 805, 'praticien': 806, 'homm': 807, 'simul': 808, 'delectron': 809, 'compiegn': 810, 'utc': 811, 'géometr': 812, '1er': 813, 'lagricultur': 814, 'tuyauter': 815, 'test': 816, 'histor': 817, 'dorléan': 818, 'détect': 819, 'hautsdefr': 820, 'français': 821, 'comportemental': 822, 'dateli': 823, 'doper': 824, 'ecotoxicolog': 825, 'dingénier': 826, 'sous': 827, 'infectiolog': 828, 'horticultur': 829, 'hôteli': 830, 'solair': 831, 'sudalsac': 832, 'ethnolog': 833, 'managérial': 834, 'agroindustr': 835, 'orient': 836, 'valeur': 837, 'offic': 838, 'océan': 839, 'vid': 840, 'ensilensc': 841, 'ateli': 842, 'reim': 843, 'electrotechn': 844, 'outil': 845, 'bretagnesud': 846, 'ensib': 847, 'laménag': 848, 'tous': 849, 'azur': 850, 'man': 851, 'autonom': 852, 'protocol': 853, 'istas': 854, 'parachut': 855, 'tôler': 856, 'transit': 857, 'minéral': 858, 'audenci': 859, 'rapproch': 860, 'lanim': 861, 'enjeux': 862, 'circuit': 863, 'list': 864, 'hydrogéolog': 865, 'clientel': 866, 'dge': 867, 'adjoint': 868, 'chang': 869, 'nantesatlant': 870, 'onir': 871, 'natur': 872, 'aérostructur': 873, 'chinois': 874, 'rout': 875, 'armement': 876, 'aid': 877, 'créateur': 878, 'valdemarn': 879, 'ten': 880, 'continu': 881, 'aquacultur': 882, 'tertiair': 883, 'club': 884, 'spectroscop': 885, 'subatom': 886, 'machin': 887, 'non': 888, 'deven': 889, 'voix': 890, 'eil': 891, 'ulco': 892, 'leduc': 893, 'ingenieur': 894, 'export': 895, 'ecoconcept': 896, 'llc': 897, 'luniver': 898, 'dinfrastructur': 899, 'ancien': 900, 'plant': 901, 'humanitair': 902, 'supervis': 903, 'intercultural': 904, 'optron': 905, 'stockag': 906, 'spi': 907, 'mathstic': 908, '200': 909, 'promot': 910, 'rugby': 911, 'entrain': 912, '2000': 913, 'régul': 914, 'fond': 915, 'socioéconom': 916, 'radioprotect': 917, 'ise': 918, 'armé': 919, 'vibrat': 920, 'full': 921, 'disposit': 922, 'représent': 923, 'ecam': 924, 'chien': 925, 'genr': 926, 'lédit': 927, 'équestr': 928, 'jeu': 929, 'jour': 930, 'of': 931, 'fonctionnalis': 932, 'aptitud': 933, 'gardien': 934, 'yvelin': 935, 'isty': 936, 'uvsq': 937, 'sociétal': 938, 'écrit': 939, 'linstrument': 940, 'vocat': 941, 'échang': 942, 'apprentissag': 943, 'bureau': 944, 'ar': 945, 'reconvers': 946, 'eadd': 947, 'objet': 948, 'report': 949, 'canoëkayak': 950, 'univer': 951, 'portug': 952, 'economiegest': 953, 'dagricultur': 954, 'dunivers': 955, 'cuisin': 956, 'delectrotechn': 957, 'médecin': 958, 'entretien': 959, 'expérient': 960, 'outillag': 961, 'picard': 962, 'paléontolog': 963, 'i2sa': 964, 'anger': 965, 'lesc': 966, 'dinstall': 967, 'nanobioscient': 968, 'tabl': 969, 'parfum': 970, 'dentretien': 971, 'gérontolog': 972, 'cao': 973, 'évalu': 974, 'motocycl': 975, 'ma': 976, 'epidémiolog': 977, 'mpce': 978, 'métal': 979, 'footwear': 980, 'midipyren': 981, 'superviseur': 982, 'gymniqu': 983, 'médiéval': 984, 'auvergn': 985, 'bio': 986, 'fluidiqu': 987, 'marketingvent': 988, 'déconom': 989, 'microbien': 990, 'algorithm': 991, 'délectr': 992, 'proces': 993, 'dénerg': 994, 'continental': 995, 'rechercheprofessionnel': 996, 'lasall': 997, 'équin': 998, '000': 999, 'psychopatholog': 1000, 'écoproduct': 1001, 'biovaloris': 1002, 'terroir': 1003, 'itiipac': 1004, 'entraîneur': 1005, 'acheteur': 1006, 'lifri': 1007, 'matériau': 1008, 'cartograph': 1009, 'parisest': 1010, 'sectoriel': 1011, 'asi': 1012, 'approch': 1013, 'exercic': 1014, 'cibl': 1015, 'bc2t': 1016, 'confort': 1017, 'atmospher': 1018, 'bim': 1019, 'manufactur': 1020, 'ecp': 1021, 'chimiephys': 1022, 'essecepsc': 1023, 'economic': 1024, 'monteur': 1025, 'médiateur': 1026, 'biochimiebiolog': 1027, 'cloud': 1028, 'danim': 1029, 'stochast': 1030, 'renseign': 1031, 'cal': 1032, 'ère': 1033, 'fusion': 1034, 'agroparistech': 1035, 'securit': 1036, 'ensic': 1037, 'webdesign': 1038, 'certif': 1039, 'doutil': 1040, 'nouveau': 1041, 'arôm': 1042, 'tem': 1043, 'minister': 1044, 'advanced': 1045, 'applique': 1046, 'socioéduc': 1047, 'luminy': 1048, 'cohabl': 1049, 'légal': 1050, 'convers': 1051, 'webmast': 1052, 'rennes1': 1053, 'ludothécair': 1054, 'conférenci': 1055, 'hydro3': 1056, 'hydrobiogéochim': 1057, 'hydropédolog': 1058, 'leur': 1059, 'evolut': 1060, 'cosmétolog': 1061, 'hockey': 1062, 'vall': 1063, 'lead': 1064, 'immatériel': 1065, 'cabinet': 1066, 'combust': 1067, 'approfond': 1068, 'vaccinolog': 1069, 'anticorp': 1070, 'éditorial': 1071, 'propr': 1072, 'lesitech': 1073, 'jardin': 1074, 'athlet': 1075, 'soin': 1076, 'secrétair': 1077, 'prépar': 1078, 'multicanal': 1079, 'hispan': 1080, 'graphist': 1081, 'chauss': 1082, 'enpc': 1083, 'ornement': 1084, 'santésécur': 1085, 'formateur': 1086, 'li': 1087, 'ident': 1088, 'transmiss': 1089, 'dintérieur': 1090, 'amer': 1091, 'choix': 1092, 'avion': 1093, 'particul': 1094, 'daccompagn': 1095, 'engine': 1096, 'contrat': 1097, 'routi': 1098, 'écologieenviron': 1099, 'sign': 1100, 'mac': 1101, 'daérotechn': 1102, 'anglaisruss': 1103, 'temp': 1104, 'cergy': 1105, 'notarial': 1106, 'heiisaisen': 1107, 'enscm': 1108, 'agrofournitur': 1109, 'ccc': 1110, 'basketball': 1111, 'bibliothécair': 1112, 'traçabl': 1113, 'syndicat': 1114, 'louest': 1115, 'lautomobil': 1116, 'enquêteur': 1117, 'cci': 1118, 'électrotechn': 1119, 'puissanc': 1120, 'anthropis': 1121, 'explor': 1122, 'sonor': 1123, 'microtechn': 1124, 'asiat': 1125, 'drug': 1126, 'provenc': 1127, 'articc': 1128, 'induit': 1129, 'cm': 1130, 'relig': 1131, 'signalis': 1132, 'dériv': 1133, 'pêch': 1134, 'auditeur': 1135, 'bop': 1136, 'cpe': 1137, 'navir': 1138, 'circul': 1139, 'rpi': 1140, 'vigil': 1141, 'therv': 1142, 'deurecom': 1143, 'esirem': 1144, 'frigorif': 1145, 'sti': 1146, 'bioingénier': 1147, 'soudag': 1148, 'gam': 1149, 'applied': 1150, 'lanalys': 1151, 'ameubl': 1152, 'nanostructur': 1153, 'nanophoton': 1154, 'lannion': 1155, 'maîtr': 1156, 'linternet': 1157, 'procédur': 1158, 'atom': 1159, 'instn': 1160, 'limmobili': 1161, 'écorespons': 1162, 'criminolog': 1163, 'spa': 1164, 'mrc': 1165, 'signalimag': 1166, 'german': 1167, 'intranetinternet': 1168, 'montagnard': 1169, 'mesc': 1170, 'express': 1171, 'muséolog': 1172, 'mecadoc': 1173, 'menuiser': 1174, 'beauv': 1175, 'stack': 1176, 'purpan': 1177, 'hospitali': 1178, 'bioactiv': 1179, 'exact': 1180, 'virolog': 1181, 'lp': 1182, 'anglaisallemand': 1183, 'charpenti': 1184, 'pens': 1185, 'bioproced': 1186, 'modelis': 1187, 'editorial': 1188, 'jeanfrançois': 1189, 'champollion': 1190, '3il': 1191, 'parissaclay': 1192, 'professeur': 1193, 'repris': 1194, 'dauphin': 1195, 'enst': 1196, 'écritmatérielimmatériel': 1197, 'esff': 1198, 'supmec': 1199, 'iesff': 1200, 'control': 1201, 'ex': 1202, 'féminin': 1203, 'dorgan': 1204, 'lurban': 1205, 'big': 1206, 'dijonbourgogn': 1207, 'technicienconseil': 1208, 'eea': 1209, 'diver': 1210, 'continus': 1211, 'cinématograph': 1212, 'télévis': 1213, 'importexport': 1214, 'electricitéelectron': 1215, 'epithélium': 1216, 'virtuel': 1217, 'lénerget': 1218, 'aéronef': 1219, 'réservoir': 1220, 'nord': 1221, 'tout': 1222, 'supagro': 1223, '2id': 1224, 'lumi': 1225, 'réunion': 1226, 'bienêtr': 1227, 'reseau': 1228, 'raison': 1229, 'plasm': 1230, 'cit': 1231, 'eseo': 1232, 'contenus': 1233, 'esitc': 1234, 'inflammatoir': 1235, 'argil': 1236, 'gis': 1237, 'doptiqu': 1238, 'théoriqu': 1239, 'lécoconcept': 1240, 'badminton': 1241, 'agroéquip': 1242, 'bancair': 1243, 'métreur': 1244, 'cf': 1245, 'maquet': 1246, 'prototypag': 1247, 'approvision': 1248, 'dexpress': 1249, 'econometr': 1250, 'esc': 1251, 'utt': 1252, 'tourismeloisir': 1253, 'doffici': 1254, 'occitan': 1255, 'asr': 1256, 'agroaliment': 1257, 'lou': 1258, 'brogl': 1259, 'pvi': 1260, 'rayon': 1261, 'xv': 1262, 'évènementiel': 1263, 'rest': 1264, 'pollut': 1265, 'theory': 1266, 'exper': 1267, 'econometric': 1268, 'gaex': 1269, 'xiv': 1270, 'laudiovisuel': 1271, 'imprimer': 1272, 'metz': 1273, 'denisdiderot': 1274, 'distanc': 1275, 'enfant': 1276, 'terrestr': 1277, 'biobanqu': 1278, 'deb': 1279, 'cynotechn': 1280, 'ingeco': 1281, 'erge': 1282, 'mutat': 1283, 'préhistoir': 1284, 'tapisser': 1285, 'éolien': 1286, 'egel': 1287, 'jeun': 1288, 'telecom': 1289, 'comet': 1290, 'calibr': 1291, 'menuisi': 1292, 'cyclism': 1293, 'cuisini': 1294, 'discour': 1295, 'inspecteur': 1296, 'chimiquegen': 1297, 'ensai': 1298, 'usag': 1299, 'écointerpret': 1300, '8': 1301, 'box': 1302, 'pharmac': 1303, 'laiti': 1304, 'élabor': 1305, 'ladministr': 1306, 'arbre': 1307, 'diétet': 1308, 'eclairag': 1309, 'merchandis': 1310, 'issus': 1311, 'migrat': 1312, 'clown': 1313, 'subaquat': 1314, 'mri': 1315, 'documental': 1316, 'délégu': 1317, 'contact': 1318, 'acte': 1319, 'caq': 1320, 'vivar': 1321, 'dj': 1322, 'afriqu': 1323, 'latin': 1324, 'interdisciplinair': 1325, 'lapprentissag': 1326, 'char': 1327, 'gei': 1328, 'skem': 1329, 'entraineur': 1330, 'germanophon': 1331, 'qse': 1332, 'angevin': 1333, 'créativ': 1334, 'cqpi': 1335, 'gst': 1336, 'cuir': 1337, 'accueil': 1338, 'autr': 1339, 'qualif': 1340, 'em': 1341, 'optoélectron': 1342, 'géostrateg': 1343, 'biosant': 1344, 'rib': 1345, 'esti': 1346, 'laction': 1347, 'oeuvr': 1348, 'ensiam': 1349, 'mouv': 1350, 'natat': 1351, 'ggg': 1352, 'producteur': 1353, 'radio': 1354, 'matelot': 1355, 'géomaticien': 1356, 'isifc': 1357, 'chaudronni': 1358, 'ime': 1359, 'caractéris': 1360, 'portuair': 1361, 'deau': 1362, 'solid': 1363, 'déploi': 1364, 'porcin': 1365, 'bioproduct': 1366, 'martial': 1367, 'physiquechim': 1368, 'dadministr': 1369, 'interven': 1370, 'uga': 1371, 'intertropical': 1372, 'écritur': 1373, 'parisx': 1374, 'île': 1375, 'thermal': 1376, 'usinag': 1377, 'parisdauphin': 1378, 'ecoconcepteur': 1379, 'ecosym': 1380, 'intranet': 1381, 'chief': 1382, 'normand': 1383, 'rapid': 1384, 'lanc': 1385, 'vol': 1386, 'libr': 1387, 'sge': 1388, 'astrophys': 1389, 'pression': 1390, 'environnementterreevolutionclimat': 1391, 'fle': 1392, 'ae': 1393, 'couvreurzingueur': 1394, 'clean': 1395, 'micro': 1396, 'lameubl': 1397, 'dexplos': 1398, 'bbrt': 1399, 'connect': 1400, 'lhabill': 1401, 'explos': 1402, 'guerr': 1403, 'méditerranéen': 1404, 'peintur': 1405, 'method': 1406, 'engineering': 1407, 'corp': 1408, 'aprèsvent': 1409, 'laccompagn': 1410, 'justic': 1411, 'lal': 1412, 'récréat': 1413, 'lunion': 1414, 'iber': 1415, 'rse': 1416, '3000': 1417, 'evolutionterreenvironnementclimat': 1418, 'catalan': 1419, 'ensis': 1420, 'cachan': 1421, 'voyag': 1422, 'indifférenci': 1423, 'détabl': 1424, 'cart': 1425, 'transversal': 1426, 'stu': 1427, 'programmeur': 1428, 'radiophon': 1429, 'neom': 1430, 'particuli': 1431, 'darm': 1432, 'dans': 1433, 'iaa': 1434, 'opt': 1435, 'context': 1436, 'ecotechnolog': 1437, 'webmarketing': 1438, 'essais': 1439, 'pro': 1440, 'station': 1441, 'éco': 1442, 'délivr': 1443, 'yacht': 1444, 'developpeur': 1445, 'c3p': 1446, 'sppnano': 1447, 'electricien': 1448, 'pastoral': 1449, 'reproduct': 1450, 'viticultur': 1451, 'lobjet': 1452, 'archivag': 1453, 'aquariolog': 1454, 'paléoenviron': 1455, 'météorolog': 1456, 'istec': 1457, 'multisupport': 1458, 'toulouseiii': 1459, 'gard': 1460, 'asur': 1461, 'météorologisteocéanograph': 1462, 'préventeur': 1463, 'maîtrechien': 1464, 'lemballag': 1465, 'european': 1466, 'immeubl': 1467, 'bac': 1468, 'licd': 1469, 'istab': 1470, 'sécurit': 1471, 'marchandis': 1472, 'entre': 1473, '3m': 1474, 'hélicopter': 1475, 'judojujitsu': 1476, 'taill': 1477, 'intermédiair': 1478, 'norm': 1479, 'valid': 1480, 'audt': 1481, 'apas': 1482, 'late': 1483, 'guideinterpret': 1484, 'epf': 1485, 'enscpb': 1486, 'télédétect': 1487, 'tt': 1488, 'compos': 1489, 'lactiv': 1490, 'petroleum': 1491, 'enr': 1492, 'sûr': 1493, 'computing': 1494, 'librair': 1495, 'cynophil': 1496, 'nic': 1497, 'histoiregéograph': 1498, 'cryptolog': 1499, 'francoitalien': 1500, 'drôm': 1501, 'ardêch': 1502, 'motoris': 1503, 'régisseur': 1504, 'constructeur': 1505, 'gde': 1506, 'chimist': 1507, 'vitivinicol': 1508, 'jouet': 1509, 'yncre': 1510, 'liti': 1511, 'desv': 1512, 'essai': 1513, 'veil': 1514, 'eactiv': 1515, 'shs1_2': 1516, 'ctm': 1517, 'hippiqu': 1518, 'biologiegest': 1519, 'slav': 1520, 'sarii': 1521, 'financecompt': 1522, 'esie': 1523, 'multimodal': 1524, 'mrqid': 1525, 'euro': 1526, 'sil': 1527, 'cnam': 1528, 'conflit': 1529, 'ntdp': 1530, 'scen': 1531, 'nutritions': 1532, 'xii': 1533, 'montag': 1534, 'spe': 1535, 'majeur': 1536, 'rm': 1537, 'pmi': 1538, 'lamélior': 1539, 'esstin': 1540, 'plaisanc': 1541, 'caoutchouc': 1542, 'gliss': 1543, 'alliag': 1544, 'marn': 1545, 'imac': 1546, 'developp': 1547, 'militair': 1548, 'qci': 1549, 'fl': 1550, 'cpjep': 1551, 'quotidien': 1552, 'dincend': 1553, 'plac': 1554, 'id': 1555, 'denseign': 1556, 'dencadr': 1557, 'bac3': 1558, 'géoénerg': 1559, 'gestionfin': 1560, 'ieseg': 1561, 'msci': 1562, 'sophrologu': 1563, 'cœur': 1564, 'biocœur': 1565, 'cirqu': 1566, 'larchéolog': 1567, 'equip': 1568, 'bt': 1569, 'monnai': 1570, 'mbd': 1571, 'radiocommun': 1572, 'fiabl': 1573, 'formel': 1574, 'étrangèresspécial': 1575, 'ensta': 1576, 'sourc': 1577, 'vend': 1578, 'étholog': 1579, 'micronanotechnolog': 1580, 'fréquenc': 1581, 'guideconférenci': 1582, 'dressag': 1583, 'aitsp': 1584, 'terrass': 1585, 'daid': 1586, 'bass': 1587, 'institutionnel': 1588, 'professorat': 1589, 'éven': 1590, 'alé': 1591, 'dsga': 1592, 'destruct': 1593, 'compatibil': 1594, 'electromagnet': 1595, 'maçon': 1596, 'neuf': 1597, 'volleyball': 1598, 'nordpasdecal': 1599, 'animali': 1600, 'reporting': 1601, 'post': 1602, 'ecocitoyen': 1603, 'lautonom': 1604, 'chauffag': 1605, 'géoingénier': 1606, 'dépend': 1607, 'archivist': 1608, 'soussol': 1609, 'si': 1610, 'microorgan': 1611, 'multilingu': 1612, 'pm': 1613, 'is': 1614, 'stid': 1615, 'négoc': 1616, 'diplom': 1617, 'créateurconcepteur': 1618, 'eben': 1619, 'lusophon': 1620, 'isep': 1621, 'niveau': 1622, 'mus': 1623, 'soudeur': 1624, 'louvr': 1625, 'piec': 1626, 'rechang': 1627, 'gestionanim': 1628, 'corporel': 1629, 'stic': 1630, 'bdi': 1631, 'dimmeubl': 1632, 'legal': 1633, 'enfanc': 1634, 'papi': 1635, 'dagenc': 1636, 'doreur': 1637, 'renforc': 1638, 'catégor': 1639, 'japonais': 1640, 'sid': 1641, 'rhônealp': 1642, 'isaralyon': 1643, 'anglaisitalien': 1644, 'cat': 1645, 'enscmu': 1646, 'adolescent': 1647, 'familial': 1648, '500': 1649, 'électroniqueinformat': 1650, 'sécuritair': 1651, 'acteur': 1652, 'supplychain': 1653, 'lentrepreneuriat': 1654, 'plong': 1655, 'patinag': 1656, 'plurimedi': 1657, 'prévision': 1658, 'handball': 1659, 'assistantcoordin': 1660, 'tpe': 1661, 'privat': 1662, 'banking': 1663, 'eipb': 1664, 'badg': 1665, 'matic': 1666, 'i2': 1667, 'viticol': 1668, 'bdis': 1669, 'maquilleur': 1670, 'lepf': 1671, 'projeteur': 1672, 'portefeuill': 1673, 'ensar': 1674, 'bat': 1675, 'special': 1676, 'eti': 1677, 'enscr': 1678, 'thérap': 1679, 'voir': 1680, 'interprétariat': 1681, 'stylist': 1682, 'infographistedesign': 1683, 'pelot': 1684, 'basqu': 1685, 'médiathequ': 1686, 'savat': 1687, 'dimag': 1688, 'calm': 1689, 'selli': 1690, 'mecan': 1691, 'dalpinismeaccompagn': 1692, 'parisgrignon': 1693, 'spécif': 1694, 'tarb': 1695, 'cavist': 1696, 'btm': 1697, 'paléobiolog': 1698, 'phylogen': 1699, 'lumomat': 1700, 'comport': 1701, 'psb': 1702, 'laos': 1703, 'géochim': 1704, 'géomatérial': 1705, 'géobiolog': 1706, '3ge': 1707, 'sctic': 1708, 'marinpompi': 1709, 'equit': 1710, 'région': 1711, 'qhse': 1712, 'synthet': 1713, 'sstim': 1714, 'lafi': 1715, 'initi': 1716, 'tic': 1717, 'miden': 1718, 'besançon': 1719, 'boisson': 1720, 'main': 1721, 'urgenc': 1722, 'ensat': 1723, 'mrsi': 1724, 'ecogest': 1725, 'financial': 1726, 'market': 1727, 'biothérap': 1728, 'sécuris': 1729, 'vitess': 1730, 'fif': 1731, 'aix': 1732, '750': 1733, 'léonard': 1734, 'vinc': 1735, 'parcourstyp': 1736, 'malveil': 1737, 'm3p': 1738, 'répar': 1739, 'électrotechnicien': 1740, 'technicienvendeur': 1741, 'raquet': 1742, 'taekwondo': 1743, 'numériquebrest': 1744, 'isenbrest': 1745, 'sémiot': 1746, 'enihp': 1747, 'membran': 1748, 'bobsleigh': 1749, 'enscp': 1750, 'v': 1751, 'bassin': 1752, 'vers': 1753, 'grenobleprogramm': 1754, 'sécuritésûret': 1755, 'mta': 1756, 'vasculair': 1757, 'athéroscléros': 1758, 'thrombos': 1759, 'hémostas': 1760, 'bivath': 1761, 'cmao': 1762, 'alpin': 1763, 'webmestr': 1764, 'never': 1765, 'bourgogn': 1766, 'initial': 1767, 'statut': 1768, 'apprent': 1769, 'trilingu': 1770, 'perpignan': 1771, 'maison': 1772, 'fa': 1773, 'carthagéo': 1774, 'isit': 1775, 'despac': 1776, 'agroenvironnemental': 1777, 'voixdon': 1778, 'qsa': 1779, 'biominéralis': 1780, 'morphogenes': 1781, 'bmpi': 1782, 'integre': 1783, 'gil': 1784, 'limpact': 1785, 'asic': 1786, 'spéléolog': 1787, 'gr2e': 1788, 'mediat': 1789, 'identit': 1790, 'mobilit': 1791, 'latinoaméricain': 1792, 'depm': 1793, 'sis': 1794, 'arme': 1795, 'muscul': 1796, 'lobbying': 1797, 'pp': 1798, 'usin': 1799, 'ilsen': 1800, 'silicium': 1801, 'ver': 1802, 'msti': 1803, 'biologiebiochimiebiotechnolog': 1804, 'nordiqu': 1805, 'transfert': 1806, 'ere': 1807, 'manifest': 1808, 'dnat': 1809, 'gvpa': 1810, 'archéogeoscient': 1811, 'age': 1812, 'diplomat': 1813, 'cw': 1814, 'probabl': 1815, 'radar': 1816, 'maintien': 1817, 'tapis': 1818, 'ovin': 1819, 'bac5': 1820, 'mécaniqueproduct': 1821, 'fin': 1822, 'esac': 1823, 'parc': 1824, 'valpec': 1825, 'alençon': 1826, 'ventil': 1827, 'marnel': 1828, 'europeen': 1829, 'hôtellerierestaur': 1830, 'gastronom': 1831, 'précis': 1832, '8000': 1833, 'plc': 1834, 'dhistoir': 1835, 'individuel': 1836, 'escalad': 1837, 'dengin': 1838, 'even': 1839, 'ministr': 1840, 'webdigital': 1841, 'dagronom': 1842, 'dessinateurconcepteur': 1843, 'dao': 1844, 'assain': 1845, 'immun': 1846, 'karat': 1847, 'fodip': 1848, 'conduir': 1849, 'mtibh': 1850, 'dorient': 1851, 'tableau': 1852, 'nuc': 1853, 'eadministr': 1854, 'déquit': 1855, 'magazin': 1856, 'imvi': 1857, 'biomécan': 1858, 'bmi': 1859, 'motonaut': 1860, 'soigneur': 1861, 'multimedi': 1862, 'mobiqu': 1863, 'admin': 1864, 'pac': 1865, 'ger': 1866, 'estp': 1867, 'dnsep': 1868, 'stem': 1869, 'systémat': 1870, 'map': 1871, 'mining': 1872, 'sd': 1873, 'oriental': 1874, 'musical': 1875, 'sculpteur': 1876, 'électrotechniqueélectron': 1877, 'p2eb': 1878, 'q': 1879, 'mat': 1880, 'esigelec': 1881, 'ethiqu': 1882, 'pcmhp': 1883, 'press': 1884, 'neuro': 1885, 'egal': 1886, 'alimentssant': 1887, 'famill': 1888, 'escrim': 1889, 'entrepreneurial': 1890, 'mission': 1891, 'encadreur': 1892, 'rentoileur': 1893, 'sensibl': 1894, 'expériment': 1895, 'minestelecom': 1896, 'addit': 1897, 'capac': 1898, 'anglaischinois': 1899, 'biologieinformatiquebioinformat': 1900, 'bib': 1901, 'escom': 1902, 'lexcept': 1903, 'ouvert': 1904, 'degre': 1905, 'cac': 1906, 'besoin': 1907, 'lintelligent': 1908, 'bioressourc': 1909, 'anglaisespagnol': 1910, 'tir': 1911, 'app': 1912, 'nuit': 1913, 'lécoefficac': 1914, 'tourn': 1915, 'photograph': 1916, 'acrobat': 1917, 'lenquêt': 1918, 'souffler': 1919, 'piscin': 1920, 'randon': 1921, 'tellur': 1922, 'rnt': 1923, 'vii': 1924, 'athlé': 1925, 'équit': 1926, 'typ': 1927, 'new': 1928, 'mct': 1929, 'compt': 1930, 'parfumer': 1931, 'oenotour': 1932, 'régim': 1933, 'référenceur': 1934, 'rrw': 1935, 'profit': 1936, 'm2si': 1937, 'fort': 1938, 'suiv': 1939, 'journalist': 1940, 'pépini': 1941, 'motriqu': 1942, 'caodao': 1943, 'staff': 1944, 'percept': 1945, 'périscolair': 1946, 'avicol': 1947, 'agrienvironnemental': 1948, 'isem': 1949, 'ecodévelopp': 1950, 'ecodev': 1951, 'mobili': 1952, 'sculpt': 1953, 'fraiseur': 1954, 'cca': 1955, 'oléohydraul': 1956, 'asstri': 1957, 'vign': 1958, 'rédacteurreport': 1959, 'champagnearden': 1960, 'tpepm': 1961, 'geomat': 1962, 'réalit': 1963, 'faun': 1964, 'raffinag': 1965, 'im': 1966, 'mondialis': 1967, 'mim': 1968, 'lingenieur': 1969, 'dexécu': 1970, 'coiffur': 1971, 'egp': 1972, 'film': 1973, 'iecg': 1974, 'règlement': 1975, 'inpt': 1976, 'eivp': 1977, 'csi': 1978, 'nonalimentair': 1979, 'francoespagnol': 1980, 'tapissi': 1981, 'rejet': 1982, 'essig': 1983, 'ppp': 1984, 'concert': 1985, 'isman': 1986, 'physicien': 1987, 'indien': 1988, 'an': 1989, 'magasin': 1990, 'prestat': 1991, 'itech': 1992, 'step': 1993, 'chaud': 1994, 'darc': 1995, 'electricit': 1996, 'immot': 1997, 'color': 1998, 'mult': 1999, 'inflamm': 2000, 'malad': 2001, 'imi': 2002, 'clay': 2003, 'ostéopath': 2004, 'personnel': 2005, 'magasini': 2006, 'domicil': 2007, 'médicamentmacromolécul': 2008, 'protéom': 2009, 'nutritionnel': 2010, 'qualimap': 2011, 'dénomin': 2012, 'prodv': 2013, 'mondial': 2014, 'rivi': 2015, 'gemap': 2016, 'détail': 2017, 'fortun': 2018, 'mmri': 2019, 'inégal': 2020, 'anticip': 2021, 'plan': 2022, 'contingent': 2023, 'imr': 2024, 'professionnelrecherch': 2025, 'microproced': 2026, 'pentathlon': 2027, 'ecoénergéticien': 2028, 'educationform': 2029, 'sir': 2030, 'interentrepris': 2031, 'métabol': 2032, 'numes': 2033, 'igac': 2034, 'hydroinformat': 2035, 'euroaqua': 2036, 'ifi': 2037, 'couch': 2038, 'minc': 2039, 'destin': 2040, 'informaticien': 2041, 'lintervent': 2042, 'modetextil': 2043, 'sag': 2044, 'emailleur': 2045, 'cryptograph': 2046, 'écotechnolog': 2047, 'rémuner': 2048, 'scolair': 2049, 'ris': 2050, 'léger': 2051, 'qte': 2052, 'laid': 2053, 'dentraîn': 2054, 'emn': 2055, 'mido': 2056, 'miageinformat': 2057, 'aïkido': 2058, '14': 2059, 'électricien': 2060, 'lecam': 2061, 'sup': 2062, 'spingénier': 2063, 'hôtel': 2064, 'traducteur': 2065, 'letat': 2066, '2g': 2067, 'psi': 2068, 'lélectr': 2069, 'amo': 2070, 'edt': 2071, 'carrosser': 2072, 'provencealpescôt': 2073, 'mécénat': 2074, 'ensip': 2075, 'détat': 2076, 'enstimd': 2077, 'pédagog': 2078, 'cheff': 2079, 'logisticien': 2080, 'rif': 2081, 'bdc': 2082, 'denviron': 2083, 'compagnon': 2084, 'métaller': 2085, 'planif': 2086, 'aéromaritim': 2087, 'roman': 2088, 'baseball': 2089, 'softball': 2090, 'anticorros': 2091, 'edhec': 2092, 'etour': 2093, 'gessoco': 2094, 'nautism': 2095, '39': 2096, 'natural': 2097, 'lessec': 2098, 'project': 2099, 'esthéticien': 2100, 'humanit': 2101, 'déven': 2102, 'lexport': 2103, 'haltérophil': 2104, 'forc': 2105, 'lurbain': 2106, 'autonomis': 2107, 'réadapt': 2108, 'passif': 2109, 'versaill': 2110, 'saintquentinenyvelin': 2111, 'surf': 2112, 'toiletteur': 2113, 'canin': 2114, '4': 2115, 'hydrogeology': 2116, 'associated': 2117, 'transfer': 2118, 'microscop': 2119, 'grh': 2120, 'ip': 2121, 'alter': 2122, 'démarch': 2123, 'étancheur': 2124, 'bardeur': 2125, 'poitoucharent': 2126, 'lordr': 2127, 'gameplay': 2128, 'cnano': 2129, 'dyn': 2130, 'medic': 2131, 'hyperfréquent': 2132, 'desk': 2133, 'risk': 2134, 'genet': 2135, 'lelevag': 2136, 'hack': 2137, 'eipiisp': 2138, 'dang': 2139, 'enim': 2140, 'neuropsycholog': 2141, 'tourspoiti': 2142, 'lhabitat': 2143, 'mips': 2144, 'factur': 2145, 'instrumental': 2146, 'guidon': 2147, 'mediterraneen': 2148, 'ingesam': 2149, 'façad': 2150, 'condit': 2151, 'visualis': 2152, 'protéin': 2153, 'recombin': 2154, 'echang': 2155, 'démantel': 2156, 'tres': 2157, 'mqsa': 2158, 'idse': 2159, 'hispanoaméricain': 2160, 'enge': 2161, 'cours': 2162, 'déficient': 2163, 'troubl': 2164, 'psychiqu': 2165, 'ape': 2166, 'assistanat': 2167, 'maternel': 2168, 'sociologieethnolog': 2169, 'turbin': 2170, 'psychanalyt': 2171, 'electronicien': 2172, 'expertisemesuresenviron': 2173, 'écoconstruct': 2174, 'mec': 2175, 'ensmse': 2176, 'gath': 2177, 'écoéclairag': 2178, 'canalis': 2179, 'gazon': 2180, 'electrotechnicien': 2181, 'pge': 2182, 'enseirb': 2183, 'adult': 2184, 'adret': 2185, 'entreprenariat': 2186, 'tropical': 2187, 'porteur': 2188, 'ensembl': 2189, 'sibm': 2190, 'languesscient': 2191, 'reliur': 2192, 'inadapt': 2193, 'mercat': 2194, 'ebp': 2195, 'multinational': 2196, 'ieap': 2197, 'ir': 2198, 'lectur': 2199, 'tcna': 2200, 'agi': 2201, 'peint': 2202, 'dentel': 2203, 'tuyauteur': 2204, 'quaternair': 2205, 'entrepôt': 2206, 'statisit': 2207, 'son': 2208, 'iss': 2209, 'bp2mc': 2210, 'énergieenviron': 2211, 'lapproch': 2212, 'comédien': 2213, 'aidemoniteur': 2214, 'cp': 2215, 'imoc': 2216, 'périod': 2217, 'beaut': 2218, 'excellent': 2219, 'verrer': 2220, 'rinf': 2221, 'qualitéanim': 2222, 'illustr': 2223, 'contruct': 2224, 'magm': 2225, 'volcan': 2226, 'écomarketing': 2227, 'oenolog': 2228, 'reprodev': 2229, 'lorganis': 2230, 'chauffeur': 2231, 'ramasseur': 2232, 'économiegest': 2233, 'éditeur': 2234, '7': 2235, 'print': 2236, 'aspect': 2237, 'anglaisarab': 2238, 'sigm': 2239, 'embarque': 2240, 'maserat': 2241, 'biomatérial': 2242, 'réserv': 2243, 'aérospatial': 2244, 'laccueil': 2245, 'plur': 2246, 'offshor': 2247, 'como': 2248, 'communautair': 2249, 'mspc': 2250, 'cultiv': 2251, 'graphism': 2252, 'poseur': 2253, 'ep': 2254, 'hydraulicien': 2255, 'ste': 2256, 'ocean': 2257, 'hauturi': 2258, 'envolh': 2259, 'hydro': 2260, 'enscl': 2261, 'enstib': 2262, 'tourneur': 2263, 'arab': 2264, 'trampolin': 2265, 'âgé': 2266, 'plein': 2267, 'émergent': 2268, 'ales': 2269, 'ema': 2270, 'ensma': 2271, 'spécialisteconseil': 2272, 'éthiqu': 2273, 'mass': 2274, 'gim': 2275, 'soutien': 2276, 'fronti': 2277, 'gsig': 2278, 'acquisit': 2279, 'dappareillag': 2280, 'réduit': 2281, 'gedd': 2282, 'prospect': 2283, 'bou': 2284, 'propret': 2285, 'esieeit': 2286, 'attelag': 2287, 'sculptur': 2288, 'tal': 2289, 'cynotechnicien': 2290, 'voier': 2291, 'mcci': 2292, 'luther': 2293, 'archèter': 2294, 'incomplet': 2295, 'vêt': 2296, 'chaussur': 2297, 'foret': 2298, 'qsrid': 2299, 'douvrag': 2300, 'bce': 2301, 'membr': 2302, 'équipag': 2303, 'bpti': 2304, 'doctorat': 2305, 'envron': 2306, 'doctoral': 2307, 'gai': 2308, '584': 2309, 'théâtral': 2310, 'bivrd': 2311, 'agroécolog': 2312, 'rh': 2313, 'mgo': 2314, 'dam': 2315, 'aviat': 2316, 'mcc': 2317, 'décolletag': 2318, 'dalbicarmal': 2319, 'vidéolud': 2320, 'dynarisk': 2321, 'iv': 2322, 'ecophysiolog': 2323, 'fiem': 2324, 'tp': 2325, 'bem': 2326, 'chambr': 2327, 'dindustr': 2328, 'cheerleading': 2329, 'câbleur': 2330, 'dauxiliair': 2331, 'deav': 2332, 'dacces': 2333, 'daeu': 2334, 'negoci': 2335, 'ramoneur': 2336, 'ssi': 2337, 'ong': 2338, 'ina': 2339, 'pg': 2340, 'rochel': 2341, 'françoisrabel': 2342, 'god': 2343, 'diagnost': 2344, 'comm': 2345, 'gendarm': 2346, 'concepteurdéveloppeur': 2347, 'dassur': 2348, 'dinterfac': 2349, 'sommelierconseil': 2350, 'bioprotect': 2351, 'agrobio': 2352, 'ludiqu': 2353, 'subsurfac': 2354, 'g2': 2355, 'inba': 2356, 'grec': 2357, 'vem': 2358, 'spectrometr': 2359, 'scénar': 2360, 'tmic': 2361, 'transfronti': 2362, 'formationscient': 2363, 'mid': 2364, 'fruit': 2365, 'légum': 2366, 'lescem': 2367, 'dhéberg': 2368, 'lapc': 2369, 'sieg': 2370, 'ensgti': 2371, 'croupi': 2372, 'chemin': 2373, 'fumist': 2374, 'cavali': 2375, 'grespii': 2376, 'polissag': 2377, '2d3d': 2378, 'jardini': 2379, 'autom': 2380, 'rn': 2381, 'biologiesantéenviron': 2382, 'bse': 2383, 'cohabilit': 2384, 'écrivain': 2385, 'couvreur': 2386, 'machinesoutil': 2387, 'engref': 2388, 'maroquini': 2389, 'dhôteller': 2390, 'psychologu': 2391, 'discrimin': 2392, 'champ': 2393, 'lemploi': 2394, 'eservic': 2395, 'gescosto': 2396, 'agenc': 2397, 'plm': 2398, 'ensi': 2399, 'effluent': 2400, 'gazeux': 2401, 'crossmedi': 2402, 'lait': 2403, 'alim': 2404, 'décout': 2405, 'cim': 2406, 'stetien': 2407, 'déolien': 2408, 'façonni': 2409, 'activit': 2410, 'pep': 2411, 'ecoépidémiolog': 2412, 'pur': 2413, 'scaphandri': 2414, 'da2': 2415, 'rennes': 2416, 'dinvestig': 2417, 'confirm': 2418, 'accu': 2419, 'shiatsu': 2420, 'iosi': 2421, 'ferronni': 2422, 'ense': 2423, 'bateau': 2424, 'ensban': 2425, 'démograph': 2426, 'administrationmainten': 2427, 'tpa': 2428, 'contamin': 2429, 'profess': 2430, 'leurop': 2431, 'dimens': 2432, 'lhorticultur': 2433, 'dhorticultur': 2434, 'essec': 2435, 'asrall': 2436, 'ima': 2437, 'électronicien': 2438, 'relationnel': 2439, 'ghbv': 2440, 'vetagro': 2441, 'frontend': 2442, 'écoconcepteur': 2443, 'roll': 2444, 'aromat': 2445, 'lachat': 2446, 'clermontferrandii': 2447, 'descrim': 2448, 'fleuret': 2449, 'épé': 2450, 'sabr': 2451, 'sma': 2452, 'bioproduit': 2453, 'nordp': 2454, 'ddomen': 2455, 'acsyon': 2456, 'symbol': 2457, 'lexposit': 2458, 'nettoi': 2459, 'envion': 2460, 'general': 2461, 'rism': 2462, 'davocat': 2463, 'infocom': 2464, 'fecg': 2465, 'évolut': 2466, 'emarketing': 2467, 'couvertureorneman': 2468, 'couvertur': 2469, 'métalli': 2470, 'cesm': 2471, 'daménag': 2472, 'msi': 2473, 'laviat': 2474, 'wakeboard': 2475, 'engin': 2476, 'tract': 2477, 'denerg': 2478, 'feu': 2479, 'déclar': 2480, 'douan': 2481, '17502000': 2482, 'ecritur': 2483, 'biov': 2484, 'mension': 2485, 'sein': 2486, 'manutent': 2487, 'dinstitut': 2488, 'victimolog': 2489, 'epit': 2490, 'spé': 2491, 'masseurkinésithérapeut': 2492, 'simo': 2493, 'thalassothérap': 2494, 'groupex': 2495, 'franchis': 2496, 'anglaisportug': 2497, 'devop': 2498, 'nordest': 2499, 'multitechn': 2500, 'dhepsrep': 2501, 'argument': 2502, 'influenc': 2503, 'isvd': 2504, 'luic': 2505, 'linsert': 2506, 'métropolitain': 2507, 'ast': 2508, 'corridor': 2509, 'fluvial': 2510, 'imacof': 2511, 'bretagnepay': 2512, 'qsrim': 2513, 'electrohydraul': 2514, 'minor': 2515, 'exterieur': 2516, 'desm': 2517, 'rdm': 2518, 'ensg': 2519, 'mai': 2520, 'conform': 2521, '360': 2522, 'ascenseur': 2523, 'personnal': 2524, 'mr': 2525, 'gros': 2526, 'bijouter': 2527, 'joailler': 2528, 'mp': 2529, 'masp': 2530, 'péril': 2531, 'agrodistribu': 2532, 'terrain': 2533, 'cogevaleau': 2534, 'lenf': 2535, 'help': 2536, 'artslettreslanguesscient': 2537, 'editeur': 2538, 'hautenormand': 2539, 'lecobât': 2540, 'enssat': 2541, 'processproduitpeintur': 2542, 'ami': 2543, 'pianos': 2544, 'evènementiel': 2545, 'couteller': 2546, 'fabric': 2547, 'couteau': 2548, 'denr': 2549, 'dinsert': 2550, 'dscg': 2551, 'mqsei': 2552, 'bvi': 2553, 'elib': 2554, 'euromedi': 2555, 'cicm': 2556, 'gravur': 2557, 'pétrochim': 2558, 'francophon': 2559, 'philolog': 2560, 'coiffeur': 2561, 'conseillerer': 2562, 'biotech': 2563, 'canc': 2564, 'imhp': 2565, 'affinitair': 2566, 'rhéolog': 2567, 'poétiqu': 2568, 'inclus': 2569, 'lah': 2570, 'ibéroaméricain': 2571, 'aquacol': 2572, 'dest': 2573, 'qualifi': 2574, 'modeleur': 2575, 'pouvoir': 2576, 'chevalet': 2577, 'conservationrestaur': 2578, 'fitness': 2579, 'cour': 2580, 'bbc': 2581, 'phytochim': 2582, 'ensiet': 2583, 'deust': 2584, 'mesureanalys': 2585, 'arc': 2586, 'plongeurdémineur': 2587, 'bureaut': 2588, 'plateform': 2589, 'culinair': 2590, 'squash': 2591, 'anglaisjapon': 2592, 'ecnant': 2593, 'déform': 2594, 'union': 2595, 'ceseat': 2596, 'fb': 2597, 'biomar': 2598, 'saamtn': 2599, 'sondeur': 2600, 'sapeurpompi': 2601, 'erp': 2602, 'progiciel': 2603, 'lassur': 2604, 'marqueur': 2605, 'eapt': 2606, 'transact': 2607, 'financecomptabilitécontrôl': 2608, 'ecosm': 2609, 'collecteur': 2610, 'biodéchet': 2611, 'eigs': 2612, 'stuctur': 2613, 'esap': 2614, 'afitp': 2615, 'recyclag': 2616, 'contrôlequal': 2617, 'enspim': 2618, 'fibr': 2619, 'polon': 2620, 'apc': 2621, 'soud': 2622, 'pra': 2623, 'ensii': 2624, 'enquêteuragent': 2625, 'lisppicard': 2626, 'rihm': 2627, 'daction': 2628, 'interprofessionnel': 2629, 'côti': 2630, 'iti': 2631, 'maroquiner': 2632, 'mariag': 2633, 'débardag': 2634, 'être': 2635, 'concierg': 2636, 'tiss': 2637, 'egalit': 2638, 'wushu': 2639, 'cesem': 2640, 'ensp': 2641, 'géomarketing': 2642, 'métrologu': 2643, 'imaginair': 2644, 'genes': 2645, 'igl': 2646, 'veilleur': 2647, 'ense3': 2648, 'dapprovision': 2649, 'lean': 2650, 'sportic': 2651, 'igsi': 2652, 'mental': 2653, 'concurrent': 2654, 'effet': 2655, 'isi': 2656, 'imanag': 2657, 'épicer': 2658, 'reservoir': 2659, 'geoscienc': 2660, '6': 2661, 'russophon': 2662, 'syndical': 2663, 'community': 2664, 'iri': 2665, 'cristaller': 2666, 'tailleur': 2667, 'lenitab': 2668, 'depuis': 2669, '2012': 2670, 'plurilingu': 2671, 'découp': 2672, 'pâtissi': 2673, 'etancheur': 2674, 'télésurveil': 2675, 'meppp': 2676, 'extract': 2677, 'créationrepris': 2678, 'élastomer': 2679, 'surv': 2680, 'cffp': 2681, 'dhospital': 2682, 'aslh': 2683, 'divers': 2684, 'crêpi': 2685, 'géopolit': 2686, 'extérieur': 2687, 'intra': 2688, 'agro': 2689, 'suret': 2690, 'urbainsterritorial': 2691, 'psychothérap': 2692, 'enesad': 2693, 'limit': 2694, 'mill': 2695, 'géoenviron': 2696, 'terminal': 2697, 'critiqu': 2698, 'biocontamin': 2699, 'barman': 2700, 'anglaiscoréen': 2701, 'processuel': 2702, 'gp': 2703, 'tig': 2704, 'lexiqu': 2705, 'atomicien': 2706, 'esag': 2707, 'imaf': 2708, 'aupres': 2709, 'internationalestraduct': 2710, 've': 2711, 'bilingu': 2712, 'plieur': 2713, 'actuel': 2714, 'publicpriv': 2715, 'entrepreunariat': 2716, 'esa': 2717, 'microcircuit': 2718, 'ferronner': 2719, 'griss': 2720, 'boul': 2721, 'content': 2722, 'emploiform': 2723, 'denf': 2724, 'daptitud': 2725, 'sourd': 2726, 'tissulair': 2727, 'géniqu': 2728, 'impact': 2729, 'sest': 2730, 'agenceur': 2731, 'sall': 2732, 'bain': 2733, 'pmetp': 2734, 'gymnast': 2735, 'nonlinéair': 2736, 'dévènementiel': 2737, 'hcr': 2738, 'caf': 2739, 'mtd': 2740, 'voi': 2741, 'lœuvr': 2742, 'lair': 2743, 'révis': 2744, 'daéronef': 2745, 'me': 2746, 'ingénierieécoul': 2747, 'diphas': 2748, 'concepteurréalis': 2749, 'asserv': 2750, 'héberg': 2751, 'mqsi': 2752, 'moyenag': 2753, 'hypermédi': 2754, 'podcast': 2755, 'documentar': 2756, 'dextrus': 2757, 'epidemiolog': 2758, 'ében': 2759, 'deermal': 2760, 'dinventair': 2761, 'lagrochim': 2762, 'béton': 2763, 'semiautomat': 2764, 'omnicanal': 2765, 'dess': 2766, 'lensilensc': 2767, 'lif3': 2768, 'hydroprotech': 2769, 'insa': 2770, 'um': 2771, 'ntic': 2772, 'communicationmarketing': 2773, 'sociopsycholog': 2774, 'logiqu': 2775, 'mécaniqueélectr': 2776, 'anthropologieethnolog': 2777, 'extranetintranet': 2778, 'organiz': 2779, 'toxicologieenvironnementsant': 2780, 'menac': 2781, 'denquêt': 2782, 'inspect': 2783, 'hydrosystem': 2784, 'gendarmer': 2785, 'isifar': 2786, 'gpla': 2787, 'insert': 2788, 'larc': 2789, 'compétit': 2790, 'marionnet': 2791, 'volumin': 2792, 'stud': 2793, 'research': 2794, 'oro': 2795, 'dentreposag': 2796, 'protohistoir': 2797, 'africain': 2798, 'intégrationadministr': 2799, 'chimiematérial': 2800, 'imprim': 2801, 'télesk': 2802, 'lesitp': 2803, 'cynéget': 2804, 'mont': 2805, 'blanc': 2806, 'neurobiolog': 2807, 'scéniqu': 2808, 'prevent': 2809, 'pgrd': 2810, 'préhistor': 2811, 'llcer': 2812, 'spiritual': 2813, 'stuc': 2814, 'coti': 2815, 'western': 2816, 'point': 2817, 'billard': 2818, 'nanobiomatérial': 2819, 'psychanalys': 2820, 'plâtr': 2821, 'lisol': 2822, 'bpbm': 2823, 'biotransform': 2824, 'ensim': 2825, 'productiontrait': 2826, 'svt': 2827, 'nct': 2828, 'telecommunci': 2829, 'hostil': 2830, 'lévénementiel': 2831, 'adour': 2832, 'rec': 2833, 'tonneller': 2834, 'agrobusiness': 2835, 'oga': 2836, 'ergolog': 2837, 'operationnel': 2838, 'decis': 2839, 'aviron': 2840, 'surêt': 2841, 'méri': 2842, 'itcbtp': 2843, 'sépcial': 2844, 'mind': 2845, 'botter': 2846, 'podo': 2847, 'orthes': 2848, 'chaudron': 2849, 'ggrc': 2850, 'livreur': 2851, 'maitris': 2852, 'vulner': 2853, 'volum': 2854, 'engazon': 2855, 'périurbanis': 2856, 'erpur': 2857, 'zinguer': 2858, 'troisiem': 2859, 'conventionnel': 2860, 'linéair': 2861, 'comptabilitécontrôleaud': 2862, 'conseilexpert': 2863, 'erédactionnel': 2864, 'pneumat': 2865, 'prim': 2866, '23': 2867, 'tci': 2868, '33': 2869, 'cid': 2870, 'boulist': 2871, 'télépher': 2872, 'bicâbl': 2873, 'funiculair': 2874, 'appareil': 2875, 'assimil': 2876, 'listom': 2877, 'tissag': 2878, 'tisag': 2879, 'soi': 2880, 'retoucheur': 2881, 'tôl': 2882, 'nu': 2883, 'réel': 2884, 'sauvag': 2885, 'gost': 2886, 'harnacheur': 2887, 'nomad': 2888, 'mmmef': 2889, 'havr': 2890, 'régleurdécolleteur': 2891, 'domest': 2892, 'ared': 2893, 'i2e': 2894, 'moul': 2895, 'iie': 2896, 'att': 2897, 'notat': 2898, 'chorégraphi': 2899, 'récolt': 2900, 'oop': 2901, 'ebi': 2902, 'spassur': 2903, 'larchitectur': 2904, 'réflexologu': 2905, 'communiqu': 2906, 'couleur': 2907, 'agréeur': 2908, 'pec': 2909, 'intéract': 2910, 'exdiplôm': 2911, 'lecg': 2912, 'cithec': 2913, 'tapissiertapissi': 2914, 'dameubl': 2915, 'difficult': 2916, 'simultan': 2917, 'géographieurban': 2918, 'publicitair': 2919, 'poêl': 2920, 'enstim': 2921, 'bijouti': 2922, 'textuel': 2923, 'disqu': 2924, 'dhygien': 2925, 'méthodolog': 2926, 'métropolis': 2927, 'hospital': 2928, 'léven': 2929, 'egypt': 2930, 'dynast': 2931, 'hellénist': 2932, 'romain': 2933, 'bourg': 2934, 'atpla': 2935, 'licenseaeroplan': 2936, 'demand': 2937, 'différenci': 2938, 'gdc': 2939, '17': 2940, 'darchitectur': 2941, 'ugv': 2942, 'micp': 2943, 'idé': 2944, 'lantiqu': 2945, 'agapsc': 2946, 'ap': 2947, 'vidéophoto': 2948, 'tandem': 2949, 'souterrain': 2950, 'ier': 2951, 'igis': 2952, 'refug': 2953, 'dessinateurcartograph': 2954, 'lav': 2955, 'biologieécolog': 2956, 'démonteur': 2957, 'automoibl': 2958, 'embarc': 2959, 'cultural': 2960, 'iic': 2961, 'daocaofao': 2962, 'moulag': 2963, 'cuit': 2964, 'epm': 2965, 'dappareil': 2966, 'hydrobalnéologu': 2967, 'stl': 2968, 'hf': 2969, 'ppasp': 2970, 'actuariat': 2971, 'bep': 2972, 'automot': 2973, 'for': 2974, 'sustain': 2975, 'mobility': 2976, 'emcsm': 2977, 'vdivsm': 2978, 'dec': 2979, 'fluidesenergiesenviron': 2980, 'maint': 2981, 'lhomm': 2982, 'éthnolog': 2983, 'encre': 2984, 'adhes': 2985, 'connex': 2986, 'ensci': 2987, 'ecmn': 2988, 'scénograph': 2989, 'sig': 2990, 'maraudeur': 2991, 'bioanalys': 2992, 'multiti': 2993, 'mrn': 2994, 'cathod': 2995, 'corpus': 2996, 'lilac': 2997, 'personnag': 2998, 'audiovisuellemultimédi': 2999, 'artisanat': 3000, 'miqs': 3001, 'ieii': 3002, 'iot': 3003, 'sportspécial': 3004, 'fleurist': 3005, 'dequip': 3006, 'cied': 3007, 'plaquisteplâtri': 3008, 'internetintranet': 3009, 'itb': 3010, 'achatvent': 3011, 'massy': 3012, 'dermocosmet': 3013, 'dedpad': 3014, 'crypt': 3015, 'hydrotechnicien': 3016, 'radiopharmaceut': 3017, 'tournag': 3018, 'torsag': 3019, 'enquêt': 3020, 'échelon': 3021, 'vrd': 3022, 'médicopsycholog': 3023, 'deamp': 3024, 'criminalist': 3025, 'périnatal': 3026, 'binational': 3027, 'bionettoyag': 3028, 'réparateurgestionnair': 3029, 'étrangèresecond': 3030, 'plomber': 3031, 'sciencestechnologiess': 3032, 'mig': 3033, 'supest': 3034, 'maîtress': 3035, 'poney': 3036, 'dépanneur': 3037, 'pai': 3038, 'spcritiqu': 3039, 'esdoc': 3040, 'laser': 3041, 'centralesupélec': 3042, 'toulon': 3043, 'dinclus': 3044, 'cisp': 3045, 'modernis': 3046, 'dplg': 3047, 'iat': 3048, 'oenotourist': 3049, 'citoyennet': 3050, 'itiner': 3051, 'taxiderm': 3052, 'rentraitur': 3053, 'doeuvr': 3054, 'électroacoust': 3055, 'pharmacoepidemiolog': 3056, 'pharmacovigil': 3057, 'pepv': 3058, 'traction': 3059, 'sar': 3060, 'cdl': 3061, 'dst': 3062, 'gedel': 3063, 'concepteurintegr': 3064, 'reg': 3065, 'illettr': 3066, 'hyroinformat': 3067, 'aqua': 3068, 're': 3069, 'aluminium': 3070, 'polytechtour': 3071, 'lencadr': 3072, 'm3e': 3073, 'poch': 3074, 'voitur': 3075, 'adapte': 3076, 'mip': 3077, 'imq': 3078, 'dexpert': 3079, 'professionelrecherch': 3080, 'cfao': 3081, 'ethnomusicolog': 3082, 'meedd': 3083, 'ebénister': 3084, 'entrepreunarial': 3085, 'foqual': 3086, 'daviron': 3087, 'bioqualim': 3088, 'normal': 3089, 'cricket': 3090, 'actif': 3091, 'isab': 3092, 'bioingenier': 3093, 'ciblag': 3094, 'lefficac': 3095, 'aideappareilleur': 3096, 'maintenancecontrôl': 3097, 'prévisionnel': 3098, 'casinosj': 3099, 'ises': 3100, 'consolid': 3101, 'genealog': 3102, 'successoral': 3103, 'altern': 3104, 'partag': 3105, 'administrateurproducteur': 3106, 'sommeli': 3107, 'ambassadeur': 3108, 'transparent': 3109, 'codiplom': 3110, 'karlfranzensuniversität': 3111, 'graz': 3112, 'autrich': 3113, 'katholiek': 3114, 'universiteit': 3115, 'leuven': 3116, 'belgiqu': 3117, 'isr': 3118, 'assemblag': 3119, 'tsibh': 3120, 'aqsp': 3121, 'gpi': 3122, 'gescop': 3123, 'gemmologu': 3124, 'comen': 3125, 'restaurateurconserv': 3126, 'polychrom': 3127, 'instructeur': 3128, 'personal': 3129, 'training': 3130, 'dinander': 3131, 'bioterr': 3132, 'utilis': 3133, 'promat': 3134, 'divis': 3135, 'poreux': 3136, 'scd': 3137, 'judojiujitsu': 3138, 'alpe': 3139, 'géomesur': 3140, 'fonci': 3141, 'daéronaut': 3142, 'dartist': 3143, 'dnsp': 3144, 'ac': 3145, 'orfevr': 3146, 'orfèvrer': 3147, 'zoolog': 3148, 'ecology': 3149, 'emmcema': 3150, 'systèmesavion': 3151, 'chaux': 3152, 'réfract': 3153, 'd2a': 3154, 'diesel': 3155, 'ascensionnel': 3156, 'biosourc': 3157, 'agglomer': 3158, 'écocitoyen': 3159, 'irt': 3160, 'djce': 3161, 'offici': 3162, 'hydropraticien': 3163, 'géoréférenc': 3164, 'répartit': 3165, 'voyageur': 3166, 'esp': 3167, 'leg': 3168, 'microinformat': 3169, 'xvii': 3170, 'toilettag': 3171, 'biotechnologiesspécial': 3172, 'francotchequ': 3173, 'lautrich': 3174, 'perspect': 3175, 'transnational': 3176, 'arrosag': 3177, 'gamif': 3178, 'analog': 3179, 'sdo': 3180, 'isam': 3181, 'protest': 3182, 'tsm': 3183, 'américain': 3184, 'flag': 3185, 'cred': 3186, 'miagesitn': 3187, 'isur': 3188, 'caravan': 3189, 'accordeur': 3190, 'recharg': 3191, 'analysteprogrammeur': 3192, 'interneextern': 3193, 'padel': 3194, 'pass': 3195, 'pipi': 3196, 'tourner': 3197, 'matc': 3198, 'isol': 3199, 'rang': 3200, 'nondestruct': 3201, 'manufacturi': 3202, 'dinterieurdesign': 3203, 'aeroteam': 3204, 'groom': 3205, 'd2m': 3206, 'qes': 3207, 'droitéconomiegest': 3208, 'administrateurric': 3209, 'reconstructeur': 3210, 'articl': 3211, 'etai': 3212, 'bûcheronnag': 3213, 'manuel': 3214, 'aaqcb': 3215, 'temball': 3216, 'parachim': 3217, 'dpac': 3218, 'damag': 3219, 'ecoconstruct': 3220, 'damélior': 3221, 'leb': 3222, 'dcp': 3223, 'laiguill': 3224, 'argentan': 3225, 'anglaishind': 3226, 'qualiticien': 3227, 'danticip': 3228, 'massag': 3229, 'astroparticul': 3230, 'piston': 3231, 'esilv': 3232, 'qualitésécuritéenviron': 3233, 'bord': 3234, 'lévènementiel': 3235, 'biotechnologiebiopharmac': 3236, 'souffleur': 3237, 'lumin': 3238, 'ic': 3239, 'user': 3240, 'experient': 3241, 'uxd': 3242, 'istom': 3243, 'conceptric': 3244, 'rédactric': 3245, 'l3': 3246, 'créatric': 3247, 'félin': 3248, 'nac': 3249, 'cctar': 3250, 'calorifug': 3251, 'pcspi': 3252, 'onlin': 3253, 'offlin': 3254, 'technology': 3255, 'enm': 3256, 'brh': 3257, 'vérif': 3258, 'particip': 3259, 'botan': 3260, 'stadium': 3261, 'enceint': 3262, 'dactif': 3263, 'féron': 3264, 'traditionnel': 3265, 'demboutissag': 3266, 'supramoléculair': 3267, 'socioécomon': 3268, 'outilleur': 3269, 'observatoir': 3270, 'pictural': 3271, 'parapharmac': 3272, 'analysteconcepteur': 3273, 'strasbourgeurop': 3274, 'band': 3275, 'icm': 3276, 'intermediar': 3277, 'plongeon': 3278, 'monétair': 3279, 'trafic': 3280, 'dintercept': 3281, 'muséograph': 3282, 'ensam': 3283, 'optoélectroniquehyperfréquent': 3284, 'aluminiumverr': 3285, 'fœtal': 3286, 'rcpf': 3287, 'egess': 3288, 'écaill': 3289, 'aideanim': 3290, 'régleur': 3291, 'lhistoir': 3292, 'ingrédient': 3293, 'epi': 3294, 'assembleur': 3295, 'nautiquewakeboard': 3296, 'marbri': 3297, 'comptabilitéfin': 3298, 'brancardi': 3299, 'imba': 3300, 'section': 3301, 'dinterieur': 3302, 'qpo': 3303, 'anglaispolon': 3304, 'trésorer': 3305, 'électrod': 3306, 'enrob': 3307, 'notariat': 3308, 'bordeauxpar': 3309, 'inseec': 3310, 'vélo': 3311, 'med': 3312, 'épidémiolog': 3313, 'similtr': 3314, 'etanché': 3315, 'conchylicol': 3316, 'vfx': 3317, 'fouill': 3318, 'fdgc': 3319, 'aqueux': 3320, 'epistémolog': 3321, 'bijou': 3322, 'joyau': 3323, 'larmurer': 3324, 'gmt': 3325, 'serveur': 3326, 'agé': 3327, 'aapapd': 3328, 'seicom': 3329, 'médico': 3330, 'cplir': 3331, 'âge': 3332, 'charpent': 3333, 'cmi': 3334, 'agroindustriel': 3335, 'jardinierbotan': 3336, 'libéral': 3337, 'réglement': 3338, 'psc': 3339, 'nivoculteur': 3340, 'neig': 3341, 'microfin': 3342, 'maritimecontinental': 3343, 'œnotour': 3344, 'physiquelasermatérial': 3345, 'savoir': 3346, 'carbon': 3347, 'soufflag': 3348, 'chalumeau': 3349, 'métallierserruri': 3350, 'pos': 3351, 'menuiserieaci': 3352, 'océanograph': 3353, 'épargn': 3354, 'hôtellerietour': 3355, 'judo': 3356, 'jiujitsu': 3357, 'tier': 3358, 'assit': 3359, '1re': 3360, 'eform': 3361, 'aigem': 3362, 'dintérieurdesign': 3363, 'port': 3364, 'ohq': 3365, 'scocial': 3366, 'vdi': 3367, 'doc': 3368, 'entit': 3369, 'câbl': 3370, 'remont': 3371, 'crbc': 3372, 'maghreb': 3373, 'structural': 3374, 'rien': 3375, 'posit': 3376, 'ser': 3377, 'motion': 3378, 'egt': 3379, 'eaucartographiegéomat': 3380, 'pcma': 3381, 'europlastic': 3382, 'epc': 3383, 'co': 3384, 'psto': 3385, 'darl': 3386, 'muse': 3387, 'doit': 3388, 'adminsitr': 3389, 'formag': 3390, 'evénementiel': 3391, 'conseilqual': 3392, 'sommeller': 3393, 'finisseur': 3394, 'vernisseur': 3395, 'bronzi': 3396, 'bronz': 3397, 'saint': 3398, 'etien': 3399, 'tissus': 3400, 'ctcbm': 3401, 'lagronom': 3402, 'forest': 3403, 'their': 3404, 'environment': 3405, 'gaemp': 3406, 'résilient': 3407, 'entreposag': 3408, 'videoprotect': 3409, 'iet': 3410, 'conceptionfabr': 3411, 'dsdo': 3412, 'grilladin': 3413, 'cot': 3414, 'venteact': 3415, 'marchand': 3416, 'mmi': 3417, 'ca': 3418, 'visiteur': 3419, 'sv': 3420, 'rythmiqu': 3421, 'relationclient': 3422, 'opérateurrégleur': 3423, 'machineoutil': 3424, 'enlev': 3425, 'prévis': 3426, 'revégétalis': 3427, 'mini': 3428, 'efo': 3429, 'écran': 3430, 'oblig': 3431, 'quad': 3432, 'vitivinicultur': 3433, 'télépilot': 3434, 'minidron': 3435, 'voilur': 3436, 'fix': 3437, 'hor': 3438, 'vu': 3439, 'longu': 3440, 'enstbb': 3441, 'crémi': 3442, 'fromag': 3443, 'coup': 3444, 'telecommun': 3445, 'stock': 3446, 'gsl': 3447, 'carton': 3448, 'mou': 3449, 'vendeux': 3450, 'pédicur': 3451, 'bovin': 3452, 'mareyag': 3453, 'ossatur': 3454, 'escali': 3455, 'sociolinguist': 3456, 'éveil': 3457, 'casinos': 3458, 'mess': 3459, 'intermodal': 3460, 'variétal': 3461, 'mpref': 3462, 'cru': 3463, 'rt': 3464, 'musiquemusicolog': 3465, 'vidéast': 3466, 'dextract': 3467, 'chroniqueur': 3468, 'archéoscient': 3469, 'euroméditerran': 3470, 'ceo': 3471, 's2i': 3472, 'maintenicienchef': 3473, 'latmospher': 3474, 'sapeurspompi': 3475, 'dimensionnel': 3476, 'isa': 3477, 'humainmachin': 3478, 'descmo': 3479, 'guitar': 3480, 'condens': 3481, 'nanophys': 3482, 'leconom': 3483, 'serruri': 3484, 'dépanneurinstall': 3485, 'marketingcommerc': 3486, 'développementhumanitair': 3487, 'écotour': 3488, 'tapisseriedécor': 3489, 'vidéoprotect': 3490, 'electromécanicien': 3491, 'csm': 3492, 'microprocesseur': 3493, 'diamantair': 3494, 'intercepteur': 3495, 'mtacb': 3496, 'chapiteau': 3497, 'consulting': 3498, 'it': 3499, 'scolaris': 3500, 'collectivit': 3501, 'sambo': 3502, 'vendeurmagasini': 3503, 'réinsert': 3504, 'cherbourg': 3505, 'eic': 3506, 'sépar': 3507, 'confin': 3508, 'dock': 3509, 'réceptionnair': 3510, 'extrafinanci': 3511, 'dergothérapeut': 3512, 'monnaiefinancebanqu': 3513, 'dyat': 3514, 'artisan': 3515, 'bioraffiner': 3516, 'des': 3517, 'éduqu': 3518, 'découvert': 3519, 'grimp': 3520, 'darbr': 3521, 'coaching': 3522, 'darchitect': 3523, 'vievieil': 3524, 'périurbain': 3525, 'ethnologiesociolog': 3526, 'tb': 3527, 'internat': 3528, 'corpsem': 3529, 'ddtr': 3530, 'comportementalistemédi': 3531, 'compagn': 3532, 'cfppai': 3533, 'musicien': 3534, 'dorchestr': 3535, 'brasseriecaf': 3536, 'polic': 3537, 'élev': 3538, 'envelopp': 3539, 'amien': 3540, 'esieeamien': 3541, 'enlumineur': 3542, 'gobeleter': 3543, 'assort': 3544, 'pressepapi': 3545, 'aster': 3546, 'mpec': 3547, 'livraison': 3548, 'plis': 3549, 'colis': 3550, 'esitp': 3551, 'dusinag': 3552, 'cohes': 3553, 'calcair': 3554, 'gemmolog': 3555, '9': 3556, 'seller': 3557, 'réemploi': 3558, 'électronaval': 3559, 'masen': 3560, 'plais': 3561, 'breton': 3562, 'dœuvr': 3563, 'éclairag': 3564, 'contenu': 3565, 'digitalis': 3566, 'polytechclermontferrand': 3567, 'fleur': 3568, 'biocatalys': 3569, 'athl': 3570, 'bpbrevet': 3571, 'egtp': 3572, 'stupéfi': 3573, 'davalanch': 3574, 'dassaut': 3575, 'pist': 3576, 'patrouill': 3577, 'revêt': 3578, 'bitumin': 3579, 'eclyon': 3580, 'lunit': 3581, 'irsii': 3582, 'stad': 3583, 'demifond': 3584, 'running': 3585, 'trail': 3586, 'tradit': 3587, 'dorur': 3588, 'tranch': 3589, 'distech': 3590, 'déconstruct': 3591, 'décontamin': 3592, 'actuair': 3593, 'gte': 3594, 'pisteur': 3595, 'vtt': 3596, 'limportexport': 3597, 'allemandangl': 3598, 'russeangl': 3599, 'russeallemand': 3600, 'usager': 3601, 'bouch': 3602, 'accompagnateur': 3603, 'sudpar': 3604, 'matmec': 3605, 'poter': 3606, 'responsablecoordon': 3607, 'construir': 3608, 'harmonis': 3609, 'psychomotr': 3610, 'référentiel': 3611, 'macroéconom': 3612, 'préindustrialis': 3613, 'maap': 3614, 'dpec': 3615, 'spec': 3616, 'handisport': 3617, 'ladour': 3618, 'physiquee': 3619, 'proxim': 3620, 'dopposit': 3621, 'enshap': 3622, 'lentreprisedjc': 3623, 'ajusteur': 3624, 'maaav': 3625, 'rollerskating': 3626, 'embout': 3627, 'responsableadjoint': 3628, 'poissonner': 3629, 'iva': 3630, 'gtr': 3631, 'plat': 3632, 'ensccf': 3633, 'électrodomest': 3634, 'marketingstrateg': 3635, 'sousensembl': 3636, 'staffeur': 3637, 'lieuten': 3638, 'mib': 3639, 'mitsic': 3640, 'cpi': 3641, 'géoprospect': 3642, 'geoprad': 3643, 'rentrayeur': 3644, 'environmental': 3645, 'resourc': 3646, 'erna': 3647, 'gepen': 3648, 'egc': 3649, 'paramédical': 3650, 'georg': 3651, 'achard': 3652, 'ecoénerg': 3653, 'donne': 3654, 'edit': 3655, 'sadl': 3656, 'vendeurconseil': 3657, 'orneman': 3658, 'raccordeur': 3659, 'ftth': 3660, 'comédi': 3661, 'pgem': 3662, 'temporair': 3663, 'ontolog': 3664, 'bcp': 3665, 'accessibil': 3666, '2nd': 3667, 'mpi': 3668, 'spmathémat': 3669, 'imag2': 3670, 'interrégional': 3671, 'malo': 3672, 'colleg': 3673, 'lyc': 3674, 'sociotechn': 3675, 'daquacultur': 3676, 'synchronis': 3677, 'cos': 3678, 'monteurdépanneur': 3679, 'forgeag': 3680, 'parisvii': 3681, 'anabiotec': 3682, 'grosœuvr': 3683, 'isg': 3684, 'garnisseur': 3685, 'scénaris': 3686, 'aïkibudo': 3687, 'respir': 3688, 'sommeil': 3689, 'b2pr': 3690, 'équipi': 3691, 'comparaison': 3692, 'linsep': 3693, '19': 3694, 'mannheim': 3695, 'esaip': 3696, 'plaquist': 3697, 'histoiregeograph': 3698, 'dassain': 3699, 'liquid': 3700, 'macromolécul': 3701, 'cg': 3702, 'cndm': 3703, 'chainperform': 3704, 'lem': 3705, 'monumental': 3706, 'gran': 3707, 'gpf': 3708, 'biomorpholog': 3709, 'squelet': 3710, 'unitair': 3711, 'sériel': 3712, 'but': 3713, 'lucrat': 3714, 'arboristegrimpeur': 3715, 'lot': 3716, 'dhabill': 3717, 'recherchedévelopp': 3718, 'soustitrag': 3719, 'doublag': 3720, 'mobilis': 3721, 'ice': 3722, 'fuseau': 3723, 'x': 3724, 'maquillag': 3725, 'dalpin': 3726, 'agromolécul': 3727, 'artslettreslangu': 3728, 'arle': 3729, 'secondair': 3730, 'létrang': 3731, 'dpo': 3732, 'origin': 3733, 'pompi': 3734, 'accordéon': 3735, 'emplois': 3736, 'égal': 3737, 'dexpertis': 3738, 'cyb': 3739, 'aménageur': 3740, 'mécanis': 3741, 'entreprendr': 3742, 'aménagementfinit': 3743, 'techiqu': 3744, 'liss': 3745, 'det': 3746, 'élevag': 3747, 'préparateurvendeur': 3748, 'passementer': 3749, 'bioexpériment': 3750, 'chimiespécial': 3751, 'technicooper': 3752, 'musicologu': 3753, 'df': 3754, 'dnesm': 3755, 'dalpinismeguid': 3756, 'epic': 3757, '2em': 3758, 'détag': 3759, 'risc': 3760, 'esthéticiencosméticien': 3761, 'monteurinstall': 3762, 'sociospatial': 3763, 'pegc': 3764, 'iupsed': 3765, 'globalis': 3766, 'tatoueur': 3767, '16': 3768, 'ienac': 3769, 'spvaloris': 3770, 'UNK': 3771}\n"
     ]
    }
   ],
   "source": [
    "print(\"Length of the vocabulary :\", len(vectorizer.vocabulary_))\n",
    "print(\"Unique index assigned to each word : \", vectorizer.vocabulary_)\n",
    "#print(\"Sparse Matrix Representation : \", X_test_bow)"
   ]
  },
  {
   "cell_type": "code",
   "execution_count": 18,
   "id": "8412a41f",
   "metadata": {},
   "outputs": [
    {
     "name": "stdout",
     "output_type": "stream",
     "text": [
      "Accuracy : 0.22370653095843934\n",
      "[[107  42  17   4   9   3  11  87   2  22 187  12  17  42   5  14]\n",
      " [ 67  33   0   3   2   2   4  16   0  10 119   4   3   2   0  20]\n",
      " [ 33   3  17   0   0   1   0  47   7   0  37   5   9  35   6   1]\n",
      " [  9   0   1   7  19  11   7   1   0   3  25   0   5   0   0   5]\n",
      " [ 14   0   0   9  20   5   7   0   1   9  10   1   4   1   1   4]\n",
      " [ 19   3   1   5  10  34  11   7   2   8  26   5   4   6   8   8]\n",
      " [ 21   7   0   9   5  10  11   2   1   8  78   1  15   0   0  28]\n",
      " [ 66  12  24   0   1   2   1 123   3   1 182  11   9 131   8  26]\n",
      " [  8   1   4   0   0   2   0   6   9   0  13   1  10   8   5   1]\n",
      " [ 33   6   2   2   2   4   3   6   0  46  51  16   4   4   0   8]\n",
      " [ 92  30   7   1   4   7  15 128   1  16 456  16  11  42   6  87]\n",
      " [ 37   4   6   2   2   5   4  45   0  21  83  16  13  28   2   1]\n",
      " [ 41   5   4   4   4   5  12  41  11   2  50  12  22  31   3   3]\n",
      " [ 31   8   8   0   0   2   0 165   1   4  90   7   8  65   6  13]\n",
      " [ 11   0   8   1   0   4   0  13   1   0  12   2   0   5  15   0]\n",
      " [  5   8   0   3   3   4  15  24   0   8 189   6   1   3   1  74]]\n"
     ]
    }
   ],
   "source": [
    "model = LogisticRegression(max_iter = 2000)\n",
    "\n",
    "model.fit(X_train_bow, labels_reduced)\n",
    "\n",
    "preds = model.predict(X_test_bow)\n",
    "\n",
    "accuracy = metrics.accuracy_score(test_labels, preds)\n",
    "print(f\"Accuracy : {accuracy}\")\n",
    "\n",
    "#Display the confusion matrix\n",
    "cm = confusion_matrix(test_labels, preds)\n",
    "print(cm)"
   ]
  },
  {
   "cell_type": "markdown",
   "id": "ae44f12e",
   "metadata": {},
   "source": [
    "### TFIDF"
   ]
  },
  {
   "cell_type": "code",
   "execution_count": 19,
   "id": "9f95cc5a",
   "metadata": {},
   "outputs": [
    {
     "name": "stderr",
     "output_type": "stream",
     "text": [
      "d:\\Ecole\\Telecom\\2A\\git_folder\\.env311\\Lib\\site-packages\\sklearn\\feature_extraction\\text.py:1381: UserWarning: Upper case characters found in vocabulary while 'lowercase' is True. These entries will not be matched with any documents\n",
      "  warnings.warn(\n"
     ]
    }
   ],
   "source": [
    "from sklearn.feature_extraction.text import TfidfVectorizer\n",
    "tfidfvect = TfidfVectorizer(tokenizer= preprocess_text, token_pattern=None, vocabulary=Vocabulary)\n",
    "X_train_tfidf = tfidfvect.fit_transform(texts_reduced)\n",
    "\n",
    "X_test_tfidf = tfidfvect.transform(test_texts)"
   ]
  },
  {
   "cell_type": "code",
   "execution_count": 20,
   "id": "70c33e33",
   "metadata": {},
   "outputs": [
    {
     "name": "stdout",
     "output_type": "stream",
     "text": [
      "Length of the vocabulary : 3772\n",
      "Unique index assigned to each word :  {'spécial': 0, 'mention': 1, 'scienc': 2, 'sant': 3, 'technolog': 4, 'diplôm': 5, 'ingénieur': 6, 'gestion': 7, 'manag': 8, 'national': 9, 'domain': 10, 'droit': 11, 'mast': 12, 'informat': 13, 'system': 14, 'professionnel': 15, 'industriel': 16, 'gen': 17, 'social': 18, 'supérieur': 19, 'option': 20, 'commun': 21, 'méti': 22, 'art': 23, 'appliqu': 24, 'humain': 25, 'langu': 26, 'développ': 27, 'environ': 28, 'final': 29, 'ingénier': 30, 'projet': 31, 'econom': 32, 'recherch': 33, 'product': 34, 'lunivers': 35, 'fich': 36, 'respons': 37, 'économ': 38, 'polytechn': 39, 'lettr': 40, 'réseau': 41, 'international': 42, 'matérial': 43, 'mécan': 44, 'biolog': 45, 'sécur': 46, 'techniqu': 47, 'physiqu': 48, 'marketing': 49, 'lecol': 50, 'chim': 51, 'qualit': 52, 'écol': 53, 'organis': 54, 'linstitut': 55, 'entrepris': 56, 'inform': 57, 'licenc': 58, 'ecol': 59, 'chef': 60, 'télécommun': 61, 'électron': 62, 'commerc': 63, 'numer': 64, 'industr': 65, 'activ': 66, 'mathémat': 67, 'expert': 68, 'mainten': 69, 'universitair': 70, 'histoir': 71, 'bât': 72, 'technicien': 73, 'lenviron': 74, 'concept': 75, 'aménag': 76, 'électr': 77, 'institut': 78, 'administr': 79, 'agroalimentair': 80, 'public': 81, 'strateg': 82, 'commercial': 83, 'm': 84, 'produit': 85, 'partenariat': 86, 'durabl': 87, 'risqu': 88, 'univers': 89, 'ressourc': 90, 'cultur': 91, 'cqp': 92, 'logist': 93, 'construct': 94, 'automat': 95, 'logiciel': 96, 'territoir': 97, 'patrimoin': 98, 'énerg': 99, 'sport': 100, 'affair': 101, 'biotechnolog': 102, 'charg': 103, 'servic': 104, 'protect': 105, 'conservatoir': 106, 'aliment': 107, 'proced': 108, 'culturel': 109, 'lill': 110, 'traval': 111, 'dingénieur': 112, 'contrôl': 113, 'étranger': 114, 'innov': 115, 'polit': 116, 'civil': 117, 'énerget': 118, 'lécol': 119, 'civilis': 120, 'e': 121, 'dinform': 122, 'assist': 123, 'valoris': 124, 'littératur': 125, 'format': 126, 'terr': 127, 'anim': 128, 'multimédi': 129, 'polytech': 130, 'géograph': 131, 'paris': 132, 'electron': 133, 'digital': 134, 'chimiqu': 135, 'tourism': 136, 'publiqu': 137, 'agent': 138, 'eau': 139, 'priv': 140, 'degr': 141, 'analys': 142, 'toulous': 143, 'étud': 144, 'litii': 145, 'perform': 146, 'agronom': 147, 'éduc': 148, 'montpelli': 149, 'enseign': 150, 'financ': 151, 'sportiv': 152, 'integr': 153, 'programm': 154, 'bordeau': 155, 'européen': 156, 'energ': 157, 'franc': 158, 'linform': 159, 'concepteur': 160, 'conseil': 161, 'psycholog': 162, 'transform': 163, 'sportif': 164, 'electr': 165, 'societ': 166, 'lindustr': 167, 'trait': 168, 'méthod': 169, 'naturel': 170, 'parcour': 171, 'grand': 172, 'développeur': 173, 'jeuness': 174, 'littoral': 175, 'transport': 176, 'statist': 177, 'paysag': 178, 'opérationnel': 179, 'climat': 180, 'ren': 181, 'web': 182, 'design': 183, 'vent': 184, 'instrument': 185, 'pharmaceut': 186, 'oper': 187, 'spécialis': 188, 'etud': 189, 'populair': 190, 'vi': 191, 'lyon': 192, 'imag': 193, 'prévent': 194, 'person': 195, 'embarqu': 196, 'rural': 197, 'brevet': 198, 'centr': 199, 'végétal': 200, 'don': 201, 'strasbourg': 202, 'intervent': 203, 'dentrepris': 204, 'création': 205, 'espac': 206, 'médiat': 207, 'titr': 208, 'équip': 209, 'directeur': 210, 'territorial': 211, 'artist': 212, 'urban': 213, 'etranger': 214, 'avanc': 215, 'bois': 216, 'nutrit': 217, 'cellulair': 218, 'mécatron': 219, 'intelligent': 220, 'mati': 221, 'mod': 222, 'textil': 223, 'daffair': 224, 'composit': 225, 'premi': 226, 'léduc': 227, 'modélis': 228, 'grenobl': 229, 'group': 230, 'hygien': 231, 'philosoph': 232, 'structur': 233, 'complex': 234, 'conduit': 235, 'environnemental': 236, 'aéronaut': 237, 'détud': 238, 'maîtris': 239, 'moléculair': 240, 'nucléair': 241, 'achat': 242, 'travail': 243, 'tric': 244, 'sociolog': 245, 'commercialis': 246, 'journal': 247, 'install': 248, 'relat': 249, 'gestionnair': 250, 'côt': 251, 'alimentair': 252, 'ouvri': 253, 'min': 254, 'réalis': 255, 'médi': 256, 'lorrain': 257, 'automatis': 258, 'bretagn': 259, 'comptabl': 260, 'financi': 261, 'distribu': 262, 'physiolog': 263, 'loisir': 264, '1': 265, 'microbiolog': 266, 'planet': 267, 'agricol': 268, 'urbain': 269, 'archéolog': 270, 'général': 271, 'lingénieur': 272, 'renouvel': 273, 'bien': 274, 'expertis': 275, 'agricultur': 276, 'nant': 277, 'analyt': 278, 'itii': 279, 'educ': 280, 'régional': 281, 'mer': 282, 'viv': 283, 'meilleur': 284, 'pratiqu': 285, 'architectur': 286, 'écolog': 287, 'criminel': 288, 'robot': 289, 'jurid': 290, 'miag': 291, 'restaur': 292, 'mobil': 293, 'deuxiem': 294, 'droiteconomiegest': 295, 'ergonom': 296, 'lenseign': 297, 'déquip': 298, 'exploit': 299, 'processus': 300, 'médic': 301, 'immobili': 302, 'optiqu': 303, 'convent': 304, 'nouvel': 305, 'internet': 306, 'lentrepris': 307, 'detat': 308, 'ecolog': 309, 'dirig': 310, 'cognit': 311, 'coordon': 312, 'associ': 313, 'scientif': 314, 'energet': 315, 'rouen': 316, 'acoust': 317, 'limog': 318, 'mesur': 319, 'langag': 320, 'collect': 321, 'btp': 322, 'patholog': 323, 'mis': 324, 'audit': 325, 'dart': 326, 'audiovisuel': 327, 'métrolog': 328, 'sciencestechnologiessant': 329, 'i': 330, 'sorbon': 331, 'mond': 332, 'sanitair': 333, 'tourist': 334, 'milieux': 335, 'fondamental': 336, 'pluritechn': 337, 'biodivers': 338, 'institu': 339, 'formul': 340, 'savoi': 341, 'décis': 342, 'diagnostic': 343, 'graphiqu': 344, 'lart': 345, 'march': 346, 'télécom': 347, 'bas': 348, 'animal': 349, 'form': 350, 'central': 351, 'thermiqu': 352, 'jurist': 353, 'ii': 354, 'dynam': 355, 'linguist': 356, 'minestélécom': 357, 'sûret': 358, 'conducteur': 359, 'interculturel': 360, 'connaiss': 361, 'coordin': 362, 'and': 363, 'bioinformat': 364, 'tour': 365, 'géoscienc': 366, 'adapt': 367, 'stap': 368, 'action': 369, 'automobil': 370, 'écosystem': 371, 'génet': 372, 'dinformat': 373, 'édit': 374, 'spectacl': 375, 'génom': 376, 'st': 377, 'toxicolog': 378, 'cliniqu': 379, 'client': 380, 'chambéry': 381, 'pierr': 382, 'cybersécur': 383, 'iledefr': 384, 'poiti': 385, 'global': 386, 'allemand': 387, 'loir': 388, 'maritim': 389, 'cooper': 390, 'déchet': 391, 'secteur': 392, 'plasturg': 393, 'business': 394, 'vis': 395, 'second': 396, 'optimis': 397, 'class': 398, 'clermontferrand': 399, 'géolog': 400, 'organ': 401, 'visuel': 402, 'anthropolog': 403, 'livr': 404, 'lign': 405, 'dappliqu': 406, 'artificiel': 407, 'local': 408, 'hôteller': 409, 'bcpp': 410, 'mar': 411, 'cur': 412, 'ecommerc': 413, 'direct': 414, 'documentair': 415, 'linformat': 416, 'contemporain': 417, '2': 418, 'biologiesant': 419, 'espagnol': 420, 'musiqu': 421, 'ces': 422, 'polyvalent': 423, 'vill': 424, 'didact': 425, 'moniteur': 426, 'expérimental': 427, 'grad': 428, 'infrastructur': 429, 'marin': 430, 'analyst': 431, 'délectron': 432, 'plastiqu': 433, 'haut': 434, 'modern': 435, 'limag': 436, 'informationcommun': 437, 'pilotag': 438, 'habill': 439, 'anglais': 440, 'dat': 441, 'sit': 442, 'unit': 443, 'mécanicien': 444, 'interact': 445, 'carri': 446, 'judiciair': 447, 'sol': 448, 'architect': 449, 'physicochim': 450, 'b': 451, 'géomat': 452, 'établ': 453, 'consult': 454, 'po': 455, 'lénerg': 456, 'décisionnel': 457, 'meef': 458, 'laliment': 459, 'tvrn': 460, 'a': 461, 'cosmet': 462, 'microélectron': 463, 'solidair': 464, 'entrepreneuriat': 465, 'forêt': 466, 'linternational': 467, 'encadr': 468, 'command': 469, 'ordin': 470, 'incend': 471, 'chanti': 472, 'biochim': 473, 'thérapeut': 474, 'document': 475, 'pénal': 476, 'bibliothequ': 477, 'propuls': 478, 'rédact': 479, 'dexploit': 480, 'moteur': 481, 'leau': 482, 'nanotechnolog': 483, 'docu': 484, 'laboratoir': 485, 'signal': 486, 'interfac': 487, 'milieu': 488, 'cathol': 489, 'perfection': 490, 'intérieur': 491, 'etou': 492, 'specialit': 493, 'human': 494, 'négoci': 495, 'calcul': 496, 'événementiel': 497, 'bioscienc': 498, 'technicocommercial': 499, 'pétroli': 500, 'assur': 501, 'aixmarseil': 502, 'ingenier': 503, 'compétent': 504, 'efficac': 505, 'dun': 506, 'prof': 507, 'compar': 508, 'pme': 509, 'dépollu': 510, 'cadr': 511, 'le': 512, 'véhicul': 513, 'dhydraul': 514, 'photon': 515, 'orléan': 516, 'dactiv': 517, 'traduct': 518, 'capitain': 519, 'spatial': 520, 'vin': 521, 'brest': 522, 'italien': 523, 'léconom': 524, 'classiqu': 525, 'naval': 526, '3': 527, 'géotechn': 528, 'moyen': 529, 'biomédical': 530, 'petit': 531, 'molécul': 532, 'marseil': 533, 'coach': 534, 'diagnostiqueur': 535, 'dou': 536, 'europ': 537, 'bm': 538, 'lutt': 539, 'chain': 540, 'in': 541, 'saintetien': 542, 'cqpm': 543, 'solut': 544, 'lux': 545, 'caen': 546, 'gouvern': 547, 'maintenicien': 548, 'attach': 549, 'dessin': 550, 'saintétien': 551, 'transfrontali': 552, 'accompagn': 553, 'disciplin': 554, 'xi': 555, 'nancy': 556, 'chaudronner': 557, 'décor': 558, 'organisationnel': 559, 'handicap': 560, 'diffus': 561, 'ferroviair': 562, 'jeux': 563, 'quart': 564, 'dales': 565, 'évolu': 566, 'popul': 567, 'glac': 568, 'amélior': 569, 'pay': 570, 'quantit': 571, 'contr': 572, 'sinistr': 573, 'nautiqu': 574, 'dopal': 575, 'pétrol': 576, 'dazur': 577, 'inp': 578, 'chaîn': 579, 'vétérinair': 580, 'miash': 581, 'agroscient': 582, 'lagroalimentair': 583, 'banqu': 584, 'entrepreneur': 585, 'atlant': 586, 'packaging': 587, 'patrimonial': 588, 'etat': 589, '13': 590, 'médical': 591, 'état': 592, 'supply': 593, 'opal': 594, 'topograph': 595, 'fabriqu': 596, 'insat': 597, 'montagn': 598, 'parisv': 599, 'emballag': 600, 'consomm': 601, 'fonction': 602, 'guid': 603, 'neuroscient': 604, 'aquat': 605, 'francoallemand': 606, 'défens': 607, 'domot': 608, 'infograph': 609, 'théor': 610, 'fiscal': 611, 'daixmarseil': 612, 'aérien': 613, 'méditerran': 614, 'répart': 615, 'confer': 616, 'archiv': 617, 'conserv': 618, 'architectural': 619, 'air': 620, 'ile': 621, 'matériel': 622, 'troy': 623, '3d': 624, 'school': 625, 'iii': 626, 'enscbp': 627, 'facteur': 628, 'secour': 629, 'surveil': 630, 'belfortmontbéliard': 631, 'pyrotechn': 632, 'interpret': 633, 'surfac': 634, 'spiritu': 635, 'écotoxicolog': 636, 'écoconcept': 637, 'polymer': 638, 'imager': 639, 'lenerg': 640, 'vieil': 641, 'réhabilit': 642, 'délectrotechn': 643, 'eus': 644, 'hydrograph': 645, 'synthes': 646, 'franchecomt': 647, 'fili': 648, 'all': 649, 'cycl': 650, 'musicolog': 651, 'certificat': 652, 'text': 653, 'sp': 654, 'unilasall': 655, 'auxiliair': 656, 'esip': 657, 'pmepm': 658, 'biomolécul': 659, 'stpe': 660, 'communic': 661, 'cinem': 662, 'plurimédi': 663, 'condition': 664, 'pharmacolog': 665, 'intellectuel': 666, 'capteur': 667, 'climatis': 668, 'pont': 669, 'danger': 670, 'model': 671, 'nanoscient': 672, 'créteil': 673, 'fonder': 674, 'agrocampus': 675, 'golf': 676, 'llce': 677, 'enspm': 678, 'œuvr': 679, 'physiopatholog': 680, 'habitat': 681, 'théâtr': 682, 'propriet': 683, 'vendeur': 684, 'val': 685, 'lingénier': 686, 'navig': 687, 'sh': 688, 'process': 689, 'daccueil': 690, 'industrialis': 691, 'métallurg': 692, 'evolu': 693, 'théolog': 694, 'intern': 695, 'dijon': 696, 'linnov': 697, 'fe': 698, 'mathemat': 699, 'antiqu': 700, 'situat': 701, 'accessoir': 702, 'atc': 703, 'paysager': 704, 'russ': 705, 'médicosocial': 706, 'cellul': 707, 'ebusiness': 708, 'agrosystem': 709, 'horticol': 710, 'laéronaut': 711, 'dintervent': 712, 'material': 713, 'cy': 714, 'contrôleur': 715, 'dunit': 716, 'san': 717, 'fil': 718, 'firm': 719, 'contenti': 720, 'flux': 721, 'hydraul': 722, 'nuisanc': 723, 'kw': 724, 'r': 725, 'p': 726, 'etabl': 727, 'fonctionnel': 728, 'clermont': 729, 'marqu': 730, 'fluid': 731, 'immunolog': 732, 'entraîn': 733, 'complémentair': 734, 'contraint': 735, 'mulhous': 736, 'sud': 737, 'rédacteur': 738, 'verr': 739, 'solidar': 740, 'forg': 741, 'bioindustr': 742, 'aquitain': 743, 'ouvrag': 744, 'peintr': 745, 'alsac': 746, 'lespac': 747, 'tech': 748, 'géoressourc': 749, 'géorisqu': 750, 'marnelavall': 751, 'littérair': 752, 'zon': 753, 'lhôteller': 754, 'froid': 755, 'agroressourc': 756, 'pilot': 757, 'passerel': 758, 'support': 759, 'socioculturel': 760, 'vision': 761, 'collabor': 762, 'evalu': 763, 'économetr': 764, 'sciencestechnologiesant': 765, 'foresti': 766, 'dinnov': 767, 'nanomatérial': 768, 'rénov': 769, 'microsystem': 770, 'cris': 771, 'catalys': 772, 'anglophon': 773, 'lhabit': 774, 'gaz': 775, 'meti': 776, 'esthet': 777, 'enseeiht': 778, 'informatis': 779, 'métrologiequal': 780, 'ensiacet': 781, 'pau': 782, 'lélectron': 783, 'yncré': 784, 'dassist': 785, 'prnt': 786, 'silico': 787, 'emploi': 788, 'ski': 789, 'céram': 790, 'lois': 791, 'ecosystem': 792, 'las': 793, 'vidéo': 794, 'durgenc': 795, 'detud': 796, '5': 797, 'métall': 798, 'voil': 799, 'football': 800, 'danalys': 801, 'ouest': 802, 'géophys': 803, 'esi': 804, 'vert': 805, 'praticien': 806, 'homm': 807, 'simul': 808, 'delectron': 809, 'compiegn': 810, 'utc': 811, 'géometr': 812, '1er': 813, 'lagricultur': 814, 'tuyauter': 815, 'test': 816, 'histor': 817, 'dorléan': 818, 'détect': 819, 'hautsdefr': 820, 'français': 821, 'comportemental': 822, 'dateli': 823, 'doper': 824, 'ecotoxicolog': 825, 'dingénier': 826, 'sous': 827, 'infectiolog': 828, 'horticultur': 829, 'hôteli': 830, 'solair': 831, 'sudalsac': 832, 'ethnolog': 833, 'managérial': 834, 'agroindustr': 835, 'orient': 836, 'valeur': 837, 'offic': 838, 'océan': 839, 'vid': 840, 'ensilensc': 841, 'ateli': 842, 'reim': 843, 'electrotechn': 844, 'outil': 845, 'bretagnesud': 846, 'ensib': 847, 'laménag': 848, 'tous': 849, 'azur': 850, 'man': 851, 'autonom': 852, 'protocol': 853, 'istas': 854, 'parachut': 855, 'tôler': 856, 'transit': 857, 'minéral': 858, 'audenci': 859, 'rapproch': 860, 'lanim': 861, 'enjeux': 862, 'circuit': 863, 'list': 864, 'hydrogéolog': 865, 'clientel': 866, 'dge': 867, 'adjoint': 868, 'chang': 869, 'nantesatlant': 870, 'onir': 871, 'natur': 872, 'aérostructur': 873, 'chinois': 874, 'rout': 875, 'armement': 876, 'aid': 877, 'créateur': 878, 'valdemarn': 879, 'ten': 880, 'continu': 881, 'aquacultur': 882, 'tertiair': 883, 'club': 884, 'spectroscop': 885, 'subatom': 886, 'machin': 887, 'non': 888, 'deven': 889, 'voix': 890, 'eil': 891, 'ulco': 892, 'leduc': 893, 'ingenieur': 894, 'export': 895, 'ecoconcept': 896, 'llc': 897, 'luniver': 898, 'dinfrastructur': 899, 'ancien': 900, 'plant': 901, 'humanitair': 902, 'supervis': 903, 'intercultural': 904, 'optron': 905, 'stockag': 906, 'spi': 907, 'mathstic': 908, '200': 909, 'promot': 910, 'rugby': 911, 'entrain': 912, '2000': 913, 'régul': 914, 'fond': 915, 'socioéconom': 916, 'radioprotect': 917, 'ise': 918, 'armé': 919, 'vibrat': 920, 'full': 921, 'disposit': 922, 'représent': 923, 'ecam': 924, 'chien': 925, 'genr': 926, 'lédit': 927, 'équestr': 928, 'jeu': 929, 'jour': 930, 'of': 931, 'fonctionnalis': 932, 'aptitud': 933, 'gardien': 934, 'yvelin': 935, 'isty': 936, 'uvsq': 937, 'sociétal': 938, 'écrit': 939, 'linstrument': 940, 'vocat': 941, 'échang': 942, 'apprentissag': 943, 'bureau': 944, 'ar': 945, 'reconvers': 946, 'eadd': 947, 'objet': 948, 'report': 949, 'canoëkayak': 950, 'univer': 951, 'portug': 952, 'economiegest': 953, 'dagricultur': 954, 'dunivers': 955, 'cuisin': 956, 'delectrotechn': 957, 'médecin': 958, 'entretien': 959, 'expérient': 960, 'outillag': 961, 'picard': 962, 'paléontolog': 963, 'i2sa': 964, 'anger': 965, 'lesc': 966, 'dinstall': 967, 'nanobioscient': 968, 'tabl': 969, 'parfum': 970, 'dentretien': 971, 'gérontolog': 972, 'cao': 973, 'évalu': 974, 'motocycl': 975, 'ma': 976, 'epidémiolog': 977, 'mpce': 978, 'métal': 979, 'footwear': 980, 'midipyren': 981, 'superviseur': 982, 'gymniqu': 983, 'médiéval': 984, 'auvergn': 985, 'bio': 986, 'fluidiqu': 987, 'marketingvent': 988, 'déconom': 989, 'microbien': 990, 'algorithm': 991, 'délectr': 992, 'proces': 993, 'dénerg': 994, 'continental': 995, 'rechercheprofessionnel': 996, 'lasall': 997, 'équin': 998, '000': 999, 'psychopatholog': 1000, 'écoproduct': 1001, 'biovaloris': 1002, 'terroir': 1003, 'itiipac': 1004, 'entraîneur': 1005, 'acheteur': 1006, 'lifri': 1007, 'matériau': 1008, 'cartograph': 1009, 'parisest': 1010, 'sectoriel': 1011, 'asi': 1012, 'approch': 1013, 'exercic': 1014, 'cibl': 1015, 'bc2t': 1016, 'confort': 1017, 'atmospher': 1018, 'bim': 1019, 'manufactur': 1020, 'ecp': 1021, 'chimiephys': 1022, 'essecepsc': 1023, 'economic': 1024, 'monteur': 1025, 'médiateur': 1026, 'biochimiebiolog': 1027, 'cloud': 1028, 'danim': 1029, 'stochast': 1030, 'renseign': 1031, 'cal': 1032, 'ère': 1033, 'fusion': 1034, 'agroparistech': 1035, 'securit': 1036, 'ensic': 1037, 'webdesign': 1038, 'certif': 1039, 'doutil': 1040, 'nouveau': 1041, 'arôm': 1042, 'tem': 1043, 'minister': 1044, 'advanced': 1045, 'applique': 1046, 'socioéduc': 1047, 'luminy': 1048, 'cohabl': 1049, 'légal': 1050, 'convers': 1051, 'webmast': 1052, 'rennes1': 1053, 'ludothécair': 1054, 'conférenci': 1055, 'hydro3': 1056, 'hydrobiogéochim': 1057, 'hydropédolog': 1058, 'leur': 1059, 'evolut': 1060, 'cosmétolog': 1061, 'hockey': 1062, 'vall': 1063, 'lead': 1064, 'immatériel': 1065, 'cabinet': 1066, 'combust': 1067, 'approfond': 1068, 'vaccinolog': 1069, 'anticorp': 1070, 'éditorial': 1071, 'propr': 1072, 'lesitech': 1073, 'jardin': 1074, 'athlet': 1075, 'soin': 1076, 'secrétair': 1077, 'prépar': 1078, 'multicanal': 1079, 'hispan': 1080, 'graphist': 1081, 'chauss': 1082, 'enpc': 1083, 'ornement': 1084, 'santésécur': 1085, 'formateur': 1086, 'li': 1087, 'ident': 1088, 'transmiss': 1089, 'dintérieur': 1090, 'amer': 1091, 'choix': 1092, 'avion': 1093, 'particul': 1094, 'daccompagn': 1095, 'engine': 1096, 'contrat': 1097, 'routi': 1098, 'écologieenviron': 1099, 'sign': 1100, 'mac': 1101, 'daérotechn': 1102, 'anglaisruss': 1103, 'temp': 1104, 'cergy': 1105, 'notarial': 1106, 'heiisaisen': 1107, 'enscm': 1108, 'agrofournitur': 1109, 'ccc': 1110, 'basketball': 1111, 'bibliothécair': 1112, 'traçabl': 1113, 'syndicat': 1114, 'louest': 1115, 'lautomobil': 1116, 'enquêteur': 1117, 'cci': 1118, 'électrotechn': 1119, 'puissanc': 1120, 'anthropis': 1121, 'explor': 1122, 'sonor': 1123, 'microtechn': 1124, 'asiat': 1125, 'drug': 1126, 'provenc': 1127, 'articc': 1128, 'induit': 1129, 'cm': 1130, 'relig': 1131, 'signalis': 1132, 'dériv': 1133, 'pêch': 1134, 'auditeur': 1135, 'bop': 1136, 'cpe': 1137, 'navir': 1138, 'circul': 1139, 'rpi': 1140, 'vigil': 1141, 'therv': 1142, 'deurecom': 1143, 'esirem': 1144, 'frigorif': 1145, 'sti': 1146, 'bioingénier': 1147, 'soudag': 1148, 'gam': 1149, 'applied': 1150, 'lanalys': 1151, 'ameubl': 1152, 'nanostructur': 1153, 'nanophoton': 1154, 'lannion': 1155, 'maîtr': 1156, 'linternet': 1157, 'procédur': 1158, 'atom': 1159, 'instn': 1160, 'limmobili': 1161, 'écorespons': 1162, 'criminolog': 1163, 'spa': 1164, 'mrc': 1165, 'signalimag': 1166, 'german': 1167, 'intranetinternet': 1168, 'montagnard': 1169, 'mesc': 1170, 'express': 1171, 'muséolog': 1172, 'mecadoc': 1173, 'menuiser': 1174, 'beauv': 1175, 'stack': 1176, 'purpan': 1177, 'hospitali': 1178, 'bioactiv': 1179, 'exact': 1180, 'virolog': 1181, 'lp': 1182, 'anglaisallemand': 1183, 'charpenti': 1184, 'pens': 1185, 'bioproced': 1186, 'modelis': 1187, 'editorial': 1188, 'jeanfrançois': 1189, 'champollion': 1190, '3il': 1191, 'parissaclay': 1192, 'professeur': 1193, 'repris': 1194, 'dauphin': 1195, 'enst': 1196, 'écritmatérielimmatériel': 1197, 'esff': 1198, 'supmec': 1199, 'iesff': 1200, 'control': 1201, 'ex': 1202, 'féminin': 1203, 'dorgan': 1204, 'lurban': 1205, 'big': 1206, 'dijonbourgogn': 1207, 'technicienconseil': 1208, 'eea': 1209, 'diver': 1210, 'continus': 1211, 'cinématograph': 1212, 'télévis': 1213, 'importexport': 1214, 'electricitéelectron': 1215, 'epithélium': 1216, 'virtuel': 1217, 'lénerget': 1218, 'aéronef': 1219, 'réservoir': 1220, 'nord': 1221, 'tout': 1222, 'supagro': 1223, '2id': 1224, 'lumi': 1225, 'réunion': 1226, 'bienêtr': 1227, 'reseau': 1228, 'raison': 1229, 'plasm': 1230, 'cit': 1231, 'eseo': 1232, 'contenus': 1233, 'esitc': 1234, 'inflammatoir': 1235, 'argil': 1236, 'gis': 1237, 'doptiqu': 1238, 'théoriqu': 1239, 'lécoconcept': 1240, 'badminton': 1241, 'agroéquip': 1242, 'bancair': 1243, 'métreur': 1244, 'cf': 1245, 'maquet': 1246, 'prototypag': 1247, 'approvision': 1248, 'dexpress': 1249, 'econometr': 1250, 'esc': 1251, 'utt': 1252, 'tourismeloisir': 1253, 'doffici': 1254, 'occitan': 1255, 'asr': 1256, 'agroaliment': 1257, 'lou': 1258, 'brogl': 1259, 'pvi': 1260, 'rayon': 1261, 'xv': 1262, 'évènementiel': 1263, 'rest': 1264, 'pollut': 1265, 'theory': 1266, 'exper': 1267, 'econometric': 1268, 'gaex': 1269, 'xiv': 1270, 'laudiovisuel': 1271, 'imprimer': 1272, 'metz': 1273, 'denisdiderot': 1274, 'distanc': 1275, 'enfant': 1276, 'terrestr': 1277, 'biobanqu': 1278, 'deb': 1279, 'cynotechn': 1280, 'ingeco': 1281, 'erge': 1282, 'mutat': 1283, 'préhistoir': 1284, 'tapisser': 1285, 'éolien': 1286, 'egel': 1287, 'jeun': 1288, 'telecom': 1289, 'comet': 1290, 'calibr': 1291, 'menuisi': 1292, 'cyclism': 1293, 'cuisini': 1294, 'discour': 1295, 'inspecteur': 1296, 'chimiquegen': 1297, 'ensai': 1298, 'usag': 1299, 'écointerpret': 1300, '8': 1301, 'box': 1302, 'pharmac': 1303, 'laiti': 1304, 'élabor': 1305, 'ladministr': 1306, 'arbre': 1307, 'diétet': 1308, 'eclairag': 1309, 'merchandis': 1310, 'issus': 1311, 'migrat': 1312, 'clown': 1313, 'subaquat': 1314, 'mri': 1315, 'documental': 1316, 'délégu': 1317, 'contact': 1318, 'acte': 1319, 'caq': 1320, 'vivar': 1321, 'dj': 1322, 'afriqu': 1323, 'latin': 1324, 'interdisciplinair': 1325, 'lapprentissag': 1326, 'char': 1327, 'gei': 1328, 'skem': 1329, 'entraineur': 1330, 'germanophon': 1331, 'qse': 1332, 'angevin': 1333, 'créativ': 1334, 'cqpi': 1335, 'gst': 1336, 'cuir': 1337, 'accueil': 1338, 'autr': 1339, 'qualif': 1340, 'em': 1341, 'optoélectron': 1342, 'géostrateg': 1343, 'biosant': 1344, 'rib': 1345, 'esti': 1346, 'laction': 1347, 'oeuvr': 1348, 'ensiam': 1349, 'mouv': 1350, 'natat': 1351, 'ggg': 1352, 'producteur': 1353, 'radio': 1354, 'matelot': 1355, 'géomaticien': 1356, 'isifc': 1357, 'chaudronni': 1358, 'ime': 1359, 'caractéris': 1360, 'portuair': 1361, 'deau': 1362, 'solid': 1363, 'déploi': 1364, 'porcin': 1365, 'bioproduct': 1366, 'martial': 1367, 'physiquechim': 1368, 'dadministr': 1369, 'interven': 1370, 'uga': 1371, 'intertropical': 1372, 'écritur': 1373, 'parisx': 1374, 'île': 1375, 'thermal': 1376, 'usinag': 1377, 'parisdauphin': 1378, 'ecoconcepteur': 1379, 'ecosym': 1380, 'intranet': 1381, 'chief': 1382, 'normand': 1383, 'rapid': 1384, 'lanc': 1385, 'vol': 1386, 'libr': 1387, 'sge': 1388, 'astrophys': 1389, 'pression': 1390, 'environnementterreevolutionclimat': 1391, 'fle': 1392, 'ae': 1393, 'couvreurzingueur': 1394, 'clean': 1395, 'micro': 1396, 'lameubl': 1397, 'dexplos': 1398, 'bbrt': 1399, 'connect': 1400, 'lhabill': 1401, 'explos': 1402, 'guerr': 1403, 'méditerranéen': 1404, 'peintur': 1405, 'method': 1406, 'engineering': 1407, 'corp': 1408, 'aprèsvent': 1409, 'laccompagn': 1410, 'justic': 1411, 'lal': 1412, 'récréat': 1413, 'lunion': 1414, 'iber': 1415, 'rse': 1416, '3000': 1417, 'evolutionterreenvironnementclimat': 1418, 'catalan': 1419, 'ensis': 1420, 'cachan': 1421, 'voyag': 1422, 'indifférenci': 1423, 'détabl': 1424, 'cart': 1425, 'transversal': 1426, 'stu': 1427, 'programmeur': 1428, 'radiophon': 1429, 'neom': 1430, 'particuli': 1431, 'darm': 1432, 'dans': 1433, 'iaa': 1434, 'opt': 1435, 'context': 1436, 'ecotechnolog': 1437, 'webmarketing': 1438, 'essais': 1439, 'pro': 1440, 'station': 1441, 'éco': 1442, 'délivr': 1443, 'yacht': 1444, 'developpeur': 1445, 'c3p': 1446, 'sppnano': 1447, 'electricien': 1448, 'pastoral': 1449, 'reproduct': 1450, 'viticultur': 1451, 'lobjet': 1452, 'archivag': 1453, 'aquariolog': 1454, 'paléoenviron': 1455, 'météorolog': 1456, 'istec': 1457, 'multisupport': 1458, 'toulouseiii': 1459, 'gard': 1460, 'asur': 1461, 'météorologisteocéanograph': 1462, 'préventeur': 1463, 'maîtrechien': 1464, 'lemballag': 1465, 'european': 1466, 'immeubl': 1467, 'bac': 1468, 'licd': 1469, 'istab': 1470, 'sécurit': 1471, 'marchandis': 1472, 'entre': 1473, '3m': 1474, 'hélicopter': 1475, 'judojujitsu': 1476, 'taill': 1477, 'intermédiair': 1478, 'norm': 1479, 'valid': 1480, 'audt': 1481, 'apas': 1482, 'late': 1483, 'guideinterpret': 1484, 'epf': 1485, 'enscpb': 1486, 'télédétect': 1487, 'tt': 1488, 'compos': 1489, 'lactiv': 1490, 'petroleum': 1491, 'enr': 1492, 'sûr': 1493, 'computing': 1494, 'librair': 1495, 'cynophil': 1496, 'nic': 1497, 'histoiregéograph': 1498, 'cryptolog': 1499, 'francoitalien': 1500, 'drôm': 1501, 'ardêch': 1502, 'motoris': 1503, 'régisseur': 1504, 'constructeur': 1505, 'gde': 1506, 'chimist': 1507, 'vitivinicol': 1508, 'jouet': 1509, 'yncre': 1510, 'liti': 1511, 'desv': 1512, 'essai': 1513, 'veil': 1514, 'eactiv': 1515, 'shs1_2': 1516, 'ctm': 1517, 'hippiqu': 1518, 'biologiegest': 1519, 'slav': 1520, 'sarii': 1521, 'financecompt': 1522, 'esie': 1523, 'multimodal': 1524, 'mrqid': 1525, 'euro': 1526, 'sil': 1527, 'cnam': 1528, 'conflit': 1529, 'ntdp': 1530, 'scen': 1531, 'nutritions': 1532, 'xii': 1533, 'montag': 1534, 'spe': 1535, 'majeur': 1536, 'rm': 1537, 'pmi': 1538, 'lamélior': 1539, 'esstin': 1540, 'plaisanc': 1541, 'caoutchouc': 1542, 'gliss': 1543, 'alliag': 1544, 'marn': 1545, 'imac': 1546, 'developp': 1547, 'militair': 1548, 'qci': 1549, 'fl': 1550, 'cpjep': 1551, 'quotidien': 1552, 'dincend': 1553, 'plac': 1554, 'id': 1555, 'denseign': 1556, 'dencadr': 1557, 'bac3': 1558, 'géoénerg': 1559, 'gestionfin': 1560, 'ieseg': 1561, 'msci': 1562, 'sophrologu': 1563, 'cœur': 1564, 'biocœur': 1565, 'cirqu': 1566, 'larchéolog': 1567, 'equip': 1568, 'bt': 1569, 'monnai': 1570, 'mbd': 1571, 'radiocommun': 1572, 'fiabl': 1573, 'formel': 1574, 'étrangèresspécial': 1575, 'ensta': 1576, 'sourc': 1577, 'vend': 1578, 'étholog': 1579, 'micronanotechnolog': 1580, 'fréquenc': 1581, 'guideconférenci': 1582, 'dressag': 1583, 'aitsp': 1584, 'terrass': 1585, 'daid': 1586, 'bass': 1587, 'institutionnel': 1588, 'professorat': 1589, 'éven': 1590, 'alé': 1591, 'dsga': 1592, 'destruct': 1593, 'compatibil': 1594, 'electromagnet': 1595, 'maçon': 1596, 'neuf': 1597, 'volleyball': 1598, 'nordpasdecal': 1599, 'animali': 1600, 'reporting': 1601, 'post': 1602, 'ecocitoyen': 1603, 'lautonom': 1604, 'chauffag': 1605, 'géoingénier': 1606, 'dépend': 1607, 'archivist': 1608, 'soussol': 1609, 'si': 1610, 'microorgan': 1611, 'multilingu': 1612, 'pm': 1613, 'is': 1614, 'stid': 1615, 'négoc': 1616, 'diplom': 1617, 'créateurconcepteur': 1618, 'eben': 1619, 'lusophon': 1620, 'isep': 1621, 'niveau': 1622, 'mus': 1623, 'soudeur': 1624, 'louvr': 1625, 'piec': 1626, 'rechang': 1627, 'gestionanim': 1628, 'corporel': 1629, 'stic': 1630, 'bdi': 1631, 'dimmeubl': 1632, 'legal': 1633, 'enfanc': 1634, 'papi': 1635, 'dagenc': 1636, 'doreur': 1637, 'renforc': 1638, 'catégor': 1639, 'japonais': 1640, 'sid': 1641, 'rhônealp': 1642, 'isaralyon': 1643, 'anglaisitalien': 1644, 'cat': 1645, 'enscmu': 1646, 'adolescent': 1647, 'familial': 1648, '500': 1649, 'électroniqueinformat': 1650, 'sécuritair': 1651, 'acteur': 1652, 'supplychain': 1653, 'lentrepreneuriat': 1654, 'plong': 1655, 'patinag': 1656, 'plurimedi': 1657, 'prévision': 1658, 'handball': 1659, 'assistantcoordin': 1660, 'tpe': 1661, 'privat': 1662, 'banking': 1663, 'eipb': 1664, 'badg': 1665, 'matic': 1666, 'i2': 1667, 'viticol': 1668, 'bdis': 1669, 'maquilleur': 1670, 'lepf': 1671, 'projeteur': 1672, 'portefeuill': 1673, 'ensar': 1674, 'bat': 1675, 'special': 1676, 'eti': 1677, 'enscr': 1678, 'thérap': 1679, 'voir': 1680, 'interprétariat': 1681, 'stylist': 1682, 'infographistedesign': 1683, 'pelot': 1684, 'basqu': 1685, 'médiathequ': 1686, 'savat': 1687, 'dimag': 1688, 'calm': 1689, 'selli': 1690, 'mecan': 1691, 'dalpinismeaccompagn': 1692, 'parisgrignon': 1693, 'spécif': 1694, 'tarb': 1695, 'cavist': 1696, 'btm': 1697, 'paléobiolog': 1698, 'phylogen': 1699, 'lumomat': 1700, 'comport': 1701, 'psb': 1702, 'laos': 1703, 'géochim': 1704, 'géomatérial': 1705, 'géobiolog': 1706, '3ge': 1707, 'sctic': 1708, 'marinpompi': 1709, 'equit': 1710, 'région': 1711, 'qhse': 1712, 'synthet': 1713, 'sstim': 1714, 'lafi': 1715, 'initi': 1716, 'tic': 1717, 'miden': 1718, 'besançon': 1719, 'boisson': 1720, 'main': 1721, 'urgenc': 1722, 'ensat': 1723, 'mrsi': 1724, 'ecogest': 1725, 'financial': 1726, 'market': 1727, 'biothérap': 1728, 'sécuris': 1729, 'vitess': 1730, 'fif': 1731, 'aix': 1732, '750': 1733, 'léonard': 1734, 'vinc': 1735, 'parcourstyp': 1736, 'malveil': 1737, 'm3p': 1738, 'répar': 1739, 'électrotechnicien': 1740, 'technicienvendeur': 1741, 'raquet': 1742, 'taekwondo': 1743, 'numériquebrest': 1744, 'isenbrest': 1745, 'sémiot': 1746, 'enihp': 1747, 'membran': 1748, 'bobsleigh': 1749, 'enscp': 1750, 'v': 1751, 'bassin': 1752, 'vers': 1753, 'grenobleprogramm': 1754, 'sécuritésûret': 1755, 'mta': 1756, 'vasculair': 1757, 'athéroscléros': 1758, 'thrombos': 1759, 'hémostas': 1760, 'bivath': 1761, 'cmao': 1762, 'alpin': 1763, 'webmestr': 1764, 'never': 1765, 'bourgogn': 1766, 'initial': 1767, 'statut': 1768, 'apprent': 1769, 'trilingu': 1770, 'perpignan': 1771, 'maison': 1772, 'fa': 1773, 'carthagéo': 1774, 'isit': 1775, 'despac': 1776, 'agroenvironnemental': 1777, 'voixdon': 1778, 'qsa': 1779, 'biominéralis': 1780, 'morphogenes': 1781, 'bmpi': 1782, 'integre': 1783, 'gil': 1784, 'limpact': 1785, 'asic': 1786, 'spéléolog': 1787, 'gr2e': 1788, 'mediat': 1789, 'identit': 1790, 'mobilit': 1791, 'latinoaméricain': 1792, 'depm': 1793, 'sis': 1794, 'arme': 1795, 'muscul': 1796, 'lobbying': 1797, 'pp': 1798, 'usin': 1799, 'ilsen': 1800, 'silicium': 1801, 'ver': 1802, 'msti': 1803, 'biologiebiochimiebiotechnolog': 1804, 'nordiqu': 1805, 'transfert': 1806, 'ere': 1807, 'manifest': 1808, 'dnat': 1809, 'gvpa': 1810, 'archéogeoscient': 1811, 'age': 1812, 'diplomat': 1813, 'cw': 1814, 'probabl': 1815, 'radar': 1816, 'maintien': 1817, 'tapis': 1818, 'ovin': 1819, 'bac5': 1820, 'mécaniqueproduct': 1821, 'fin': 1822, 'esac': 1823, 'parc': 1824, 'valpec': 1825, 'alençon': 1826, 'ventil': 1827, 'marnel': 1828, 'europeen': 1829, 'hôtellerierestaur': 1830, 'gastronom': 1831, 'précis': 1832, '8000': 1833, 'plc': 1834, 'dhistoir': 1835, 'individuel': 1836, 'escalad': 1837, 'dengin': 1838, 'even': 1839, 'ministr': 1840, 'webdigital': 1841, 'dagronom': 1842, 'dessinateurconcepteur': 1843, 'dao': 1844, 'assain': 1845, 'immun': 1846, 'karat': 1847, 'fodip': 1848, 'conduir': 1849, 'mtibh': 1850, 'dorient': 1851, 'tableau': 1852, 'nuc': 1853, 'eadministr': 1854, 'déquit': 1855, 'magazin': 1856, 'imvi': 1857, 'biomécan': 1858, 'bmi': 1859, 'motonaut': 1860, 'soigneur': 1861, 'multimedi': 1862, 'mobiqu': 1863, 'admin': 1864, 'pac': 1865, 'ger': 1866, 'estp': 1867, 'dnsep': 1868, 'stem': 1869, 'systémat': 1870, 'map': 1871, 'mining': 1872, 'sd': 1873, 'oriental': 1874, 'musical': 1875, 'sculpteur': 1876, 'électrotechniqueélectron': 1877, 'p2eb': 1878, 'q': 1879, 'mat': 1880, 'esigelec': 1881, 'ethiqu': 1882, 'pcmhp': 1883, 'press': 1884, 'neuro': 1885, 'egal': 1886, 'alimentssant': 1887, 'famill': 1888, 'escrim': 1889, 'entrepreneurial': 1890, 'mission': 1891, 'encadreur': 1892, 'rentoileur': 1893, 'sensibl': 1894, 'expériment': 1895, 'minestelecom': 1896, 'addit': 1897, 'capac': 1898, 'anglaischinois': 1899, 'biologieinformatiquebioinformat': 1900, 'bib': 1901, 'escom': 1902, 'lexcept': 1903, 'ouvert': 1904, 'degre': 1905, 'cac': 1906, 'besoin': 1907, 'lintelligent': 1908, 'bioressourc': 1909, 'anglaisespagnol': 1910, 'tir': 1911, 'app': 1912, 'nuit': 1913, 'lécoefficac': 1914, 'tourn': 1915, 'photograph': 1916, 'acrobat': 1917, 'lenquêt': 1918, 'souffler': 1919, 'piscin': 1920, 'randon': 1921, 'tellur': 1922, 'rnt': 1923, 'vii': 1924, 'athlé': 1925, 'équit': 1926, 'typ': 1927, 'new': 1928, 'mct': 1929, 'compt': 1930, 'parfumer': 1931, 'oenotour': 1932, 'régim': 1933, 'référenceur': 1934, 'rrw': 1935, 'profit': 1936, 'm2si': 1937, 'fort': 1938, 'suiv': 1939, 'journalist': 1940, 'pépini': 1941, 'motriqu': 1942, 'caodao': 1943, 'staff': 1944, 'percept': 1945, 'périscolair': 1946, 'avicol': 1947, 'agrienvironnemental': 1948, 'isem': 1949, 'ecodévelopp': 1950, 'ecodev': 1951, 'mobili': 1952, 'sculpt': 1953, 'fraiseur': 1954, 'cca': 1955, 'oléohydraul': 1956, 'asstri': 1957, 'vign': 1958, 'rédacteurreport': 1959, 'champagnearden': 1960, 'tpepm': 1961, 'geomat': 1962, 'réalit': 1963, 'faun': 1964, 'raffinag': 1965, 'im': 1966, 'mondialis': 1967, 'mim': 1968, 'lingenieur': 1969, 'dexécu': 1970, 'coiffur': 1971, 'egp': 1972, 'film': 1973, 'iecg': 1974, 'règlement': 1975, 'inpt': 1976, 'eivp': 1977, 'csi': 1978, 'nonalimentair': 1979, 'francoespagnol': 1980, 'tapissi': 1981, 'rejet': 1982, 'essig': 1983, 'ppp': 1984, 'concert': 1985, 'isman': 1986, 'physicien': 1987, 'indien': 1988, 'an': 1989, 'magasin': 1990, 'prestat': 1991, 'itech': 1992, 'step': 1993, 'chaud': 1994, 'darc': 1995, 'electricit': 1996, 'immot': 1997, 'color': 1998, 'mult': 1999, 'inflamm': 2000, 'malad': 2001, 'imi': 2002, 'clay': 2003, 'ostéopath': 2004, 'personnel': 2005, 'magasini': 2006, 'domicil': 2007, 'médicamentmacromolécul': 2008, 'protéom': 2009, 'nutritionnel': 2010, 'qualimap': 2011, 'dénomin': 2012, 'prodv': 2013, 'mondial': 2014, 'rivi': 2015, 'gemap': 2016, 'détail': 2017, 'fortun': 2018, 'mmri': 2019, 'inégal': 2020, 'anticip': 2021, 'plan': 2022, 'contingent': 2023, 'imr': 2024, 'professionnelrecherch': 2025, 'microproced': 2026, 'pentathlon': 2027, 'ecoénergéticien': 2028, 'educationform': 2029, 'sir': 2030, 'interentrepris': 2031, 'métabol': 2032, 'numes': 2033, 'igac': 2034, 'hydroinformat': 2035, 'euroaqua': 2036, 'ifi': 2037, 'couch': 2038, 'minc': 2039, 'destin': 2040, 'informaticien': 2041, 'lintervent': 2042, 'modetextil': 2043, 'sag': 2044, 'emailleur': 2045, 'cryptograph': 2046, 'écotechnolog': 2047, 'rémuner': 2048, 'scolair': 2049, 'ris': 2050, 'léger': 2051, 'qte': 2052, 'laid': 2053, 'dentraîn': 2054, 'emn': 2055, 'mido': 2056, 'miageinformat': 2057, 'aïkido': 2058, '14': 2059, 'électricien': 2060, 'lecam': 2061, 'sup': 2062, 'spingénier': 2063, 'hôtel': 2064, 'traducteur': 2065, 'letat': 2066, '2g': 2067, 'psi': 2068, 'lélectr': 2069, 'amo': 2070, 'edt': 2071, 'carrosser': 2072, 'provencealpescôt': 2073, 'mécénat': 2074, 'ensip': 2075, 'détat': 2076, 'enstimd': 2077, 'pédagog': 2078, 'cheff': 2079, 'logisticien': 2080, 'rif': 2081, 'bdc': 2082, 'denviron': 2083, 'compagnon': 2084, 'métaller': 2085, 'planif': 2086, 'aéromaritim': 2087, 'roman': 2088, 'baseball': 2089, 'softball': 2090, 'anticorros': 2091, 'edhec': 2092, 'etour': 2093, 'gessoco': 2094, 'nautism': 2095, '39': 2096, 'natural': 2097, 'lessec': 2098, 'project': 2099, 'esthéticien': 2100, 'humanit': 2101, 'déven': 2102, 'lexport': 2103, 'haltérophil': 2104, 'forc': 2105, 'lurbain': 2106, 'autonomis': 2107, 'réadapt': 2108, 'passif': 2109, 'versaill': 2110, 'saintquentinenyvelin': 2111, 'surf': 2112, 'toiletteur': 2113, 'canin': 2114, '4': 2115, 'hydrogeology': 2116, 'associated': 2117, 'transfer': 2118, 'microscop': 2119, 'grh': 2120, 'ip': 2121, 'alter': 2122, 'démarch': 2123, 'étancheur': 2124, 'bardeur': 2125, 'poitoucharent': 2126, 'lordr': 2127, 'gameplay': 2128, 'cnano': 2129, 'dyn': 2130, 'medic': 2131, 'hyperfréquent': 2132, 'desk': 2133, 'risk': 2134, 'genet': 2135, 'lelevag': 2136, 'hack': 2137, 'eipiisp': 2138, 'dang': 2139, 'enim': 2140, 'neuropsycholog': 2141, 'tourspoiti': 2142, 'lhabitat': 2143, 'mips': 2144, 'factur': 2145, 'instrumental': 2146, 'guidon': 2147, 'mediterraneen': 2148, 'ingesam': 2149, 'façad': 2150, 'condit': 2151, 'visualis': 2152, 'protéin': 2153, 'recombin': 2154, 'echang': 2155, 'démantel': 2156, 'tres': 2157, 'mqsa': 2158, 'idse': 2159, 'hispanoaméricain': 2160, 'enge': 2161, 'cours': 2162, 'déficient': 2163, 'troubl': 2164, 'psychiqu': 2165, 'ape': 2166, 'assistanat': 2167, 'maternel': 2168, 'sociologieethnolog': 2169, 'turbin': 2170, 'psychanalyt': 2171, 'electronicien': 2172, 'expertisemesuresenviron': 2173, 'écoconstruct': 2174, 'mec': 2175, 'ensmse': 2176, 'gath': 2177, 'écoéclairag': 2178, 'canalis': 2179, 'gazon': 2180, 'electrotechnicien': 2181, 'pge': 2182, 'enseirb': 2183, 'adult': 2184, 'adret': 2185, 'entreprenariat': 2186, 'tropical': 2187, 'porteur': 2188, 'ensembl': 2189, 'sibm': 2190, 'languesscient': 2191, 'reliur': 2192, 'inadapt': 2193, 'mercat': 2194, 'ebp': 2195, 'multinational': 2196, 'ieap': 2197, 'ir': 2198, 'lectur': 2199, 'tcna': 2200, 'agi': 2201, 'peint': 2202, 'dentel': 2203, 'tuyauteur': 2204, 'quaternair': 2205, 'entrepôt': 2206, 'statisit': 2207, 'son': 2208, 'iss': 2209, 'bp2mc': 2210, 'énergieenviron': 2211, 'lapproch': 2212, 'comédien': 2213, 'aidemoniteur': 2214, 'cp': 2215, 'imoc': 2216, 'périod': 2217, 'beaut': 2218, 'excellent': 2219, 'verrer': 2220, 'rinf': 2221, 'qualitéanim': 2222, 'illustr': 2223, 'contruct': 2224, 'magm': 2225, 'volcan': 2226, 'écomarketing': 2227, 'oenolog': 2228, 'reprodev': 2229, 'lorganis': 2230, 'chauffeur': 2231, 'ramasseur': 2232, 'économiegest': 2233, 'éditeur': 2234, '7': 2235, 'print': 2236, 'aspect': 2237, 'anglaisarab': 2238, 'sigm': 2239, 'embarque': 2240, 'maserat': 2241, 'biomatérial': 2242, 'réserv': 2243, 'aérospatial': 2244, 'laccueil': 2245, 'plur': 2246, 'offshor': 2247, 'como': 2248, 'communautair': 2249, 'mspc': 2250, 'cultiv': 2251, 'graphism': 2252, 'poseur': 2253, 'ep': 2254, 'hydraulicien': 2255, 'ste': 2256, 'ocean': 2257, 'hauturi': 2258, 'envolh': 2259, 'hydro': 2260, 'enscl': 2261, 'enstib': 2262, 'tourneur': 2263, 'arab': 2264, 'trampolin': 2265, 'âgé': 2266, 'plein': 2267, 'émergent': 2268, 'ales': 2269, 'ema': 2270, 'ensma': 2271, 'spécialisteconseil': 2272, 'éthiqu': 2273, 'mass': 2274, 'gim': 2275, 'soutien': 2276, 'fronti': 2277, 'gsig': 2278, 'acquisit': 2279, 'dappareillag': 2280, 'réduit': 2281, 'gedd': 2282, 'prospect': 2283, 'bou': 2284, 'propret': 2285, 'esieeit': 2286, 'attelag': 2287, 'sculptur': 2288, 'tal': 2289, 'cynotechnicien': 2290, 'voier': 2291, 'mcci': 2292, 'luther': 2293, 'archèter': 2294, 'incomplet': 2295, 'vêt': 2296, 'chaussur': 2297, 'foret': 2298, 'qsrid': 2299, 'douvrag': 2300, 'bce': 2301, 'membr': 2302, 'équipag': 2303, 'bpti': 2304, 'doctorat': 2305, 'envron': 2306, 'doctoral': 2307, 'gai': 2308, '584': 2309, 'théâtral': 2310, 'bivrd': 2311, 'agroécolog': 2312, 'rh': 2313, 'mgo': 2314, 'dam': 2315, 'aviat': 2316, 'mcc': 2317, 'décolletag': 2318, 'dalbicarmal': 2319, 'vidéolud': 2320, 'dynarisk': 2321, 'iv': 2322, 'ecophysiolog': 2323, 'fiem': 2324, 'tp': 2325, 'bem': 2326, 'chambr': 2327, 'dindustr': 2328, 'cheerleading': 2329, 'câbleur': 2330, 'dauxiliair': 2331, 'deav': 2332, 'dacces': 2333, 'daeu': 2334, 'negoci': 2335, 'ramoneur': 2336, 'ssi': 2337, 'ong': 2338, 'ina': 2339, 'pg': 2340, 'rochel': 2341, 'françoisrabel': 2342, 'god': 2343, 'diagnost': 2344, 'comm': 2345, 'gendarm': 2346, 'concepteurdéveloppeur': 2347, 'dassur': 2348, 'dinterfac': 2349, 'sommelierconseil': 2350, 'bioprotect': 2351, 'agrobio': 2352, 'ludiqu': 2353, 'subsurfac': 2354, 'g2': 2355, 'inba': 2356, 'grec': 2357, 'vem': 2358, 'spectrometr': 2359, 'scénar': 2360, 'tmic': 2361, 'transfronti': 2362, 'formationscient': 2363, 'mid': 2364, 'fruit': 2365, 'légum': 2366, 'lescem': 2367, 'dhéberg': 2368, 'lapc': 2369, 'sieg': 2370, 'ensgti': 2371, 'croupi': 2372, 'chemin': 2373, 'fumist': 2374, 'cavali': 2375, 'grespii': 2376, 'polissag': 2377, '2d3d': 2378, 'jardini': 2379, 'autom': 2380, 'rn': 2381, 'biologiesantéenviron': 2382, 'bse': 2383, 'cohabilit': 2384, 'écrivain': 2385, 'couvreur': 2386, 'machinesoutil': 2387, 'engref': 2388, 'maroquini': 2389, 'dhôteller': 2390, 'psychologu': 2391, 'discrimin': 2392, 'champ': 2393, 'lemploi': 2394, 'eservic': 2395, 'gescosto': 2396, 'agenc': 2397, 'plm': 2398, 'ensi': 2399, 'effluent': 2400, 'gazeux': 2401, 'crossmedi': 2402, 'lait': 2403, 'alim': 2404, 'décout': 2405, 'cim': 2406, 'stetien': 2407, 'déolien': 2408, 'façonni': 2409, 'activit': 2410, 'pep': 2411, 'ecoépidémiolog': 2412, 'pur': 2413, 'scaphandri': 2414, 'da2': 2415, 'rennes': 2416, 'dinvestig': 2417, 'confirm': 2418, 'accu': 2419, 'shiatsu': 2420, 'iosi': 2421, 'ferronni': 2422, 'ense': 2423, 'bateau': 2424, 'ensban': 2425, 'démograph': 2426, 'administrationmainten': 2427, 'tpa': 2428, 'contamin': 2429, 'profess': 2430, 'leurop': 2431, 'dimens': 2432, 'lhorticultur': 2433, 'dhorticultur': 2434, 'essec': 2435, 'asrall': 2436, 'ima': 2437, 'électronicien': 2438, 'relationnel': 2439, 'ghbv': 2440, 'vetagro': 2441, 'frontend': 2442, 'écoconcepteur': 2443, 'roll': 2444, 'aromat': 2445, 'lachat': 2446, 'clermontferrandii': 2447, 'descrim': 2448, 'fleuret': 2449, 'épé': 2450, 'sabr': 2451, 'sma': 2452, 'bioproduit': 2453, 'nordp': 2454, 'ddomen': 2455, 'acsyon': 2456, 'symbol': 2457, 'lexposit': 2458, 'nettoi': 2459, 'envion': 2460, 'general': 2461, 'rism': 2462, 'davocat': 2463, 'infocom': 2464, 'fecg': 2465, 'évolut': 2466, 'emarketing': 2467, 'couvertureorneman': 2468, 'couvertur': 2469, 'métalli': 2470, 'cesm': 2471, 'daménag': 2472, 'msi': 2473, 'laviat': 2474, 'wakeboard': 2475, 'engin': 2476, 'tract': 2477, 'denerg': 2478, 'feu': 2479, 'déclar': 2480, 'douan': 2481, '17502000': 2482, 'ecritur': 2483, 'biov': 2484, 'mension': 2485, 'sein': 2486, 'manutent': 2487, 'dinstitut': 2488, 'victimolog': 2489, 'epit': 2490, 'spé': 2491, 'masseurkinésithérapeut': 2492, 'simo': 2493, 'thalassothérap': 2494, 'groupex': 2495, 'franchis': 2496, 'anglaisportug': 2497, 'devop': 2498, 'nordest': 2499, 'multitechn': 2500, 'dhepsrep': 2501, 'argument': 2502, 'influenc': 2503, 'isvd': 2504, 'luic': 2505, 'linsert': 2506, 'métropolitain': 2507, 'ast': 2508, 'corridor': 2509, 'fluvial': 2510, 'imacof': 2511, 'bretagnepay': 2512, 'qsrim': 2513, 'electrohydraul': 2514, 'minor': 2515, 'exterieur': 2516, 'desm': 2517, 'rdm': 2518, 'ensg': 2519, 'mai': 2520, 'conform': 2521, '360': 2522, 'ascenseur': 2523, 'personnal': 2524, 'mr': 2525, 'gros': 2526, 'bijouter': 2527, 'joailler': 2528, 'mp': 2529, 'masp': 2530, 'péril': 2531, 'agrodistribu': 2532, 'terrain': 2533, 'cogevaleau': 2534, 'lenf': 2535, 'help': 2536, 'artslettreslanguesscient': 2537, 'editeur': 2538, 'hautenormand': 2539, 'lecobât': 2540, 'enssat': 2541, 'processproduitpeintur': 2542, 'ami': 2543, 'pianos': 2544, 'evènementiel': 2545, 'couteller': 2546, 'fabric': 2547, 'couteau': 2548, 'denr': 2549, 'dinsert': 2550, 'dscg': 2551, 'mqsei': 2552, 'bvi': 2553, 'elib': 2554, 'euromedi': 2555, 'cicm': 2556, 'gravur': 2557, 'pétrochim': 2558, 'francophon': 2559, 'philolog': 2560, 'coiffeur': 2561, 'conseillerer': 2562, 'biotech': 2563, 'canc': 2564, 'imhp': 2565, 'affinitair': 2566, 'rhéolog': 2567, 'poétiqu': 2568, 'inclus': 2569, 'lah': 2570, 'ibéroaméricain': 2571, 'aquacol': 2572, 'dest': 2573, 'qualifi': 2574, 'modeleur': 2575, 'pouvoir': 2576, 'chevalet': 2577, 'conservationrestaur': 2578, 'fitness': 2579, 'cour': 2580, 'bbc': 2581, 'phytochim': 2582, 'ensiet': 2583, 'deust': 2584, 'mesureanalys': 2585, 'arc': 2586, 'plongeurdémineur': 2587, 'bureaut': 2588, 'plateform': 2589, 'culinair': 2590, 'squash': 2591, 'anglaisjapon': 2592, 'ecnant': 2593, 'déform': 2594, 'union': 2595, 'ceseat': 2596, 'fb': 2597, 'biomar': 2598, 'saamtn': 2599, 'sondeur': 2600, 'sapeurpompi': 2601, 'erp': 2602, 'progiciel': 2603, 'lassur': 2604, 'marqueur': 2605, 'eapt': 2606, 'transact': 2607, 'financecomptabilitécontrôl': 2608, 'ecosm': 2609, 'collecteur': 2610, 'biodéchet': 2611, 'eigs': 2612, 'stuctur': 2613, 'esap': 2614, 'afitp': 2615, 'recyclag': 2616, 'contrôlequal': 2617, 'enspim': 2618, 'fibr': 2619, 'polon': 2620, 'apc': 2621, 'soud': 2622, 'pra': 2623, 'ensii': 2624, 'enquêteuragent': 2625, 'lisppicard': 2626, 'rihm': 2627, 'daction': 2628, 'interprofessionnel': 2629, 'côti': 2630, 'iti': 2631, 'maroquiner': 2632, 'mariag': 2633, 'débardag': 2634, 'être': 2635, 'concierg': 2636, 'tiss': 2637, 'egalit': 2638, 'wushu': 2639, 'cesem': 2640, 'ensp': 2641, 'géomarketing': 2642, 'métrologu': 2643, 'imaginair': 2644, 'genes': 2645, 'igl': 2646, 'veilleur': 2647, 'ense3': 2648, 'dapprovision': 2649, 'lean': 2650, 'sportic': 2651, 'igsi': 2652, 'mental': 2653, 'concurrent': 2654, 'effet': 2655, 'isi': 2656, 'imanag': 2657, 'épicer': 2658, 'reservoir': 2659, 'geoscienc': 2660, '6': 2661, 'russophon': 2662, 'syndical': 2663, 'community': 2664, 'iri': 2665, 'cristaller': 2666, 'tailleur': 2667, 'lenitab': 2668, 'depuis': 2669, '2012': 2670, 'plurilingu': 2671, 'découp': 2672, 'pâtissi': 2673, 'etancheur': 2674, 'télésurveil': 2675, 'meppp': 2676, 'extract': 2677, 'créationrepris': 2678, 'élastomer': 2679, 'surv': 2680, 'cffp': 2681, 'dhospital': 2682, 'aslh': 2683, 'divers': 2684, 'crêpi': 2685, 'géopolit': 2686, 'extérieur': 2687, 'intra': 2688, 'agro': 2689, 'suret': 2690, 'urbainsterritorial': 2691, 'psychothérap': 2692, 'enesad': 2693, 'limit': 2694, 'mill': 2695, 'géoenviron': 2696, 'terminal': 2697, 'critiqu': 2698, 'biocontamin': 2699, 'barman': 2700, 'anglaiscoréen': 2701, 'processuel': 2702, 'gp': 2703, 'tig': 2704, 'lexiqu': 2705, 'atomicien': 2706, 'esag': 2707, 'imaf': 2708, 'aupres': 2709, 'internationalestraduct': 2710, 've': 2711, 'bilingu': 2712, 'plieur': 2713, 'actuel': 2714, 'publicpriv': 2715, 'entrepreunariat': 2716, 'esa': 2717, 'microcircuit': 2718, 'ferronner': 2719, 'griss': 2720, 'boul': 2721, 'content': 2722, 'emploiform': 2723, 'denf': 2724, 'daptitud': 2725, 'sourd': 2726, 'tissulair': 2727, 'géniqu': 2728, 'impact': 2729, 'sest': 2730, 'agenceur': 2731, 'sall': 2732, 'bain': 2733, 'pmetp': 2734, 'gymnast': 2735, 'nonlinéair': 2736, 'dévènementiel': 2737, 'hcr': 2738, 'caf': 2739, 'mtd': 2740, 'voi': 2741, 'lœuvr': 2742, 'lair': 2743, 'révis': 2744, 'daéronef': 2745, 'me': 2746, 'ingénierieécoul': 2747, 'diphas': 2748, 'concepteurréalis': 2749, 'asserv': 2750, 'héberg': 2751, 'mqsi': 2752, 'moyenag': 2753, 'hypermédi': 2754, 'podcast': 2755, 'documentar': 2756, 'dextrus': 2757, 'epidemiolog': 2758, 'ében': 2759, 'deermal': 2760, 'dinventair': 2761, 'lagrochim': 2762, 'béton': 2763, 'semiautomat': 2764, 'omnicanal': 2765, 'dess': 2766, 'lensilensc': 2767, 'lif3': 2768, 'hydroprotech': 2769, 'insa': 2770, 'um': 2771, 'ntic': 2772, 'communicationmarketing': 2773, 'sociopsycholog': 2774, 'logiqu': 2775, 'mécaniqueélectr': 2776, 'anthropologieethnolog': 2777, 'extranetintranet': 2778, 'organiz': 2779, 'toxicologieenvironnementsant': 2780, 'menac': 2781, 'denquêt': 2782, 'inspect': 2783, 'hydrosystem': 2784, 'gendarmer': 2785, 'isifar': 2786, 'gpla': 2787, 'insert': 2788, 'larc': 2789, 'compétit': 2790, 'marionnet': 2791, 'volumin': 2792, 'stud': 2793, 'research': 2794, 'oro': 2795, 'dentreposag': 2796, 'protohistoir': 2797, 'africain': 2798, 'intégrationadministr': 2799, 'chimiematérial': 2800, 'imprim': 2801, 'télesk': 2802, 'lesitp': 2803, 'cynéget': 2804, 'mont': 2805, 'blanc': 2806, 'neurobiolog': 2807, 'scéniqu': 2808, 'prevent': 2809, 'pgrd': 2810, 'préhistor': 2811, 'llcer': 2812, 'spiritual': 2813, 'stuc': 2814, 'coti': 2815, 'western': 2816, 'point': 2817, 'billard': 2818, 'nanobiomatérial': 2819, 'psychanalys': 2820, 'plâtr': 2821, 'lisol': 2822, 'bpbm': 2823, 'biotransform': 2824, 'ensim': 2825, 'productiontrait': 2826, 'svt': 2827, 'nct': 2828, 'telecommunci': 2829, 'hostil': 2830, 'lévénementiel': 2831, 'adour': 2832, 'rec': 2833, 'tonneller': 2834, 'agrobusiness': 2835, 'oga': 2836, 'ergolog': 2837, 'operationnel': 2838, 'decis': 2839, 'aviron': 2840, 'surêt': 2841, 'méri': 2842, 'itcbtp': 2843, 'sépcial': 2844, 'mind': 2845, 'botter': 2846, 'podo': 2847, 'orthes': 2848, 'chaudron': 2849, 'ggrc': 2850, 'livreur': 2851, 'maitris': 2852, 'vulner': 2853, 'volum': 2854, 'engazon': 2855, 'périurbanis': 2856, 'erpur': 2857, 'zinguer': 2858, 'troisiem': 2859, 'conventionnel': 2860, 'linéair': 2861, 'comptabilitécontrôleaud': 2862, 'conseilexpert': 2863, 'erédactionnel': 2864, 'pneumat': 2865, 'prim': 2866, '23': 2867, 'tci': 2868, '33': 2869, 'cid': 2870, 'boulist': 2871, 'télépher': 2872, 'bicâbl': 2873, 'funiculair': 2874, 'appareil': 2875, 'assimil': 2876, 'listom': 2877, 'tissag': 2878, 'tisag': 2879, 'soi': 2880, 'retoucheur': 2881, 'tôl': 2882, 'nu': 2883, 'réel': 2884, 'sauvag': 2885, 'gost': 2886, 'harnacheur': 2887, 'nomad': 2888, 'mmmef': 2889, 'havr': 2890, 'régleurdécolleteur': 2891, 'domest': 2892, 'ared': 2893, 'i2e': 2894, 'moul': 2895, 'iie': 2896, 'att': 2897, 'notat': 2898, 'chorégraphi': 2899, 'récolt': 2900, 'oop': 2901, 'ebi': 2902, 'spassur': 2903, 'larchitectur': 2904, 'réflexologu': 2905, 'communiqu': 2906, 'couleur': 2907, 'agréeur': 2908, 'pec': 2909, 'intéract': 2910, 'exdiplôm': 2911, 'lecg': 2912, 'cithec': 2913, 'tapissiertapissi': 2914, 'dameubl': 2915, 'difficult': 2916, 'simultan': 2917, 'géographieurban': 2918, 'publicitair': 2919, 'poêl': 2920, 'enstim': 2921, 'bijouti': 2922, 'textuel': 2923, 'disqu': 2924, 'dhygien': 2925, 'méthodolog': 2926, 'métropolis': 2927, 'hospital': 2928, 'léven': 2929, 'egypt': 2930, 'dynast': 2931, 'hellénist': 2932, 'romain': 2933, 'bourg': 2934, 'atpla': 2935, 'licenseaeroplan': 2936, 'demand': 2937, 'différenci': 2938, 'gdc': 2939, '17': 2940, 'darchitectur': 2941, 'ugv': 2942, 'micp': 2943, 'idé': 2944, 'lantiqu': 2945, 'agapsc': 2946, 'ap': 2947, 'vidéophoto': 2948, 'tandem': 2949, 'souterrain': 2950, 'ier': 2951, 'igis': 2952, 'refug': 2953, 'dessinateurcartograph': 2954, 'lav': 2955, 'biologieécolog': 2956, 'démonteur': 2957, 'automoibl': 2958, 'embarc': 2959, 'cultural': 2960, 'iic': 2961, 'daocaofao': 2962, 'moulag': 2963, 'cuit': 2964, 'epm': 2965, 'dappareil': 2966, 'hydrobalnéologu': 2967, 'stl': 2968, 'hf': 2969, 'ppasp': 2970, 'actuariat': 2971, 'bep': 2972, 'automot': 2973, 'for': 2974, 'sustain': 2975, 'mobility': 2976, 'emcsm': 2977, 'vdivsm': 2978, 'dec': 2979, 'fluidesenergiesenviron': 2980, 'maint': 2981, 'lhomm': 2982, 'éthnolog': 2983, 'encre': 2984, 'adhes': 2985, 'connex': 2986, 'ensci': 2987, 'ecmn': 2988, 'scénograph': 2989, 'sig': 2990, 'maraudeur': 2991, 'bioanalys': 2992, 'multiti': 2993, 'mrn': 2994, 'cathod': 2995, 'corpus': 2996, 'lilac': 2997, 'personnag': 2998, 'audiovisuellemultimédi': 2999, 'artisanat': 3000, 'miqs': 3001, 'ieii': 3002, 'iot': 3003, 'sportspécial': 3004, 'fleurist': 3005, 'dequip': 3006, 'cied': 3007, 'plaquisteplâtri': 3008, 'internetintranet': 3009, 'itb': 3010, 'achatvent': 3011, 'massy': 3012, 'dermocosmet': 3013, 'dedpad': 3014, 'crypt': 3015, 'hydrotechnicien': 3016, 'radiopharmaceut': 3017, 'tournag': 3018, 'torsag': 3019, 'enquêt': 3020, 'échelon': 3021, 'vrd': 3022, 'médicopsycholog': 3023, 'deamp': 3024, 'criminalist': 3025, 'périnatal': 3026, 'binational': 3027, 'bionettoyag': 3028, 'réparateurgestionnair': 3029, 'étrangèresecond': 3030, 'plomber': 3031, 'sciencestechnologiess': 3032, 'mig': 3033, 'supest': 3034, 'maîtress': 3035, 'poney': 3036, 'dépanneur': 3037, 'pai': 3038, 'spcritiqu': 3039, 'esdoc': 3040, 'laser': 3041, 'centralesupélec': 3042, 'toulon': 3043, 'dinclus': 3044, 'cisp': 3045, 'modernis': 3046, 'dplg': 3047, 'iat': 3048, 'oenotourist': 3049, 'citoyennet': 3050, 'itiner': 3051, 'taxiderm': 3052, 'rentraitur': 3053, 'doeuvr': 3054, 'électroacoust': 3055, 'pharmacoepidemiolog': 3056, 'pharmacovigil': 3057, 'pepv': 3058, 'traction': 3059, 'sar': 3060, 'cdl': 3061, 'dst': 3062, 'gedel': 3063, 'concepteurintegr': 3064, 'reg': 3065, 'illettr': 3066, 'hyroinformat': 3067, 'aqua': 3068, 're': 3069, 'aluminium': 3070, 'polytechtour': 3071, 'lencadr': 3072, 'm3e': 3073, 'poch': 3074, 'voitur': 3075, 'adapte': 3076, 'mip': 3077, 'imq': 3078, 'dexpert': 3079, 'professionelrecherch': 3080, 'cfao': 3081, 'ethnomusicolog': 3082, 'meedd': 3083, 'ebénister': 3084, 'entrepreunarial': 3085, 'foqual': 3086, 'daviron': 3087, 'bioqualim': 3088, 'normal': 3089, 'cricket': 3090, 'actif': 3091, 'isab': 3092, 'bioingenier': 3093, 'ciblag': 3094, 'lefficac': 3095, 'aideappareilleur': 3096, 'maintenancecontrôl': 3097, 'prévisionnel': 3098, 'casinosj': 3099, 'ises': 3100, 'consolid': 3101, 'genealog': 3102, 'successoral': 3103, 'altern': 3104, 'partag': 3105, 'administrateurproducteur': 3106, 'sommeli': 3107, 'ambassadeur': 3108, 'transparent': 3109, 'codiplom': 3110, 'karlfranzensuniversität': 3111, 'graz': 3112, 'autrich': 3113, 'katholiek': 3114, 'universiteit': 3115, 'leuven': 3116, 'belgiqu': 3117, 'isr': 3118, 'assemblag': 3119, 'tsibh': 3120, 'aqsp': 3121, 'gpi': 3122, 'gescop': 3123, 'gemmologu': 3124, 'comen': 3125, 'restaurateurconserv': 3126, 'polychrom': 3127, 'instructeur': 3128, 'personal': 3129, 'training': 3130, 'dinander': 3131, 'bioterr': 3132, 'utilis': 3133, 'promat': 3134, 'divis': 3135, 'poreux': 3136, 'scd': 3137, 'judojiujitsu': 3138, 'alpe': 3139, 'géomesur': 3140, 'fonci': 3141, 'daéronaut': 3142, 'dartist': 3143, 'dnsp': 3144, 'ac': 3145, 'orfevr': 3146, 'orfèvrer': 3147, 'zoolog': 3148, 'ecology': 3149, 'emmcema': 3150, 'systèmesavion': 3151, 'chaux': 3152, 'réfract': 3153, 'd2a': 3154, 'diesel': 3155, 'ascensionnel': 3156, 'biosourc': 3157, 'agglomer': 3158, 'écocitoyen': 3159, 'irt': 3160, 'djce': 3161, 'offici': 3162, 'hydropraticien': 3163, 'géoréférenc': 3164, 'répartit': 3165, 'voyageur': 3166, 'esp': 3167, 'leg': 3168, 'microinformat': 3169, 'xvii': 3170, 'toilettag': 3171, 'biotechnologiesspécial': 3172, 'francotchequ': 3173, 'lautrich': 3174, 'perspect': 3175, 'transnational': 3176, 'arrosag': 3177, 'gamif': 3178, 'analog': 3179, 'sdo': 3180, 'isam': 3181, 'protest': 3182, 'tsm': 3183, 'américain': 3184, 'flag': 3185, 'cred': 3186, 'miagesitn': 3187, 'isur': 3188, 'caravan': 3189, 'accordeur': 3190, 'recharg': 3191, 'analysteprogrammeur': 3192, 'interneextern': 3193, 'padel': 3194, 'pass': 3195, 'pipi': 3196, 'tourner': 3197, 'matc': 3198, 'isol': 3199, 'rang': 3200, 'nondestruct': 3201, 'manufacturi': 3202, 'dinterieurdesign': 3203, 'aeroteam': 3204, 'groom': 3205, 'd2m': 3206, 'qes': 3207, 'droitéconomiegest': 3208, 'administrateurric': 3209, 'reconstructeur': 3210, 'articl': 3211, 'etai': 3212, 'bûcheronnag': 3213, 'manuel': 3214, 'aaqcb': 3215, 'temball': 3216, 'parachim': 3217, 'dpac': 3218, 'damag': 3219, 'ecoconstruct': 3220, 'damélior': 3221, 'leb': 3222, 'dcp': 3223, 'laiguill': 3224, 'argentan': 3225, 'anglaishind': 3226, 'qualiticien': 3227, 'danticip': 3228, 'massag': 3229, 'astroparticul': 3230, 'piston': 3231, 'esilv': 3232, 'qualitésécuritéenviron': 3233, 'bord': 3234, 'lévènementiel': 3235, 'biotechnologiebiopharmac': 3236, 'souffleur': 3237, 'lumin': 3238, 'ic': 3239, 'user': 3240, 'experient': 3241, 'uxd': 3242, 'istom': 3243, 'conceptric': 3244, 'rédactric': 3245, 'l3': 3246, 'créatric': 3247, 'félin': 3248, 'nac': 3249, 'cctar': 3250, 'calorifug': 3251, 'pcspi': 3252, 'onlin': 3253, 'offlin': 3254, 'technology': 3255, 'enm': 3256, 'brh': 3257, 'vérif': 3258, 'particip': 3259, 'botan': 3260, 'stadium': 3261, 'enceint': 3262, 'dactif': 3263, 'féron': 3264, 'traditionnel': 3265, 'demboutissag': 3266, 'supramoléculair': 3267, 'socioécomon': 3268, 'outilleur': 3269, 'observatoir': 3270, 'pictural': 3271, 'parapharmac': 3272, 'analysteconcepteur': 3273, 'strasbourgeurop': 3274, 'band': 3275, 'icm': 3276, 'intermediar': 3277, 'plongeon': 3278, 'monétair': 3279, 'trafic': 3280, 'dintercept': 3281, 'muséograph': 3282, 'ensam': 3283, 'optoélectroniquehyperfréquent': 3284, 'aluminiumverr': 3285, 'fœtal': 3286, 'rcpf': 3287, 'egess': 3288, 'écaill': 3289, 'aideanim': 3290, 'régleur': 3291, 'lhistoir': 3292, 'ingrédient': 3293, 'epi': 3294, 'assembleur': 3295, 'nautiquewakeboard': 3296, 'marbri': 3297, 'comptabilitéfin': 3298, 'brancardi': 3299, 'imba': 3300, 'section': 3301, 'dinterieur': 3302, 'qpo': 3303, 'anglaispolon': 3304, 'trésorer': 3305, 'électrod': 3306, 'enrob': 3307, 'notariat': 3308, 'bordeauxpar': 3309, 'inseec': 3310, 'vélo': 3311, 'med': 3312, 'épidémiolog': 3313, 'similtr': 3314, 'etanché': 3315, 'conchylicol': 3316, 'vfx': 3317, 'fouill': 3318, 'fdgc': 3319, 'aqueux': 3320, 'epistémolog': 3321, 'bijou': 3322, 'joyau': 3323, 'larmurer': 3324, 'gmt': 3325, 'serveur': 3326, 'agé': 3327, 'aapapd': 3328, 'seicom': 3329, 'médico': 3330, 'cplir': 3331, 'âge': 3332, 'charpent': 3333, 'cmi': 3334, 'agroindustriel': 3335, 'jardinierbotan': 3336, 'libéral': 3337, 'réglement': 3338, 'psc': 3339, 'nivoculteur': 3340, 'neig': 3341, 'microfin': 3342, 'maritimecontinental': 3343, 'œnotour': 3344, 'physiquelasermatérial': 3345, 'savoir': 3346, 'carbon': 3347, 'soufflag': 3348, 'chalumeau': 3349, 'métallierserruri': 3350, 'pos': 3351, 'menuiserieaci': 3352, 'océanograph': 3353, 'épargn': 3354, 'hôtellerietour': 3355, 'judo': 3356, 'jiujitsu': 3357, 'tier': 3358, 'assit': 3359, '1re': 3360, 'eform': 3361, 'aigem': 3362, 'dintérieurdesign': 3363, 'port': 3364, 'ohq': 3365, 'scocial': 3366, 'vdi': 3367, 'doc': 3368, 'entit': 3369, 'câbl': 3370, 'remont': 3371, 'crbc': 3372, 'maghreb': 3373, 'structural': 3374, 'rien': 3375, 'posit': 3376, 'ser': 3377, 'motion': 3378, 'egt': 3379, 'eaucartographiegéomat': 3380, 'pcma': 3381, 'europlastic': 3382, 'epc': 3383, 'co': 3384, 'psto': 3385, 'darl': 3386, 'muse': 3387, 'doit': 3388, 'adminsitr': 3389, 'formag': 3390, 'evénementiel': 3391, 'conseilqual': 3392, 'sommeller': 3393, 'finisseur': 3394, 'vernisseur': 3395, 'bronzi': 3396, 'bronz': 3397, 'saint': 3398, 'etien': 3399, 'tissus': 3400, 'ctcbm': 3401, 'lagronom': 3402, 'forest': 3403, 'their': 3404, 'environment': 3405, 'gaemp': 3406, 'résilient': 3407, 'entreposag': 3408, 'videoprotect': 3409, 'iet': 3410, 'conceptionfabr': 3411, 'dsdo': 3412, 'grilladin': 3413, 'cot': 3414, 'venteact': 3415, 'marchand': 3416, 'mmi': 3417, 'ca': 3418, 'visiteur': 3419, 'sv': 3420, 'rythmiqu': 3421, 'relationclient': 3422, 'opérateurrégleur': 3423, 'machineoutil': 3424, 'enlev': 3425, 'prévis': 3426, 'revégétalis': 3427, 'mini': 3428, 'efo': 3429, 'écran': 3430, 'oblig': 3431, 'quad': 3432, 'vitivinicultur': 3433, 'télépilot': 3434, 'minidron': 3435, 'voilur': 3436, 'fix': 3437, 'hor': 3438, 'vu': 3439, 'longu': 3440, 'enstbb': 3441, 'crémi': 3442, 'fromag': 3443, 'coup': 3444, 'telecommun': 3445, 'stock': 3446, 'gsl': 3447, 'carton': 3448, 'mou': 3449, 'vendeux': 3450, 'pédicur': 3451, 'bovin': 3452, 'mareyag': 3453, 'ossatur': 3454, 'escali': 3455, 'sociolinguist': 3456, 'éveil': 3457, 'casinos': 3458, 'mess': 3459, 'intermodal': 3460, 'variétal': 3461, 'mpref': 3462, 'cru': 3463, 'rt': 3464, 'musiquemusicolog': 3465, 'vidéast': 3466, 'dextract': 3467, 'chroniqueur': 3468, 'archéoscient': 3469, 'euroméditerran': 3470, 'ceo': 3471, 's2i': 3472, 'maintenicienchef': 3473, 'latmospher': 3474, 'sapeurspompi': 3475, 'dimensionnel': 3476, 'isa': 3477, 'humainmachin': 3478, 'descmo': 3479, 'guitar': 3480, 'condens': 3481, 'nanophys': 3482, 'leconom': 3483, 'serruri': 3484, 'dépanneurinstall': 3485, 'marketingcommerc': 3486, 'développementhumanitair': 3487, 'écotour': 3488, 'tapisseriedécor': 3489, 'vidéoprotect': 3490, 'electromécanicien': 3491, 'csm': 3492, 'microprocesseur': 3493, 'diamantair': 3494, 'intercepteur': 3495, 'mtacb': 3496, 'chapiteau': 3497, 'consulting': 3498, 'it': 3499, 'scolaris': 3500, 'collectivit': 3501, 'sambo': 3502, 'vendeurmagasini': 3503, 'réinsert': 3504, 'cherbourg': 3505, 'eic': 3506, 'sépar': 3507, 'confin': 3508, 'dock': 3509, 'réceptionnair': 3510, 'extrafinanci': 3511, 'dergothérapeut': 3512, 'monnaiefinancebanqu': 3513, 'dyat': 3514, 'artisan': 3515, 'bioraffiner': 3516, 'des': 3517, 'éduqu': 3518, 'découvert': 3519, 'grimp': 3520, 'darbr': 3521, 'coaching': 3522, 'darchitect': 3523, 'vievieil': 3524, 'périurbain': 3525, 'ethnologiesociolog': 3526, 'tb': 3527, 'internat': 3528, 'corpsem': 3529, 'ddtr': 3530, 'comportementalistemédi': 3531, 'compagn': 3532, 'cfppai': 3533, 'musicien': 3534, 'dorchestr': 3535, 'brasseriecaf': 3536, 'polic': 3537, 'élev': 3538, 'envelopp': 3539, 'amien': 3540, 'esieeamien': 3541, 'enlumineur': 3542, 'gobeleter': 3543, 'assort': 3544, 'pressepapi': 3545, 'aster': 3546, 'mpec': 3547, 'livraison': 3548, 'plis': 3549, 'colis': 3550, 'esitp': 3551, 'dusinag': 3552, 'cohes': 3553, 'calcair': 3554, 'gemmolog': 3555, '9': 3556, 'seller': 3557, 'réemploi': 3558, 'électronaval': 3559, 'masen': 3560, 'plais': 3561, 'breton': 3562, 'dœuvr': 3563, 'éclairag': 3564, 'contenu': 3565, 'digitalis': 3566, 'polytechclermontferrand': 3567, 'fleur': 3568, 'biocatalys': 3569, 'athl': 3570, 'bpbrevet': 3571, 'egtp': 3572, 'stupéfi': 3573, 'davalanch': 3574, 'dassaut': 3575, 'pist': 3576, 'patrouill': 3577, 'revêt': 3578, 'bitumin': 3579, 'eclyon': 3580, 'lunit': 3581, 'irsii': 3582, 'stad': 3583, 'demifond': 3584, 'running': 3585, 'trail': 3586, 'tradit': 3587, 'dorur': 3588, 'tranch': 3589, 'distech': 3590, 'déconstruct': 3591, 'décontamin': 3592, 'actuair': 3593, 'gte': 3594, 'pisteur': 3595, 'vtt': 3596, 'limportexport': 3597, 'allemandangl': 3598, 'russeangl': 3599, 'russeallemand': 3600, 'usager': 3601, 'bouch': 3602, 'accompagnateur': 3603, 'sudpar': 3604, 'matmec': 3605, 'poter': 3606, 'responsablecoordon': 3607, 'construir': 3608, 'harmonis': 3609, 'psychomotr': 3610, 'référentiel': 3611, 'macroéconom': 3612, 'préindustrialis': 3613, 'maap': 3614, 'dpec': 3615, 'spec': 3616, 'handisport': 3617, 'ladour': 3618, 'physiquee': 3619, 'proxim': 3620, 'dopposit': 3621, 'enshap': 3622, 'lentreprisedjc': 3623, 'ajusteur': 3624, 'maaav': 3625, 'rollerskating': 3626, 'embout': 3627, 'responsableadjoint': 3628, 'poissonner': 3629, 'iva': 3630, 'gtr': 3631, 'plat': 3632, 'ensccf': 3633, 'électrodomest': 3634, 'marketingstrateg': 3635, 'sousensembl': 3636, 'staffeur': 3637, 'lieuten': 3638, 'mib': 3639, 'mitsic': 3640, 'cpi': 3641, 'géoprospect': 3642, 'geoprad': 3643, 'rentrayeur': 3644, 'environmental': 3645, 'resourc': 3646, 'erna': 3647, 'gepen': 3648, 'egc': 3649, 'paramédical': 3650, 'georg': 3651, 'achard': 3652, 'ecoénerg': 3653, 'donne': 3654, 'edit': 3655, 'sadl': 3656, 'vendeurconseil': 3657, 'orneman': 3658, 'raccordeur': 3659, 'ftth': 3660, 'comédi': 3661, 'pgem': 3662, 'temporair': 3663, 'ontolog': 3664, 'bcp': 3665, 'accessibil': 3666, '2nd': 3667, 'mpi': 3668, 'spmathémat': 3669, 'imag2': 3670, 'interrégional': 3671, 'malo': 3672, 'colleg': 3673, 'lyc': 3674, 'sociotechn': 3675, 'daquacultur': 3676, 'synchronis': 3677, 'cos': 3678, 'monteurdépanneur': 3679, 'forgeag': 3680, 'parisvii': 3681, 'anabiotec': 3682, 'grosœuvr': 3683, 'isg': 3684, 'garnisseur': 3685, 'scénaris': 3686, 'aïkibudo': 3687, 'respir': 3688, 'sommeil': 3689, 'b2pr': 3690, 'équipi': 3691, 'comparaison': 3692, 'linsep': 3693, '19': 3694, 'mannheim': 3695, 'esaip': 3696, 'plaquist': 3697, 'histoiregeograph': 3698, 'dassain': 3699, 'liquid': 3700, 'macromolécul': 3701, 'cg': 3702, 'cndm': 3703, 'chainperform': 3704, 'lem': 3705, 'monumental': 3706, 'gran': 3707, 'gpf': 3708, 'biomorpholog': 3709, 'squelet': 3710, 'unitair': 3711, 'sériel': 3712, 'but': 3713, 'lucrat': 3714, 'arboristegrimpeur': 3715, 'lot': 3716, 'dhabill': 3717, 'recherchedévelopp': 3718, 'soustitrag': 3719, 'doublag': 3720, 'mobilis': 3721, 'ice': 3722, 'fuseau': 3723, 'x': 3724, 'maquillag': 3725, 'dalpin': 3726, 'agromolécul': 3727, 'artslettreslangu': 3728, 'arle': 3729, 'secondair': 3730, 'létrang': 3731, 'dpo': 3732, 'origin': 3733, 'pompi': 3734, 'accordéon': 3735, 'emplois': 3736, 'égal': 3737, 'dexpertis': 3738, 'cyb': 3739, 'aménageur': 3740, 'mécanis': 3741, 'entreprendr': 3742, 'aménagementfinit': 3743, 'techiqu': 3744, 'liss': 3745, 'det': 3746, 'élevag': 3747, 'préparateurvendeur': 3748, 'passementer': 3749, 'bioexpériment': 3750, 'chimiespécial': 3751, 'technicooper': 3752, 'musicologu': 3753, 'df': 3754, 'dnesm': 3755, 'dalpinismeguid': 3756, 'epic': 3757, '2em': 3758, 'détag': 3759, 'risc': 3760, 'esthéticiencosméticien': 3761, 'monteurinstall': 3762, 'sociospatial': 3763, 'pegc': 3764, 'iupsed': 3765, 'globalis': 3766, 'tatoueur': 3767, '16': 3768, 'ienac': 3769, 'spvaloris': 3770, 'UNK': 3771}\n",
      "Sparse Matrix Representation :    (0, 97)\t0.6003282731240854\n",
      "  (0, 37)\t0.469863267150497\n",
      "  (0, 31)\t0.4656911335725438\n",
      "  (0, 27)\t0.44940654510413297\n",
      "  (1, 52)\t0.7706194805917976\n",
      "  (1, 22)\t0.6372955484956943\n",
      "  (2, 1287)\t0.41911297194704955\n",
      "  (2, 282)\t0.3252252531149864\n",
      "  (2, 275)\t0.31678819347194087\n",
      "  (2, 175)\t0.6111192222598497\n",
      "  (2, 74)\t0.23969436609923775\n",
      "  (2, 33)\t0.20449403631667107\n",
      "  (2, 29)\t0.1960796960140205\n",
      "  (2, 15)\t0.17397449267846765\n",
      "  (2, 12)\t0.17135200878908796\n",
      "  (2, 7)\t0.15207722046917035\n",
      "  (2, 2)\t0.11631579742893271\n",
      "  (2, 1)\t0.10366995798982487\n",
      "  (3, 387)\t0.40340791361390416\n",
      "  (3, 281)\t0.3794999412167975\n",
      "  (3, 125)\t0.32144036298375706\n",
      "  (3, 120)\t0.3186406843703298\n",
      "  (3, 114)\t0.3128733158165869\n",
      "  (3, 40)\t0.25618263584451606\n",
      "  (3, 26)\t0.4963766798079772\n",
      "  :\t:\n",
      "  (4712, 84)\t0.6394225030811729\n",
      "  (4712, 8)\t0.4048541060685616\n",
      "  (4713, 1473)\t0.32092323863487415\n",
      "  (4713, 1092)\t0.3065500664564679\n",
      "  (4713, 705)\t0.2840051523200826\n",
      "  (4713, 523)\t0.2663166119186761\n",
      "  (4713, 451)\t0.25840648446404796\n",
      "  (4713, 440)\t0.2574078661934198\n",
      "  (4713, 420)\t0.25549125866052613\n",
      "  (4713, 387)\t0.2519434397402699\n",
      "  (4713, 114)\t0.1954011726830383\n",
      "  (4713, 42)\t0.1580923813906244\n",
      "  (4713, 40)\t0.15999570731815144\n",
      "  (4713, 27)\t0.1443018290286955\n",
      "  (4713, 26)\t0.46500890499647585\n",
      "  (4713, 24)\t0.14153617561716214\n",
      "  (4713, 23)\t0.1421027610028417\n",
      "  (4713, 8)\t0.11487337389953026\n",
      "  (4713, 1)\t0.07685965851904654\n",
      "  (4713, 0)\t0.06715011795513168\n",
      "  (4714, 1971)\t0.9233849158770843\n",
      "  (4714, 20)\t0.38387536666302235\n",
      "  (4715, 188)\t0.6220394839734561\n",
      "  (4715, 108)\t0.5618844181787352\n",
      "  (4715, 99)\t0.5453006335829627\n"
     ]
    }
   ],
   "source": [
    "print(\"Length of the vocabulary :\", len(tfidfvect.vocabulary_))\n",
    "print(\"Unique index assigned to each word : \", tfidfvect.vocabulary_)\n",
    "print(\"Sparse Matrix Representation : \", X_test_tfidf)"
   ]
  },
  {
   "cell_type": "code",
   "execution_count": 21,
   "id": "3ea3bcf1",
   "metadata": {},
   "outputs": [
    {
     "name": "stdout",
     "output_type": "stream",
     "text": [
      "Accuracy : 0.23918575063613232\n",
      "[[132  30  10   1   5   0   9 101   2  23 192  10  11  39   2  14]\n",
      " [ 62  34   0   4   0   2   6  14   0  11 125   3   3   3   0  18]\n",
      " [ 40   2  14   0   0   0   0  62   3   1  34   3   6  35   1   0]\n",
      " [ 11   0   0   8  17  12   4   1   0   5  23   0   7   0   0   5]\n",
      " [ 22   0   0   5  13   9   5   0   1   6  15   1   3   1   1   4]\n",
      " [ 26   3   1   6  10  28   7   3   1   5  39   1   4   8   8   7]\n",
      " [ 21   1   0   9   5  13  10   3   1  12  76   0  11   0   0  34]\n",
      " [ 72  12  16   0   1   2   1 153   0   0 183  10   5 114   3  28]\n",
      " [ 13   2   3   0   0   1   0   8   5   0  11   0  12   8   4   1]\n",
      " [ 36   5   2   2   1   5   3   9   0  49  49  11   7   3   0   5]\n",
      " [ 90  25   5   1   1   3  16 146   0  12 483  10   4  39   6  78]\n",
      " [ 47   2   1   2   0   4   6  58   0  20  75  12   6  33   0   3]\n",
      " [ 47   4   1   5   5   4   8  51   5   3  44  13  23  31   2   4]\n",
      " [ 34   6   1   0   0   1   0 172   1   2  86   5   4  76   5  15]\n",
      " [ 16   0   4   1   0   4   0  12   1   0  13   1   1   7  12   0]\n",
      " [ 10   4   0   2   2   5  12  24   0   8 194   2   1   3   1  76]]\n"
     ]
    }
   ],
   "source": [
    "modeltfidf = LogisticRegression(max_iter = 2000)\n",
    "\n",
    "modeltfidf.fit(X_train_tfidf, labels_reduced)\n",
    "\n",
    "preds_tfidf = modeltfidf.predict(X_test_tfidf)\n",
    "\n",
    "accuracy = metrics.accuracy_score(test_labels, preds_tfidf)\n",
    "print(f\"Accuracy : {accuracy}\")\n",
    "\n",
    "#Display the confusion matrix\n",
    "cm = confusion_matrix(test_labels, preds_tfidf)\n",
    "print(cm)"
   ]
  },
  {
   "cell_type": "markdown",
   "id": "0ed387bc",
   "metadata": {},
   "source": [
    "## 3 - Dense Representations from Topic Modeling\n",
    "\n",
    "Now, the goal is to re-use the bag-of-words representations we obtained earlier - but reduce their dimension through a **topic model**. Note that this allows to obtain reduced **document representations**, which we can again use directly to perform classification.\n",
    "- Do this with two models: ```TruncatedSVD``` and ```LatentDirichletAllocation```\n",
    "- Pick $300$ as the dimensionality of the latent representation (*i.e*, the number of topics)\n",
    "\n",
    "<div class='alert alert-block alert-info'>\n",
    "            Code:</div>"
   ]
  },
  {
   "cell_type": "code",
   "execution_count": 22,
   "id": "f4204cc9",
   "metadata": {},
   "outputs": [],
   "source": [
    "from sklearn.decomposition import TruncatedSVD, LatentDirichletAllocation\n",
    "\n",
    "# TruncatedSVD\n",
    "svd = TruncatedSVD(n_components=300)\n",
    "X_train_svd = svd.fit_transform(X_train_bow)\n",
    "\n",
    "X_test_svd = svd.transform(X_test_bow)\n",
    "\n",
    "# LatentDirichletAllocation\n",
    "lda = LatentDirichletAllocation(n_components=300)\n",
    "X_train_lda = lda.fit_transform(X_train_bow)\n",
    "\n",
    "X_test_lda = lda.transform(X_test_bow)"
   ]
  },
  {
   "cell_type": "code",
   "execution_count": 23,
   "id": "d9a4eafa",
   "metadata": {},
   "outputs": [
    {
     "data": {
      "text/plain": [
       "((18862, 300), (18862, 300))"
      ]
     },
     "execution_count": 23,
     "metadata": {},
     "output_type": "execute_result"
    }
   ],
   "source": [
    "X_train_svd.shape, X_train_lda.shape"
   ]
  },
  {
   "cell_type": "code",
   "execution_count": 24,
   "id": "90b05616",
   "metadata": {},
   "outputs": [
    {
     "name": "stdout",
     "output_type": "stream",
     "text": [
      "Accuracy : 0.23918575063613232\n",
      "              precision    recall  f1-score   support\n",
      "\n",
      "           1       0.22      0.23      0.23       581\n",
      "          10       0.23      0.11      0.15       285\n",
      "          11       0.21      0.08      0.12       201\n",
      "          12       0.26      0.11      0.15        93\n",
      "          13       0.32      0.26      0.28        86\n",
      "          14       0.21      0.13      0.16       157\n",
      "          15       0.19      0.08      0.11       196\n",
      "          16       0.22      0.26      0.24       600\n",
      "           2       0.27      0.15      0.19        68\n",
      "           3       0.25      0.17      0.20       187\n",
      "           4       0.27      0.56      0.37       919\n",
      "           5       0.19      0.07      0.10       269\n",
      "           6       0.25      0.10      0.14       250\n",
      "           7       0.18      0.15      0.16       408\n",
      "           8       0.25      0.19      0.22        72\n",
      "           9       0.27      0.20      0.23       344\n",
      "\n",
      "    accuracy                           0.24      4716\n",
      "   macro avg       0.24      0.18      0.19      4716\n",
      "weighted avg       0.23      0.24      0.22      4716\n",
      "\n",
      "[[134  28  14   1   5   2   5  86   2  18 203  12  16  39   3  13]\n",
      " [ 57  31   1   4   1   5   3  14   0   7 135   4   2   2   0  19]\n",
      " [ 34   3  17   0   0   2   0  53   8   1  43   1   1  33   2   3]\n",
      " [ 13   0   1  10  11  11   6   3   0   2  24   0   5   0   0   7]\n",
      " [ 15   0   0   4  22   6   6   1   1   8  19   0   2   0   1   1]\n",
      " [ 22   1   3   4  11  20  10   2   1   6  50   5   4   6   7   5]\n",
      " [ 12   4   0   6   3  14  15   2   3  10  96   2   6   1   0  22]\n",
      " [ 73  13  19   0   1   1   0 153   1   3 195  11  13  85   7  25]\n",
      " [ 16   1   2   0   1   1   0   4  10   0  19   0   3   7   2   2]\n",
      " [ 36   5   1   2   2   5   4   7   0  31  71   9   6   4   0   4]\n",
      " [ 74  27   6   1   4   7  14 117   0   9 517  17   4  47   6  69]\n",
      " [ 41   2   4   4   0   4   5  49   0  17  87  18   8  28   1   1]\n",
      " [ 32   8   3   1   5   8   2  43   7   5  66  10  25  23   6   6]\n",
      " [ 28   8   5   0   0   1   0 136   2   4 135   3   5  62   7  12]\n",
      " [ 10   0   4   1   0   4   0  13   2   1  20   1   0   2  14   0]\n",
      " [  8   5   0   1   3   6   9  16   0   4 208   4   1   8   1  70]]\n"
     ]
    }
   ],
   "source": [
    "modelsvd = LogisticRegression(max_iter = 200)\n",
    "\n",
    "modelsvd.fit(X_train_svd, labels_reduced)\n",
    "\n",
    "preds_svd = modelsvd.predict(X_test_svd)\n",
    "\n",
    "accuracy = metrics.accuracy_score(test_labels, preds_tfidf)\n",
    "print(f\"Accuracy : {accuracy}\")\n",
    "print(metrics.classification_report(test_labels, preds_svd))\n",
    "\n",
    "#Display the confusion matrix\n",
    "cm = confusion_matrix(test_labels, preds_svd)\n",
    "print(cm)"
   ]
  },
  {
   "cell_type": "code",
   "execution_count": 25,
   "id": "c4e2834d",
   "metadata": {},
   "outputs": [
    {
     "name": "stdout",
     "output_type": "stream",
     "text": [
      "Accuracy : 0.2383375742154368\n",
      "[[153   6   8   2   3   0   3  91   0  12 251   8  10  20   0  14]\n",
      " [ 42  11   0   3   0   4   2  13   0   7 181   0   1   5   0  16]\n",
      " [ 43   0  11   0   0   0   0  62   0   1  54   1   0  26   0   3]\n",
      " [ 16   1   0  12   7   5   3   1   0   6  33   0   5   1   0   3]\n",
      " [ 15   1   0   2   3   6   4   3   0   3  35   0   6   3   1   4]\n",
      " [ 34   0   2   3   4   7   2  13   0   3  66   1   4   7   6   5]\n",
      " [ 16   2   0   5   1   9   5   1   0   6 118   0   6   0   0  27]\n",
      " [ 99   2  10   0   0   2   0 169   0   0 229   5   7  56   0  21]\n",
      " [ 19   0   4   0   0   0   0   5   0   0  29   0   2   6   3   0]\n",
      " [ 46   0   0   2   1   1   3  11   0  30  79   4   5   1   0   4]\n",
      " [ 82   6   4   1   0   7   7 131   0   7 593   5   4  26   2  44]\n",
      " [ 58   0   0   2   0   1   2  59   0  18  98   5   4  19   0   3]\n",
      " [ 60   0   0   2   0   4   2  55   0   2  81   5  13  20   3   3]\n",
      " [ 40   8   4   0   0   0   0 146   0   3 148   3   1  43   4   8]\n",
      " [ 20   0   2   1   0   0   0  16   0   0  22   0   3   3   5   0]\n",
      " [ 12   2   0   1   0   5   5  17   0   8 225   0   1   4   0  64]]\n"
     ]
    }
   ],
   "source": [
    "modellda = LogisticRegression(max_iter = 2000)\n",
    "\n",
    "modellda.fit(X_train_lda, labels_reduced)\n",
    "\n",
    "preds_lda = modellda.predict(X_test_lda)\n",
    "\n",
    "accuracy = metrics.accuracy_score(test_labels, preds_lda)\n",
    "print(f\"Accuracy : {accuracy}\")\n",
    "\n",
    "#Display the confusion matrix\n",
    "cm = confusion_matrix(test_labels, preds_lda)\n",
    "print(cm)"
   ]
  },
  {
   "cell_type": "markdown",
   "id": "4893c948",
   "metadata": {},
   "source": [
    "<div class='alert alert-block alert-warning'>\n",
    "            Question:</div>\n",
    "            \n",
    "We picked $300$ as number of topics. What would be the procedure to follow if we wanted to choose this hyperparameter through the data ? "
   ]
  },
  {
   "cell_type": "markdown",
   "id": "d438deb3",
   "metadata": {},
   "source": [
    "We would have to use a grid search to find the best hyperparameters for the model and select the value of the hypermarameter such that the cumulative variance ratio is greater than 0.9."
   ]
  },
  {
   "cell_type": "markdown",
   "id": "60f74d75",
   "metadata": {},
   "source": [
    "## 4 - Dense Count-based Representations\n",
    "\n",
    "The following function allows to obtain very large-dimensional vectors for **words**. We will now follow a different procedure:\n",
    "- Step 1: Obtain the co-occurence matrix, based on the vocabulary, giving you a vector by word in the vocabulary.\n",
    "- Step 2: Apply an SVD to obtain **word embeddings** of dimension $300$, for each word in the vocabulary.\n",
    "- Step 3: Obtain document representations by aggregating embeddings associated to each word in the document.\n",
    "- Step 4: Train a classifier on the (document representations, label) pairs. \n",
    "\n",
    "Some instructions:\n",
    "- In step 1, use the ```co_occurence_matrix``` function, which you need to complete.\n",
    "- In step 2, use ```TruncatedSVD```to obtain word representations of dimension $300$ from the output of the ```co_occurence_matrix``` function.\n",
    "- In step 3, use the ```sentence_representations``` function, which you will need to complete.\n",
    "- In step 4, put the pipeline together by obtaining document representations for both training and testing data. Careful: the word embeddings must come from the *training data co-occurence matrix* only.\n",
    "\n",
    "Lastly, add a **Step 1b**: transform the co-occurence matrix into the PPMI matrix, and compare the results."
   ]
  },
  {
   "cell_type": "code",
   "execution_count": 26,
   "id": "05ed10f4",
   "metadata": {},
   "outputs": [],
   "source": [
    "def co_occurence_matrix(corpus, vocabulary, window=0):\n",
    "    \"\"\"\n",
    "    Params:\n",
    "        corpus (list of list of strings): corpus of sentences\n",
    "        vocabulary (dictionary): words to use in the matrix\n",
    "        window (int): size of the context window; when 0, the context is the whole sentence\n",
    "    Returns:\n",
    "        matrix (array of size (len(vocabulary), len(vocabulary))): the co-oc matrix, using the same ordering as the vocabulary given in input    \n",
    "    \"\"\" \n",
    "    l = len(vocabulary)\n",
    "    M = np.zeros((l,l))\n",
    "    for sent in corpus:\n",
    "        # Get the sentence\n",
    "        sent = preprocess_text(sent)\n",
    "        # Obtain the indexes of the words in the sentence from the vocabulary \n",
    "        sent_idx = []\n",
    "        for word in sent:\n",
    "            if word in vocabulary:\n",
    "                sent_idx.append(vocabulary[word])\n",
    "            else:\n",
    "                sent_idx.append(vocabulary['UNK'])\n",
    "        # Avoid one-word sentences - can create issues in normalization:\n",
    "        if len(sent_idx) == 1:\n",
    "                sent_idx.append(len(vocabulary)-1) # This adds an Unkown word to the sentence\n",
    "        # Go through the indexes and add 1 / dist(i,j) to M[i,j] if words of index i and j appear in the same window\n",
    "        for i, idx in enumerate(sent_idx):\n",
    "            # If we consider a limited context:\n",
    "            if window > 0:\n",
    "                # Create a list containing the indexes that are on the left of the current index 'idx_i'\n",
    "                l_ctx_idx = sent_idx[max(0, i-window):i]\n",
    "            # If the context is the entire document:\n",
    "            else:\n",
    "                # The list containing the left context is easier to create\n",
    "                l_ctx_idx = sent_idx[:i]\n",
    "            # Go through the list and update M[i,j] and M[j,i]:        \n",
    "            for j, ctx_idx in enumerate(l_ctx_idx):\n",
    "                M[idx, ctx_idx] += 1 / abs(i-j)\n",
    "                M[ctx_idx, idx] += 1 / abs(i-j)\n",
    "    return M  "
   ]
  },
  {
   "cell_type": "markdown",
   "id": "7be497b3",
   "metadata": {},
   "source": [
    "<div class='alert alert-block alert-info'>\n",
    "            Code:</div>"
   ]
  },
  {
   "cell_type": "code",
   "execution_count": 27,
   "id": "e843cc8b",
   "metadata": {},
   "outputs": [],
   "source": [
    "# Obtain the co-occurence matrix, transform it as needed, reduce its dimension\n",
    "co_occ_train = co_occurence_matrix(texts_reduced, Vocabulary, window=5)\n",
    "co_occ_test = co_occurence_matrix(texts_reduced, Vocabulary, window=5)"
   ]
  },
  {
   "cell_type": "code",
   "execution_count": 28,
   "id": "34383029",
   "metadata": {},
   "outputs": [],
   "source": [
    "svd = TruncatedSVD(n_components=300)\n",
    "X_train_svd = svd.fit_transform(co_occ_train)"
   ]
  },
  {
   "cell_type": "markdown",
   "id": "b312da12",
   "metadata": {},
   "source": [
    "<div class='alert alert-block alert-info'>\n",
    "            Code:</div>"
   ]
  },
  {
   "cell_type": "code",
   "execution_count": 29,
   "id": "e413841b",
   "metadata": {},
   "outputs": [],
   "source": [
    "def sentence_representations(texts, vocabulary, embeddings, np_func=np.mean):\n",
    "    \"\"\"\n",
    "    Represent the sentences as a combination of the vector of its words.\n",
    "    Parameters\n",
    "    ----------\n",
    "    texts : a list of sentences   \n",
    "    vocabulary : dict\n",
    "        From words to indexes of vector.\n",
    "    embeddings : Matrix containing word representations\n",
    "    np_func : function (default: np.sum)\n",
    "        A numpy matrix operation that can be applied columnwise, \n",
    "        like `np.mean`, `np.sum`, or `np.prod`. \n",
    "    Returns\n",
    "    -------\n",
    "    np.array, dimension `(len(texts), embeddings.shape[1])`            \n",
    "    \"\"\"\n",
    "    representations = []\n",
    "    for text in texts:\n",
    "        sent = preprocess_text(text)\n",
    "        indexes = [vocabulary.get(token, vocabulary['UNK']) for token in sent] # Indexes of words in the sentence obtained thanks to the vocabulary\n",
    "        sentrep = np_func(embeddings[indexes], axis=0) # Embeddings of words in the sentence, aggregated thanks to the function\n",
    "        representations.append(sentrep)\n",
    "    representations = np.array(representations)    \n",
    "    return representations"
   ]
  },
  {
   "cell_type": "code",
   "execution_count": 30,
   "id": "b6aee0c3",
   "metadata": {},
   "outputs": [],
   "source": [
    "#step3\n",
    "sentence_representations_train = sentence_representations(texts_reduced, Vocabulary, X_train_svd)\n",
    "sentence_representations_test = sentence_representations(test_texts, Vocabulary, X_train_svd)"
   ]
  },
  {
   "cell_type": "code",
   "execution_count": 31,
   "id": "7a13580e",
   "metadata": {},
   "outputs": [
    {
     "data": {
      "text/plain": [
       "((18862, 300), (4716, 300))"
      ]
     },
     "execution_count": 31,
     "metadata": {},
     "output_type": "execute_result"
    }
   ],
   "source": [
    "sentence_representations_train.shape, sentence_representations_test.shape"
   ]
  },
  {
   "cell_type": "markdown",
   "id": "2462a0a2",
   "metadata": {},
   "source": [
    "<div class='alert alert-block alert-info'>\n",
    "            Code:</div>"
   ]
  },
  {
   "cell_type": "code",
   "execution_count": 32,
   "id": "a5256e11",
   "metadata": {},
   "outputs": [
    {
     "name": "stdout",
     "output_type": "stream",
     "text": [
      "              precision    recall  f1-score   support\n",
      "\n",
      "           1       0.21      0.22      0.21       581\n",
      "          10       0.28      0.10      0.15       285\n",
      "          11       0.24      0.09      0.13       201\n",
      "          12       0.24      0.11      0.15        93\n",
      "          13       0.27      0.22      0.24        86\n",
      "          14       0.15      0.13      0.14       157\n",
      "          15       0.12      0.05      0.07       196\n",
      "          16       0.21      0.29      0.25       600\n",
      "           2       0.18      0.12      0.14        68\n",
      "           3       0.28      0.22      0.25       187\n",
      "           4       0.30      0.55      0.38       919\n",
      "           5       0.17      0.06      0.09       269\n",
      "           6       0.21      0.10      0.13       250\n",
      "           7       0.21      0.17      0.19       408\n",
      "           8       0.22      0.21      0.21        72\n",
      "           9       0.30      0.26      0.28       344\n",
      "\n",
      "    accuracy                           0.25      4716\n",
      "   macro avg       0.22      0.18      0.19      4716\n",
      "weighted avg       0.24      0.25      0.23      4716\n",
      "\n",
      "[[125  20  10   0   7   5   5 112   3  21 189  15  16  27   4  22]\n",
      " [ 50  29   0   3   1   4   4  21   0   7 139   1   7   1   1  17]\n",
      " [ 28   3  18   0   0   0   2  65   9   1  29   5   2  33   5   1]\n",
      " [ 11   1   0  10  10  22   6   0   0   9  17   0   2   1   0   4]\n",
      " [ 12   1   1   2  19  13   8   0   1   9  11   2   3   0   2   2]\n",
      " [ 21   1   2   6  12  20   8   3   2  11  34   4   7   9   9   8]\n",
      " [ 19   6   0   8   4  18   9   3   1  11  84   0   7   0   0  26]\n",
      " [ 72   9  16   0   1   3   0 177   2   1 190  11  13  79   6  20]\n",
      " [ 15   2   4   0   1   2   2   4   8   0   7   0  11   6   4   2]\n",
      " [ 37   1   3   2   1   4   6   9   0  42  55  10   6   3   0   8]\n",
      " [ 70  20   7   2   5  10  11 144   1   6 501  14   4  42   9  73]\n",
      " [ 43   0   1   2   0   4   5  55   0  17  87  17   5  28   0   5]\n",
      " [ 43   3   1   2   8  10   1  48  10   3  48  13  24  29   5   2]\n",
      " [ 27   4   7   0   0   4   1 147   5   3 104   8   7  69   7  15]\n",
      " [ 11   0   4   2   0   5   0  14   2   0  17   0   0   2  15   0]\n",
      " [  8   4   0   2   2  11   8  28   0  11 172   1   1   7   1  88]]\n"
     ]
    },
    {
     "name": "stderr",
     "output_type": "stream",
     "text": [
      "d:\\Ecole\\Telecom\\2A\\git_folder\\.env311\\Lib\\site-packages\\sklearn\\linear_model\\_logistic.py:469: ConvergenceWarning: lbfgs failed to converge (status=1):\n",
      "STOP: TOTAL NO. of ITERATIONS REACHED LIMIT.\n",
      "\n",
      "Increase the number of iterations (max_iter) or scale the data as shown in:\n",
      "    https://scikit-learn.org/stable/modules/preprocessing.html\n",
      "Please also refer to the documentation for alternative solver options:\n",
      "    https://scikit-learn.org/stable/modules/linear_model.html#logistic-regression\n",
      "  n_iter_i = _check_optimize_result(\n"
     ]
    }
   ],
   "source": [
    "model = LogisticRegression(max_iter = 4000)\n",
    "model.fit(sentence_representations_train, labels_reduced)\n",
    "test_preds = model.predict(sentence_representations_test)\n",
    "print(metrics.classification_report(test_labels, test_preds))\n",
    "\n",
    "\n",
    "#Display the confusion matrix\n",
    "cm = confusion_matrix(test_labels, test_preds)\n",
    "print(cm)\n"
   ]
  },
  {
   "cell_type": "code",
   "execution_count": null,
   "id": "a6a40cee",
   "metadata": {},
   "outputs": [],
   "source": []
  },
  {
   "cell_type": "markdown",
   "id": "4ab103b7",
   "metadata": {},
   "source": [
    "Now with PPMI matrix"
   ]
  },
  {
   "cell_type": "code",
   "execution_count": 33,
   "id": "7832550e",
   "metadata": {},
   "outputs": [],
   "source": [
    "def ppmi_matrix(co_occ_matrix):\n",
    "    l = co_occ_matrix.shape[0]\n",
    "    eps = 10**-50\n",
    "    ppmi_matrix = np.zeros((l,l))\n",
    "    sum_co_occ = np.sum(co_occ_matrix)\n",
    "    sum_co_occ_col = np.sum(co_occ_matrix, axis=0)\n",
    "    sum_co_occ_row = np.sum(co_occ_matrix, axis=1)\n",
    "    for i in range(l):\n",
    "        for j in range(l):\n",
    "            res = (co_occ_matrix[i,j]*sum_co_occ)/(sum_co_occ_row[i]*sum_co_occ_col[j])\n",
    "            if res > 1:\n",
    "                ppmi_matrix[i,j] = np.log(res)\n",
    "    return ppmi_matrix\n",
    "\n",
    "ppmi_train = ppmi_matrix(co_occ_train)\n",
    "ppmi_test = ppmi_matrix(co_occ_test)"
   ]
  },
  {
   "cell_type": "code",
   "execution_count": 34,
   "id": "e7f1b4a3",
   "metadata": {},
   "outputs": [],
   "source": [
    "svd = TruncatedSVD(n_components=300)\n",
    "X_train_svd_ppmi = svd.fit_transform(ppmi_train)\n",
    "X_test_svd_ppmi = svd.transform(ppmi_test)"
   ]
  },
  {
   "cell_type": "code",
   "execution_count": 35,
   "id": "9c1ce37c",
   "metadata": {},
   "outputs": [
    {
     "name": "stdout",
     "output_type": "stream",
     "text": [
      "PPMI model :\n",
      "              precision    recall  f1-score   support\n",
      "\n",
      "           1       0.12      0.09      0.10       581\n",
      "          10       0.09      0.11      0.10       285\n",
      "          11       0.05      0.02      0.03       201\n",
      "          12       0.01      0.03      0.02        93\n",
      "          13       0.02      0.03      0.03        86\n",
      "          14       0.04      0.12      0.06       157\n",
      "          15       0.03      0.09      0.05       196\n",
      "          16       0.05      0.01      0.01       600\n",
      "           2       0.01      0.03      0.01        68\n",
      "           3       0.08      0.06      0.07       187\n",
      "           4       0.18      0.16      0.17       919\n",
      "           5       0.00      0.00      0.00       269\n",
      "           6       0.03      0.04      0.04       250\n",
      "           7       0.07      0.04      0.05       408\n",
      "           8       0.01      0.03      0.01        72\n",
      "           9       0.09      0.07      0.08       344\n",
      "\n",
      "    accuracy                           0.07      4716\n",
      "   macro avg       0.06      0.06      0.05      4716\n",
      "weighted avg       0.08      0.07      0.07      4716\n",
      "\n",
      "\n",
      "[[ 52  45  17  32  16  55  48  18  19  31 105   9  40  18  45  31]\n",
      " [ 17  30   4   5   2  34  30   7  19  11  42   4  33  19  16  12]\n",
      " [ 30  13   5  12   3  30   9   2   1   5  43   5  17  12   3  11]\n",
      " [  0  12   1   3   9   8  21   0   5   6  11   1   1   3   9   3]\n",
      " [ 11   9   4   2   3   7  12   2   5   2   9   0   6   4   5   5]\n",
      " [ 12   6   2   9   6  19  25   5  16  14  14   1   4   2  11  11]\n",
      " [ 15  11   4   6   6  18  18  10  18   7  19   7  17  13  18   9]\n",
      " [ 80  37   9  44  16  65  81   5  15   5 139   4  33  18   9  40]\n",
      " [  8   4   6   4   7   4   8   2   2   2   6   0   8   1   2   4]\n",
      " [ 11  11   3  10  13  16  23   4  13  12  34   1  16   6  12   2]\n",
      " [ 78  74  13  62  19 100 113  20  31  24 150  11  82  63  38  41]\n",
      " [ 27  20   6  24  11  26  19   2  11   3  69   0   8  13  20  10]\n",
      " [ 24  16   6  21  10  19  30   4   5   8  69   0  11   3  12  12]\n",
      " [ 30  13  14  37  18  67  52   5  11  10  66   4  21  15   7  38]\n",
      " [  6   4   5   2   4  12   8   0   3   0  18   0   2   0   2   6]\n",
      " [ 24  16   3  33   9  26  46  13  29  16  58   6  22  15   4  24]]\n"
     ]
    },
    {
     "name": "stderr",
     "output_type": "stream",
     "text": [
      "d:\\Ecole\\Telecom\\2A\\git_folder\\.env311\\Lib\\site-packages\\sklearn\\linear_model\\_logistic.py:469: ConvergenceWarning: lbfgs failed to converge (status=1):\n",
      "STOP: TOTAL NO. of ITERATIONS REACHED LIMIT.\n",
      "\n",
      "Increase the number of iterations (max_iter) or scale the data as shown in:\n",
      "    https://scikit-learn.org/stable/modules/preprocessing.html\n",
      "Please also refer to the documentation for alternative solver options:\n",
      "    https://scikit-learn.org/stable/modules/linear_model.html#logistic-regression\n",
      "  n_iter_i = _check_optimize_result(\n"
     ]
    }
   ],
   "source": [
    "sentence_representations_train_ppmi = sentence_representations(texts_reduced, Vocabulary, X_train_svd_ppmi)\n",
    "sentence_representations_test_ppmi = sentence_representations(test_texts, Vocabulary, X_train_svd_ppmi)\n",
    "\n",
    "model_ppmi = LogisticRegression(max_iter = 2000)\n",
    "model_ppmi.fit(sentence_representations_train, labels_reduced)\n",
    "test_preds_ppmi = model_ppmi.predict(sentence_representations_test_ppmi)\n",
    "\n",
    "print(\"PPMI model :\")\n",
    "print(metrics.classification_report(test_labels, test_preds_ppmi))\n",
    "\n",
    "print()\n",
    "      \n",
    "#Display the confusion matrix\n",
    "cm = confusion_matrix(test_labels, test_preds_ppmi)\n",
    "print(cm)\n"
   ]
  },
  {
   "cell_type": "markdown",
   "id": "7a9dbec5",
   "metadata": {},
   "source": [
    "## 5 - Dense Prediction-based Representations\n",
    "\n",
    "We will now use word embeddings from ```Word2Vec```: which we will train ourselves\n",
    "\n",
    "We will use the ```gensim``` library for its implementation of word2vec in python. Since we want to keep the same vocabulary as before: we'll first create the model, then re-use the vocabulary we generated above. "
   ]
  },
  {
   "cell_type": "code",
   "execution_count": 36,
   "id": "80339bee",
   "metadata": {},
   "outputs": [
    {
     "data": {
      "text/plain": [
       "(18862, 3772)"
      ]
     },
     "execution_count": 36,
     "metadata": {},
     "output_type": "execute_result"
    }
   ],
   "source": [
    "from gensim.models import Word2Vec\n",
    "X_train_bow.shape"
   ]
  },
  {
   "cell_type": "code",
   "execution_count": 37,
   "id": "2383776e",
   "metadata": {},
   "outputs": [],
   "source": [
    "model = Word2Vec(vector_size=300,\n",
    "                 window=5,\n",
    "                 null_word= len(Vocabulary_word_counts))\n",
    "model.build_vocab_from_freq(Vocabulary_word_counts)"
   ]
  },
  {
   "cell_type": "markdown",
   "id": "0b48e7ec",
   "metadata": {},
   "source": [
    "<div class='alert alert-block alert-info'>\n",
    "            Code:</div>"
   ]
  },
  {
   "cell_type": "code",
   "execution_count": 38,
   "id": "895599f4",
   "metadata": {},
   "outputs": [],
   "source": [
    "# The model is to be trained with a list of tokenized sentences, containing the full training dataset.\n",
    "preprocessed_corpus = vect_preprocess_text(texts_reduced)"
   ]
  },
  {
   "cell_type": "code",
   "execution_count": null,
   "id": "9ac768c7",
   "metadata": {},
   "outputs": [],
   "source": [
    "model.train(preprocessed_corpus, total_examples=model.corpus_count, epochs=30)"
   ]
  },
  {
   "cell_type": "markdown",
   "id": "cb5e1daa",
   "metadata": {},
   "source": [
    "Then, we can re-use the ```sentence_representations```function like before to obtain document representations, and apply classification. \n",
    "<div class='alert alert-block alert-info'>\n",
    "            Code:</div>"
   ]
  },
  {
   "cell_type": "code",
   "execution_count": null,
   "id": "66123a9b",
   "metadata": {},
   "outputs": [],
   "source": [
    "#hen, we can re-use the sentence_representations function like before to obtain document representations, and apply classification. \n",
    "sentence_representations_train_w2v = sentence_representations(texts_reduced, Vocabulary, model.wv)\n",
    "sentence_representations_test_w2v = sentence_representations(test_texts, Vocabulary, model.wv)\n",
    "\n",
    "model_w2v = LogisticRegression(max_iter = 2000)\n",
    "model_w2v.fit(sentence_representations_train_w2v, labels_reduced)\n",
    "test_preds_w2v = model_w2v.predict(sentence_representations_test_w2v)\n",
    "\n",
    "print(\"Word2Vec model :\")\n",
    "print(metrics.classification_report(test_labels, test_preds_w2v))"
   ]
  },
  {
   "cell_type": "code",
   "execution_count": null,
   "id": "8a18b961",
   "metadata": {},
   "outputs": [],
   "source": []
  },
  {
   "cell_type": "markdown",
   "id": "b21842b8",
   "metadata": {},
   "source": [
    "<div class='alert alert-block alert-warning'>\n",
    "            Question:</div>\n",
    "            \n",
    "Comment on the results. What is the big issue with the dataset that using embeddings did not solve ? \n",
    "**Given this type of data**, what would you propose if you needed solve this task (i.e, reach a reasonnable performance) in an industrial context ? "
   ]
  },
  {
   "cell_type": "markdown",
   "id": "2d9520bd",
   "metadata": {},
   "source": []
  },
  {
   "cell_type": "code",
   "execution_count": null,
   "id": "601c778f",
   "metadata": {},
   "outputs": [],
   "source": []
  }
 ],
 "metadata": {
  "kernelspec": {
   "display_name": "Python 3 (ipykernel)",
   "language": "python",
   "name": "python3"
  },
  "language_info": {
   "codemirror_mode": {
    "name": "ipython",
    "version": 3
   },
   "file_extension": ".py",
   "mimetype": "text/x-python",
   "name": "python",
   "nbconvert_exporter": "python",
   "pygments_lexer": "ipython3",
   "version": "3.11.8"
  }
 },
 "nbformat": 4,
 "nbformat_minor": 5
}
